{
  "cells": [
    {
      "cell_type": "markdown",
      "metadata": {
        "id": "view-in-github",
        "colab_type": "text"
      },
      "source": [
        "<a href=\"https://colab.research.google.com/github/byu-cs-452/byu-cs-452-class-content/blob/main/mongo/Step2.ipynb\" target=\"_parent\"><img src=\"https://colab.research.google.com/assets/colab-badge.svg\" alt=\"Open In Colab\"/></a>"
      ]
    },
    {
      "cell_type": "markdown",
      "metadata": {
        "id": "0wBvd3pc3VuP"
      },
      "source": [
        "## Let's practice querying Mongo!\n",
        "*Learning Goal*: Use what you've learned to do mongo queries."
      ]
    },
    {
      "cell_type": "code",
      "execution_count": null,
      "metadata": {
        "id": "9PqgD3_f3VuQ"
      },
      "outputs": [],
      "source": [
        "# Install the pymongo library\n",
        "%pip install pymongo"
      ]
    },
    {
      "cell_type": "code",
      "execution_count": 2,
      "metadata": {
        "id": "R99avI6v3VuQ"
      },
      "outputs": [
        {
          "name": "stdout",
          "output_type": "stream",
          "text": [
            "Ping result: {'ok': 1}\n"
          ]
        }
      ],
      "source": [
        "# Connect to a provided sandbox environment\n",
        "\n",
        "import pymongo\n",
        "import os\n",
        "import json\n",
        "\n",
        "user = \"class\"\n",
        "password = \"184vLpDKvOhvv528\"\n",
        "cluster = \"cluster0\"\n",
        "dnsprefix = \"wvdjn\"\n",
        "connectionUrl = f\"mongodb+srv://{user}:{password}@{cluster}.{dnsprefix}.mongodb.net/\"\n",
        "client = pymongo.MongoClient(connectionUrl)\n",
        "print(f\"Ping result: {client.admin.command('ping')}\")\n",
        "\n",
        "db = client.get_database(\"movies\")\n",
        "movies = db.movies # get the movies \"collection\" from the movies \"database\"\n"
      ]
    },
    {
      "cell_type": "code",
      "execution_count": 3,
      "metadata": {
        "id": "IBh92w4L3VuR"
      },
      "outputs": [
        {
          "data": {
            "text/plain": [
              "[{'_id': 'movie:1',\n",
              "  'title': 'Vertigo',\n",
              "  'year': 1958,\n",
              "  'genre': 'drama',\n",
              "  'summary': \"Scottie Ferguson, ancien inspecteur de police, est sujet au vertige depuis qu'il a vu mourir son collègue. Elster, son ami, le charge de surveiller sa femme, Madeleine, ayant des tendances suicidaires. Amoureux de la jeune femme Scottie ne remarque pas le piège qui se trame autour de lui et dont il va être la victime... \",\n",
              "  'country': 'DE',\n",
              "  'director': {'_id': 'artist:3',\n",
              "   'last_name': 'Hitchcock',\n",
              "   'first_name': 'Alfred',\n",
              "   'birth_date': '1899'},\n",
              "  'actors': [{'_id': 'artist:15',\n",
              "    'first_name': 'James',\n",
              "    'last_name': 'Stewart',\n",
              "    'birth_date': '1908',\n",
              "    'role': 'John Ferguson'},\n",
              "   {'_id': 'artist:16',\n",
              "    'first_name': 'Kim',\n",
              "    'last_name': 'Novak',\n",
              "    'birth_date': '1925',\n",
              "    'role': 'Madeleine Elster'},\n",
              "   {'_id': 'artist:282',\n",
              "    'first_name': 'Arthur',\n",
              "    'last_name': 'Pierre',\n",
              "    'birth_date': None,\n",
              "    'role': None}]}]"
            ]
          },
          "execution_count": 3,
          "metadata": {},
          "output_type": "execute_result"
        }
      ],
      "source": [
        "# Look at what a sample movie doc looks like to get a sense of the schema\n",
        "\n",
        "list(movies.find({}).limit(1))"
      ]
    },
    {
      "cell_type": "markdown",
      "metadata": {
        "id": "Kp7ckBf63VuR"
      },
      "source": [
        "*In all cases please use project to limit the output to relevant and readable information!*"
      ]
    },
    {
      "cell_type": "code",
      "execution_count": null,
      "metadata": {
        "id": "AhGuHqKZ3VuR"
      },
      "outputs": [
        {
          "data": {
            "text/plain": [
              "[{'_id': 'movie:2',\n",
              "  'title': 'Alien',\n",
              "  'year': 1979,\n",
              "  'genre': 'Science-fiction',\n",
              "  'summary': 'Près d\\'un vaisseau spatial échoué sur une lointaine planète, des Terriens en mission découvrent de bien étranges \"oeufs\". Ils en ramènent un à bord, ignorant qu\\'ils viennent d\\'introduire parmi eux un huitième passager particulièrement féroce et meurtrier. ',\n",
              "  'country': 'USA',\n",
              "  'director': {'_id': 'artist:4',\n",
              "   'last_name': 'Scott',\n",
              "   'first_name': 'Ridley',\n",
              "   'birth_date': '1937'},\n",
              "  'actors': [{'_id': 'artist:5',\n",
              "    'first_name': 'Sigourney',\n",
              "    'last_name': 'Weaver',\n",
              "    'birth_date': '1949',\n",
              "    'role': 'Ripley'}]}]"
            ]
          },
          "execution_count": 30,
          "metadata": {},
          "output_type": "execute_result"
        }
      ],
      "source": [
        "# 1 Find the movies titled \"Gladiator\".\n",
        "\n",
        "list(movies.find(\n",
        "  {'title': 'Alien'},\n",
        "  # {'_id': 0, 'title': 1, 'year': 1}\n",
        "))"
      ]
    },
    {
      "cell_type": "code",
      "execution_count": 26,
      "metadata": {
        "id": "euOHeMcH3VuR"
      },
      "outputs": [
        {
          "data": {
            "text/plain": [
              "['Action',\n",
              " 'Comédie',\n",
              " 'Fantastique',\n",
              " 'Guerre',\n",
              " 'Horreur',\n",
              " 'Science-fiction',\n",
              " 'Suspense',\n",
              " 'Thriller',\n",
              " 'Western',\n",
              " 'crime',\n",
              " 'drama',\n",
              " 'romance']"
            ]
          },
          "execution_count": 26,
          "metadata": {},
          "output_type": "execute_result"
        }
      ],
      "source": [
        "# 2 List the distinct genre values of movies.\n",
        "\n",
        "movies.distinct('genre')\n"
      ]
    },
    {
      "cell_type": "code",
      "execution_count": 33,
      "metadata": {
        "id": "6RahsY863VuR"
      },
      "outputs": [
        {
          "data": {
            "text/plain": [
              "[{'title': 'Alien', 'genre': 'Science-fiction'},\n",
              " {'title': 'Sleepy Hollow', 'genre': 'Fantastique'},\n",
              " {'title': 'Twelve Monkeys', 'genre': 'Science-fiction'},\n",
              " {'title': 'Terminator', 'genre': 'Science-fiction'},\n",
              " {'title': 'Matrix', 'genre': 'Science-fiction'},\n",
              " {'title': 'Le retour du Jedi', 'genre': 'Science-fiction'},\n",
              " {'title': 'Le cinquième élément', 'genre': 'Science-fiction'},\n",
              " {'title': 'The Matrix reloaded', 'genre': 'Science-fiction'},\n",
              " {'title': 'The Matrix Revolutions', 'genre': 'Science-fiction'},\n",
              " {'title': 'Sixième sens', 'genre': 'Fantastique'},\n",
              " {'title': 'Soleil vert', 'genre': 'Science-fiction'},\n",
              " {'title': 'Interstellar', 'genre': 'Science-fiction'},\n",
              " {'title': 'Inception', 'genre': 'Science-fiction'},\n",
              " {'title': 'The Dark Knight', 'genre': 'Science-fiction'},\n",
              " {'title': 'The Dark Knight Rises', 'genre': 'Science-fiction'}]"
            ]
          },
          "execution_count": 33,
          "metadata": {},
          "output_type": "execute_result"
        }
      ],
      "source": [
        "# 3 List just the titles of movies of \"crime\" or \"drama\" genre.\n",
        "list(movies.find(\n",
        "  {\"$or\": [\n",
        "    {\"genre\": \"Fantastique\"},\n",
        "    {\"genre\": \"Science-fiction\"}  \n",
        "  ]},\n",
        "  {\"_id\": 0, \"title\": 1, \"genre\": 1}\n",
        "))"
      ]
    },
    {
      "cell_type": "code",
      "execution_count": 32,
      "metadata": {
        "id": "d67-dKQg3VuS"
      },
      "outputs": [
        {
          "data": {
            "text/plain": [
              "[{'title': 'Les dents de la mer', 'year': 1975},\n",
              " {'title': 'Le monde perdu', 'year': 1997}]"
            ]
          },
          "execution_count": 32,
          "metadata": {},
          "output_type": "execute_result"
        }
      ],
      "source": [
        "# 4 Find the list of movies directed by \"Hitchcock\", display only title and year and sort them by year (asc).\n",
        "\n",
        "list(movies.find(\n",
        "  {\"director.last_name\": \"Spielberg\"},\n",
        "  {\"_id\": 0, \"title\": 1, \"year\": 1}\n",
        ").sort({\"year\": 1}))"
      ]
    },
    {
      "cell_type": "code",
      "execution_count": 13,
      "metadata": {
        "id": "4kULr6R53VuS"
      },
      "outputs": [
        {
          "data": {
            "text/plain": [
              "[{'title': 'Inception', 'year': 2010},\n",
              " {'title': 'The Dark Knight Rises', 'year': 2012}]"
            ]
          },
          "execution_count": 13,
          "metadata": {},
          "output_type": "execute_result"
        }
      ],
      "source": [
        "# 5 List the movie titles where \"Cotillard\" played.\n",
        "\n",
        "list(movies.find(\n",
        "  {\"actors.last_name\": \"Cotillard\"},\n",
        "  {\"_id\": 0, \"title\": 1, \"year\": 1}\n",
        "))"
      ]
    },
    {
      "cell_type": "code",
      "execution_count": 22,
      "metadata": {
        "id": "AvX4qnXR3VuS"
      },
      "outputs": [
        {
          "data": {
            "text/plain": [
              "[{'title': 'Alien', 'year': 1979},\n",
              " {'title': 'Sacrifice', 'year': 1986},\n",
              " {'title': 'Impitoyable', 'year': 1992},\n",
              " {'title': 'Blade Runner', 'year': 1982},\n",
              " {'title': 'Piège de cristal', 'year': 1988},\n",
              " {'title': '58 minutes pour vivre', 'year': 1990},\n",
              " {'title': 'Van Gogh', 'year': 1990},\n",
              " {'title': 'Seven', 'year': 1995},\n",
              " {'title': 'Twelve Monkeys', 'year': 1995},\n",
              " {'title': 'Le last_name de la rose', 'year': 1986},\n",
              " {'title': 'Pulp fiction', 'year': 1994},\n",
              " {'title': 'Terminator', 'year': 1984},\n",
              " {'title': 'Les dents de la mer', 'year': 1975},\n",
              " {'title': 'Le silence des agneaux', 'year': 1990},\n",
              " {'title': 'Kagemusha', 'year': 1980},\n",
              " {'title': 'Le gendarme et les extra-terrestres', 'year': 1978},\n",
              " {'title': 'Rain Man', 'year': 1988},\n",
              " {'title': 'Top Gun', 'year': 1986},\n",
              " {'title': 'Les bronzés font du ski', 'year': 1979},\n",
              " {'title': 'Le retour du Jedi', 'year': 1983},\n",
              " {'title': 'Reservoir dogs', 'year': 1992},\n",
              " {'title': 'Shining', 'year': 1980},\n",
              " {'title': 'Léon', 'year': 1994},\n",
              " {'title': 'Nikita', 'year': 1990},\n",
              " {'title': 'Le grand bleu', 'year': 1988},\n",
              " {'title': 'King of New York', 'year': 1990},\n",
              " {'title': 'De bruit et de fureur', 'year': 1988},\n",
              " {'title': 'Usual suspects', 'year': 1995},\n",
              " {'title': 'Bad Lieutenant', 'year': 1992},\n",
              " {'title': 'Le parrain', 'year': 1972},\n",
              " {'title': 'Le parrain II', 'year': 1974},\n",
              " {'title': 'Le parrain III', 'year': 1990},\n",
              " {'title': 'Une journée en enfer', 'year': 1995},\n",
              " {'title': 'Soleil vert', 'year': 1973},\n",
              " {'title': 'Heat', 'year': 1995},\n",
              " {'title': 'Taxi driver', 'year': 1976},\n",
              " {'title': 'Les affranchis', 'year': 1990},\n",
              " {'title': 'Casino', 'year': 1995},\n",
              " {'title': 'Le dernier métro', 'year': 1980}]"
            ]
          },
          "execution_count": 22,
          "metadata": {},
          "output_type": "execute_result"
        }
      ],
      "source": [
        "# 6 List the movie titles released between 1967 and 1995 (inclusive).\n",
        "\n",
        "list(\n",
        "  movies.find(\n",
        "    {\n",
        "      \"$and\": [\n",
        "        {\"year\": {\"$gte\": 1967}},\n",
        "        {\"year\": {\"$lte\": 1995}}\n",
        "      ]\n",
        "    },\n",
        "    {\"_id\": 0, \"title\": 1, \"year\": 1}\n",
        "  )\n",
        ")"
      ]
    },
    {
      "cell_type": "code",
      "execution_count": 23,
      "metadata": {
        "id": "OIPrfdPi3VuS"
      },
      "outputs": [
        {
          "data": {
            "text/plain": [
              "[{'title': 'Le parrain', 'year': 1972, 'director': {'last_name': 'Coppola'}},\n",
              " {'title': 'Soleil vert',\n",
              "  'year': 1973,\n",
              "  'director': {'last_name': 'Fleischer'}},\n",
              " {'title': 'Le parrain II',\n",
              "  'year': 1974,\n",
              "  'director': {'last_name': 'Coppola'}},\n",
              " {'title': 'Les dents de la mer',\n",
              "  'year': 1975,\n",
              "  'director': {'last_name': 'Spielberg'}},\n",
              " {'title': 'Taxi driver', 'year': 1976, 'director': {'last_name': 'Scorcese'}},\n",
              " {'title': 'Le gendarme et les extra-terrestres',\n",
              "  'year': 1978,\n",
              "  'director': {'last_name': 'Girault'}},\n",
              " {'title': 'Alien', 'year': 1979, 'director': {'last_name': 'Scott'}},\n",
              " {'title': 'Les bronzés font du ski',\n",
              "  'year': 1979,\n",
              "  'director': {'last_name': 'Leconte'}},\n",
              " {'title': 'Le dernier métro',\n",
              "  'year': 1980,\n",
              "  'director': {'last_name': 'Truffaut'}},\n",
              " {'title': 'Shining', 'year': 1980, 'director': {'last_name': 'Kubrick'}},\n",
              " {'title': 'Kagemusha', 'year': 1980, 'director': {'last_name': 'Kurozawa'}},\n",
              " {'title': 'Blade Runner', 'year': 1982, 'director': {'last_name': 'Scott'}},\n",
              " {'title': 'Le retour du Jedi',\n",
              "  'year': 1983,\n",
              "  'director': {'last_name': 'Marquand'}},\n",
              " {'title': 'Terminator', 'year': 1984, 'director': {'last_name': 'Cameron'}},\n",
              " {'title': 'Sacrifice', 'year': 1986, 'director': {'last_name': 'Tarkovski'}},\n",
              " {'title': 'Le last_name de la rose',\n",
              "  'year': 1986,\n",
              "  'director': {'last_name': 'Annaud'}},\n",
              " {'title': 'Top Gun', 'year': 1986, 'director': {'last_name': 'Scott'}},\n",
              " {'title': 'Piège de cristal',\n",
              "  'year': 1988,\n",
              "  'director': {'last_name': 'McTierman'}},\n",
              " {'title': 'Le grand bleu', 'year': 1988, 'director': {'last_name': 'Besson'}},\n",
              " {'title': 'De bruit et de fureur',\n",
              "  'year': 1988,\n",
              "  'director': {'last_name': 'Chabrol'}},\n",
              " {'title': 'Rain Man', 'year': 1988, 'director': {'last_name': 'Levinson'}},\n",
              " {'title': 'Le silence des agneaux',\n",
              "  'year': 1990,\n",
              "  'director': {'last_name': 'Demme'}},\n",
              " {'title': 'Les affranchis',\n",
              "  'year': 1990,\n",
              "  'director': {'last_name': 'Scorcese'}},\n",
              " {'title': 'Le parrain III',\n",
              "  'year': 1990,\n",
              "  'director': {'last_name': 'Coppola'}},\n",
              " {'title': 'Nikita', 'year': 1990, 'director': {'last_name': 'Besson'}},\n",
              " {'title': 'King of New York',\n",
              "  'year': 1990,\n",
              "  'director': {'last_name': 'Ferrara'}},\n",
              " {'title': '58 minutes pour vivre',\n",
              "  'year': 1990,\n",
              "  'director': {'last_name': 'Harlin'}},\n",
              " {'title': 'Van Gogh', 'year': 1990, 'director': {'last_name': 'Pialat'}},\n",
              " {'title': 'Bad Lieutenant',\n",
              "  'year': 1992,\n",
              "  'director': {'last_name': 'Ferrara'}},\n",
              " {'title': 'Impitoyable', 'year': 1992, 'director': {'last_name': 'Eastwood'}},\n",
              " {'title': 'Reservoir dogs',\n",
              "  'year': 1992,\n",
              "  'director': {'last_name': 'Tarantino'}},\n",
              " {'title': 'Léon', 'year': 1994, 'director': {'last_name': 'Besson'}},\n",
              " {'title': 'Pulp fiction',\n",
              "  'year': 1994,\n",
              "  'director': {'last_name': 'Tarantino'}},\n",
              " {'title': 'Usual suspects', 'year': 1995, 'director': {'last_name': 'Dern'}},\n",
              " {'title': 'Une journée en enfer',\n",
              "  'year': 1995,\n",
              "  'director': {'last_name': 'Grier'}},\n",
              " {'title': 'Seven', 'year': 1995, 'director': {'last_name': 'Fincher'}},\n",
              " {'title': 'Heat', 'year': 1995, 'director': {'last_name': 'Mann'}},\n",
              " {'title': 'Twelve Monkeys',\n",
              "  'year': 1995,\n",
              "  'director': {'last_name': 'Gilliam'}},\n",
              " {'title': 'Casino', 'year': 1995, 'director': {'last_name': 'Scorcese'}}]"
            ]
          },
          "execution_count": 23,
          "metadata": {},
          "output_type": "execute_result"
        }
      ],
      "source": [
        "# 7 List the the movies released between 1967 and 1995 (inclusive), \n",
        "# by displaying only title, year, director’s last name sorted by year\n",
        "list(\n",
        "  movies.find(\n",
        "    {\n",
        "      \"$and\": [\n",
        "        {\"year\": {\"$gte\": 1967}},\n",
        "        {\"year\": {\"$lte\": 1995}}\n",
        "      ]\n",
        "    },\n",
        "    {\"_id\": 0, \"title\": 1, \"year\": 1, \"director.last_name\": 1}\n",
        "  ).sort({\"year\": 1})\n",
        ")"
      ]
    },
    {
      "cell_type": "code",
      "execution_count": null,
      "metadata": {
        "id": "MrbD6dF73VuS"
      },
      "outputs": [],
      "source": [
        "# 8 (Extra Credit) Find the number of movies by country \n",
        "# sorted by count (desc), country (asc). (Hint: use aggregation)\n",
        "\n"
      ]
    },
    {
      "cell_type": "code",
      "execution_count": null,
      "metadata": {
        "id": "WP8wLkfn3VuS"
      },
      "outputs": [],
      "source": [
        "# 9 (Extra Credit) Find the number of movies by country and actor.\n",
        "#   Limit the output to actors that have appeared in more than 2 movies.\n",
        "#   Sort by count (desc), actor \"first_name last_name\" (asc)\n",
        "#   (Hint: use aggregation and unwind in the aggregation pipe)\n"
      ]
    },
    {
      "cell_type": "code",
      "execution_count": null,
      "metadata": {
        "id": "z7j6XWoa3VuS"
      },
      "outputs": [],
      "source": []
    }
  ],
  "metadata": {
    "colab": {
      "provenance": []
    },
    "kernelspec": {
      "display_name": ".venv",
      "language": "python",
      "name": "python3"
    },
    "language_info": {
      "codemirror_mode": {
        "name": "ipython",
        "version": 3
      },
      "file_extension": ".py",
      "mimetype": "text/x-python",
      "name": "python",
      "nbconvert_exporter": "python",
      "pygments_lexer": "ipython3",
      "version": "3.11.9"
    }
  },
  "nbformat": 4,
  "nbformat_minor": 0
}
