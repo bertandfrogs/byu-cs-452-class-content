{
  "cells": [
    {
      "cell_type": "markdown",
      "metadata": {
        "id": "view-in-github",
        "colab_type": "text"
      },
      "source": [
        "<a href=\"https://colab.research.google.com/github/byu-cs-452/byu-cs-452-class-content/blob/main/mongo/Step1.ipynb\" target=\"_parent\"><img src=\"https://colab.research.google.com/assets/colab-badge.svg\" alt=\"Open In Colab\"/></a>"
      ]
    },
    {
      "cell_type": "markdown",
      "metadata": {
        "id": "Eu8B8XOK1Brr"
      },
      "source": [
        "## Let's learn about Mongo!\n",
        "*Learning Goal*: Using a sandbox environment create, update, and delete documents. Query documents that other students are creating at the same time. Intention is to go through this together as a class and explain syntax step by step."
      ]
    },
    {
      "cell_type": "code",
      "execution_count": 1,
      "metadata": {
        "id": "2eiYtmS_1Brr"
      },
      "outputs": [
        {
          "name": "stdout",
          "output_type": "stream",
          "text": [
            "Collecting pymongo\n",
            "  Downloading pymongo-4.13.0-cp311-cp311-win_amd64.whl.metadata (22 kB)\n",
            "Collecting dnspython<3.0.0,>=1.16.0 (from pymongo)\n",
            "  Downloading dnspython-2.7.0-py3-none-any.whl.metadata (5.8 kB)\n",
            "Downloading pymongo-4.13.0-cp311-cp311-win_amd64.whl (848 kB)\n",
            "   ---------------------------------------- 0.0/848.1 kB ? eta -:--:--\n",
            "   ------------ --------------------------- 262.1/848.1 kB ? eta -:--:--\n",
            "   ---------------------------------------- 848.1/848.1 kB 2.5 MB/s eta 0:00:00\n",
            "Downloading dnspython-2.7.0-py3-none-any.whl (313 kB)\n",
            "Installing collected packages: dnspython, pymongo\n",
            "\n",
            "   ---------------------------------------- 0/2 [dnspython]\n",
            "   ---------------------------------------- 0/2 [dnspython]\n",
            "   ---------------------------------------- 0/2 [dnspython]\n",
            "   ---------------------------------------- 0/2 [dnspython]\n",
            "   ---------------------------------------- 0/2 [dnspython]\n",
            "   ---------------------------------------- 0/2 [dnspython]\n",
            "   ---------------------------------------- 0/2 [dnspython]\n",
            "   ---------------------------------------- 0/2 [dnspython]\n",
            "   ---------------------------------------- 0/2 [dnspython]\n",
            "   -------------------- ------------------- 1/2 [pymongo]\n",
            "   -------------------- ------------------- 1/2 [pymongo]\n",
            "   -------------------- ------------------- 1/2 [pymongo]\n",
            "   -------------------- ------------------- 1/2 [pymongo]\n",
            "   -------------------- ------------------- 1/2 [pymongo]\n",
            "   -------------------- ------------------- 1/2 [pymongo]\n",
            "   -------------------- ------------------- 1/2 [pymongo]\n",
            "   -------------------- ------------------- 1/2 [pymongo]\n",
            "   -------------------- ------------------- 1/2 [pymongo]\n",
            "   -------------------- ------------------- 1/2 [pymongo]\n",
            "   -------------------- ------------------- 1/2 [pymongo]\n",
            "   -------------------- ------------------- 1/2 [pymongo]\n",
            "   ---------------------------------------- 2/2 [pymongo]\n",
            "\n",
            "Successfully installed dnspython-2.7.0 pymongo-4.13.0\n",
            "Note: you may need to restart the kernel to use updated packages.\n"
          ]
        }
      ],
      "source": [
        "# Install the pymongo library\n",
        "%pip install pymongo"
      ]
    },
    {
      "cell_type": "code",
      "execution_count": 2,
      "metadata": {
        "id": "iZuNqYeB1Brs"
      },
      "outputs": [
        {
          "name": "stdout",
          "output_type": "stream",
          "text": [
            "Ping result: {'ok': 1}\n"
          ]
        }
      ],
      "source": [
        "# Connect to a provided sandbox environment\n",
        "\n",
        "import pymongo\n",
        "\n",
        "user = \"class\"\n",
        "password = \"184vLpDKvOhvv528\"\n",
        "cluster = \"cluster0\"\n",
        "dnsprefix = \"wvdjn\"\n",
        "connectionUrl = f\"mongodb+srv://{user}:{password}@{cluster}.{dnsprefix}.mongodb.net/\"\n",
        "client = pymongo.MongoClient(connectionUrl)\n",
        "print(f\"Ping result: {client.admin.command('ping')}\")\n",
        "\n",
        "db = client.get_database(\"sandbox\")\n",
        "\n",
        "# accessing db.students creates or accesses the collection \"students\" within\n",
        "# the \"sandbox\" db\n",
        "students = db.students\n",
        "\n"
      ]
    },
    {
      "cell_type": "code",
      "execution_count": 18,
      "metadata": {
        "id": "mzjIIWIF1Brs"
      },
      "outputs": [
        {
          "data": {
            "text/plain": [
              "InsertOneResult('SSW', acknowledged=True)"
            ]
          },
          "execution_count": 18,
          "metadata": {},
          "output_type": "execute_result"
        }
      ],
      "source": [
        "# Put your information in these variables and insert yourself into students!\n",
        "\n",
        "netId = input(\"Enter netId (this just needs to be unique): \")\n",
        "name = input(\"Your name: \")\n",
        "favorite_color = input(\"Favorite color: \")\n",
        "number = int(input(\"Number between 0 and 9 inclusive: \"))\n",
        "\n",
        "\n",
        "# Creates a dictionary object in python with your data\n",
        "number = number % 10\n",
        "me = {\n",
        "    \"_id\": netId,\n",
        "    \"name\": name,\n",
        "    \"color\": favorite_color,\n",
        "    \"num\": number\n",
        "}\n",
        "\n",
        "students.insert_one(me)"
      ]
    },
    {
      "cell_type": "code",
      "execution_count": 33,
      "metadata": {
        "id": "kHpPR1_11Brs"
      },
      "outputs": [
        {
          "data": {
            "text/plain": [
              "[{'_id': 'SSW',\n",
              "  'name': 'Sarah Smalley',\n",
              "  'color': 'green',\n",
              "  'num': 4,\n",
              "  'achievement': 'I can run an update!'}]"
            ]
          },
          "execution_count": 33,
          "metadata": {},
          "output_type": "execute_result"
        }
      ],
      "source": [
        "# Query to see yourself in the collection!\n",
        "result = students.find({\"_id\": netId})\n",
        "list(result)"
      ]
    },
    {
      "cell_type": "code",
      "execution_count": 32,
      "metadata": {
        "id": "ljZ-ailR1Brs"
      },
      "outputs": [
        {
          "data": {
            "text/plain": [
              "[{'_id': 'SSW',\n",
              "  'name': 'Sarah Smalley',\n",
              "  'color': 'green',\n",
              "  'num': 4,\n",
              "  'achievement': 'I can run an update!'}]"
            ]
          },
          "execution_count": 32,
          "metadata": {},
          "output_type": "execute_result"
        }
      ],
      "source": [
        "# Are there students who like your same color (limit to 10)\n",
        "result = students.find({\"color\": favorite_color}).limit(10)\n",
        "list(result)"
      ]
    },
    {
      "cell_type": "code",
      "execution_count": 31,
      "metadata": {
        "id": "5WI_uX981Brt"
      },
      "outputs": [
        {
          "data": {
            "text/plain": [
              "[{'_id': 'SSW',\n",
              "  'name': 'Sarah Smalley',\n",
              "  'color': 'green',\n",
              "  'num': 4,\n",
              "  'achievement': 'I can run an update!'},\n",
              " {'_id': 'spenjnb', 'name': 'Spencer Navas', 'color': 'Red', 'num': 4},\n",
              " {'_id': 'bentley',\n",
              "  'name': 'bentley',\n",
              "  'color': 'blue',\n",
              "  'num': 4,\n",
              "  'achievement': 'I can run an update!'}]"
            ]
          },
          "execution_count": 31,
          "metadata": {},
          "output_type": "execute_result"
        }
      ],
      "source": [
        "# Are there students who picked your same number? (limit to 10)\n",
        "result = students.find({\"num\": number}).limit(10)\n",
        "list(result)"
      ]
    },
    {
      "cell_type": "code",
      "execution_count": 43,
      "metadata": {
        "id": "96CMayqh1Brt"
      },
      "outputs": [
        {
          "data": {
            "text/plain": [
              "[{'name': 'Sarah Smalley'}, {'name': 'Spencer Navas'}, {'name': 'bentley'}]"
            ]
          },
          "execution_count": 43,
          "metadata": {},
          "output_type": "execute_result"
        }
      ],
      "source": [
        "# How about we make that a little more easy to read!\n",
        "\n",
        "# use the second parameter of find which is \"project\" to limit the fields\n",
        "result = students.find(\n",
        "        {\"num\": number},  # match or find clause\n",
        "        {\"_id\":0, \"name\":1}  # project statement for changing the output\n",
        "    ).limit(10)\n",
        "list(result)"
      ]
    },
    {
      "cell_type": "code",
      "execution_count": 64,
      "metadata": {
        "id": "LFWpOKTe1Brt"
      },
      "outputs": [
        {
          "data": {
            "text/plain": [
              "UpdateResult({'n': 1, 'electionId': ObjectId('7fffffff0000000000000570'), 'opTime': {'ts': Timestamp(1747767944, 11), 't': 1392}, 'nModified': 1, 'ok': 1.0, '$clusterTime': {'clusterTime': Timestamp(1747767944, 11), 'signature': {'hash': b'y6\\xb5\\x12\\x19b\\x08\\xde\\xa2\\x10\\xefG\\xef\\x9b\\xd0*\\xbc\\r\\x86\\xd6', 'keyId': 7446351265417658384}}, 'operationTime': Timestamp(1747767944, 11), 'updatedExisting': True}, acknowledged=True)"
            ]
          },
          "execution_count": 64,
          "metadata": {},
          "output_type": "execute_result"
        }
      ],
      "source": [
        "# Let's update your record with more information!\n",
        "achievement = \"Yipeee!!\"\n",
        "students.update_one({\"_id\": netId}, {\"$set\": {\"achievement\": achievement}})"
      ]
    },
    {
      "cell_type": "code",
      "execution_count": 24,
      "metadata": {
        "id": "kQ14RDU21Brt"
      },
      "outputs": [
        {
          "data": {
            "text/plain": [
              "[{'_id': 'SSW',\n",
              "  'name': 'Sarah Smalley',\n",
              "  'color': 'green',\n",
              "  'num': 4,\n",
              "  'achievement': 'I can run an update!'}]"
            ]
          },
          "execution_count": 24,
          "metadata": {},
          "output_type": "execute_result"
        }
      ],
      "source": [
        "# Let's see if the update worked!\n",
        "\n",
        "result = students.find({\"_id\": netId})\n",
        "list(result)"
      ]
    },
    {
      "cell_type": "code",
      "execution_count": 49,
      "metadata": {
        "id": "xSa-T0-s1Brt"
      },
      "outputs": [
        {
          "data": {
            "text/plain": [
              "[{'_id': 'SSW',\n",
              "  'name': 'Sarah Smalley',\n",
              "  'color': 'green',\n",
              "  'num': 4,\n",
              "  'achievement': 'I can run an update!'},\n",
              " {'_id': 'spenjnb', 'name': 'Spencer Navas', 'color': 'Red', 'num': 4},\n",
              " {'_id': 'bentley',\n",
              "  'name': 'bentley',\n",
              "  'color': 'blue',\n",
              "  'num': 4,\n",
              "  'achievement': 'I can run an update!'}]"
            ]
          },
          "execution_count": 49,
          "metadata": {},
          "output_type": "execute_result"
        }
      ],
      "source": [
        "# Let's see if anyone with similar color preference or number\n",
        "# has also been able to update their record.\n",
        "\n",
        "result = students.find({\"$or\": [{\"color\": favorite_color}, {\"num\": number}]})\n",
        "list(result)\n"
      ]
    },
    {
      "cell_type": "code",
      "execution_count": 57,
      "metadata": {
        "id": "vm6u6vvc1Brt"
      },
      "outputs": [
        {
          "data": {
            "text/plain": [
              "[{'name': 'Porter', 'num': 8},\n",
              " {'name': 'Michael Reynolds', 'num': 7},\n",
              " {'name': 'connor', 'num': 8},\n",
              " {'name': 'Jonathan', 'num': 6},\n",
              " {'name': 'Micaela Madariaga', 'num': 9},\n",
              " {'name': 'Elijah', 'num': 8}]"
            ]
          },
          "execution_count": 57,
          "metadata": {},
          "output_type": "execute_result"
        }
      ],
      "source": [
        "# Let's see who prefers bigger numbers\n",
        "\n",
        "result = students.find({\"num\": {\"$gte\": 5}}, {\"_id\":0, \"name\": 1, \"num\": 1})\n",
        "list(result)"
      ]
    },
    {
      "cell_type": "code",
      "execution_count": 58,
      "metadata": {
        "id": "0BMT6Yi31Brt"
      },
      "outputs": [
        {
          "data": {
            "text/plain": [
              "[{'name': 'john', 'num': 3},\n",
              " {'name': 'Jackson Stephens', 'num': 3},\n",
              " {'name': 'Sarah Smalley', 'num': 4},\n",
              " {'name': 'Rebecca', 'num': 2},\n",
              " {'name': 'Mae Evans', 'num': 3},\n",
              " {'name': 'Spencer Navas', 'num': 4},\n",
              " {'name': 'Peter May', 'num': 0},\n",
              " {'name': 'Hudson', 'num': 1},\n",
              " {'name': 'yuto', 'num': 1},\n",
              " {'name': 'bentley', 'num': 4},\n",
              " {'name': 'Ethan', 'num': 3}]"
            ]
          },
          "execution_count": 58,
          "metadata": {},
          "output_type": "execute_result"
        }
      ],
      "source": [
        "# Let's see who prefers smaller numbers\n",
        "\n",
        "result = students.find({\"num\": {\"$lt\": 5}}, {\"_id\":0, \"name\": 1, \"num\": 1})\n",
        "list(result)"
      ]
    },
    {
      "cell_type": "code",
      "execution_count": 59,
      "metadata": {
        "id": "N2jY1its1Brt"
      },
      "outputs": [
        {
          "data": {
            "text/plain": [
              "[{'name': 'john', 'num': 3},\n",
              " {'name': 'Michael Reynolds', 'num': 7},\n",
              " {'name': 'Jackson Stephens', 'num': 3},\n",
              " {'name': 'Sarah Smalley', 'num': 4},\n",
              " {'name': 'Jonathan', 'num': 6},\n",
              " {'name': 'Mae Evans', 'num': 3},\n",
              " {'name': 'Spencer Navas', 'num': 4},\n",
              " {'name': 'bentley', 'num': 4},\n",
              " {'name': 'Ethan', 'num': 3}]"
            ]
          },
          "execution_count": 59,
          "metadata": {},
          "output_type": "execute_result"
        }
      ],
      "source": [
        "# Let's see who prefers numbers between 3 and 7 (inclusive)\n",
        "result = students.find(\n",
        "        {\n",
        "            \"$and\": [  # all conditions in this list need to be true\n",
        "                {\"num\": {\"$gte\": 3}}, # greater than or equal to 3\n",
        "                {\"num\": {\"$lte\": 7}}  # less than or equal to 7\n",
        "            ]\n",
        "        },\n",
        "        {\"_id\":0, \"name\": 1, \"num\": 1} # project out just name and number\n",
        "    )\n",
        "list(result)"
      ]
    },
    {
      "cell_type": "code",
      "execution_count": 72,
      "metadata": {
        "id": "mvM8fqNo1Brt"
      },
      "outputs": [
        {
          "name": "stdout",
          "output_type": "stream",
          "text": [
            "Numbers: [0, 1, 2, 3, 4, 7, 8, 9, '6']\n",
            "Colors: ['Blue', 'Green', 'Orange', 'Red', 'blue', 'food', 'green', 'navy', 'neon brown', 'rose red', 'yellow']\n"
          ]
        }
      ],
      "source": [
        "# What are all the distinct numbers and colors that people picked?\n",
        "print(f\"Numbers: {students.distinct('num')}\")\n",
        "print(f\"Colors: {students.distinct('color')}\")"
      ]
    },
    {
      "cell_type": "code",
      "execution_count": 66,
      "metadata": {
        "id": "R95sAljO1Brt"
      },
      "outputs": [
        {
          "data": {
            "text/plain": [
              "UpdateResult({'n': 1, 'electionId': ObjectId('7fffffff0000000000000570'), 'opTime': {'ts': Timestamp(1747767986, 7), 't': 1392}, 'nModified': 0, 'ok': 1.0, '$clusterTime': {'clusterTime': Timestamp(1747767986, 7), 'signature': {'hash': b'i0\\n|\\xe5\\xd6\\x1e\\rY\\xf8\\xfe\\xa0JH}S\\x0c\\x18K\\x14', 'keyId': 7446351265417658384}}, 'operationTime': Timestamp(1747767986, 7), 'updatedExisting': True}, acknowledged=True)"
            ]
          },
          "execution_count": 66,
          "metadata": {},
          "output_type": "execute_result"
        }
      ],
      "source": [
        "# Let's get serious! What goals do you have for the rest of the day?\n",
        "# Update your record with those goals! <----<<\n",
        "\n",
        "my_goals = [\n",
        "    {\"order\": 1, \"name\": \"Homework\"},\n",
        "    {\"order\": 2, \"name\": \"Birdwatching\"},\n",
        "    {\"order\": 3, \"name\": \"Gaming\"},\n",
        "    {\"order\": 4, \"name\": \"Sleep\"},\n",
        "    # update these goals maybe add order #4? (keep the schema) <---<<\n",
        "]\n",
        "\n",
        "students.update_one(\n",
        "    {\"_id\": netId},\n",
        "    {\n",
        "        \"$set\": {\n",
        "            \"goals\": my_goals\n",
        "        }\n",
        "    }\n",
        ")\n"
      ]
    },
    {
      "cell_type": "code",
      "execution_count": 71,
      "metadata": {
        "id": "nKu9LkA01Brt"
      },
      "outputs": [
        {
          "data": {
            "text/plain": [
              "[{'_id': 'pmm1998',\n",
              "  'name': 'Porter',\n",
              "  'color': 'Blue',\n",
              "  'num': 8,\n",
              "  'achievement': 'I can run an update!',\n",
              "  'goals': [{'order': 1, 'name': 'World Domination'},\n",
              "   {'order': 2, 'name': 'Stop being sad'},\n",
              "   {'order': 3, 'name': '$$$'},\n",
              "   {'order': 4, 'name': 'increase K/D'}]},\n",
              " {'_id': 'john10',\n",
              "  'name': 'john',\n",
              "  'color': 'blue',\n",
              "  'num': 3,\n",
              "  'achievement': 'I AM THE BEST TAKE THAT NERDS',\n",
              "  'goals': [{'order': 1, 'name': 'do CS452 work'},\n",
              "   {'order': 2, 'name': 'work on robots'},\n",
              "   {'order': 3, 'name': 'kiss wife'}]},\n",
              " {'_id': 'mtr26',\n",
              "  'name': 'Michael Reynolds',\n",
              "  'color': 'blue',\n",
              "  'num': 7,\n",
              "  'achievement': 'get pwned -hacker was here',\n",
              "  'goals': [{'order': 1, 'name': 'Make Dinner'},\n",
              "   {'order': 2, 'name': 'Pray Always'},\n",
              "   {'order': 3, 'name': 'Soccer tryouts for Megan'},\n",
              "   {'order': 4, 'name': 'grade homework'}]},\n",
              " {'_id': 'jjsteph',\n",
              "  'name': 'Jackson Stephens',\n",
              "  'color': 'navy',\n",
              "  'num': 3,\n",
              "  'achievement': 'How did we get here?',\n",
              "  'goals': [{'order': 1, 'name': 'Go to the gym'},\n",
              "   {'order': 2, 'name': 'Play guitar'},\n",
              "   {'order': 3, 'name': 'Do homework'},\n",
              "   {'order': 4, 'name': 'Hangout with friends'},\n",
              "   {'order': 5, 'name': 'Go to bed at reasonable hour'}]},\n",
              " {'_id': 'SSW',\n",
              "  'name': 'Sarah Smalley',\n",
              "  'color': 'green',\n",
              "  'num': 4,\n",
              "  'achievement': 'Yipeee!!',\n",
              "  'goals': [{'order': 1, 'name': 'Homework'},\n",
              "   {'order': 2, 'name': 'Birdwatching'},\n",
              "   {'order': 3, 'name': 'Gaming'},\n",
              "   {'order': 4, 'name': 'Sleep'}]},\n",
              " {'_id': 'rebecca',\n",
              "  'name': 'Rebecca',\n",
              "  'color': 'yellow',\n",
              "  'num': 2,\n",
              "  'achievement': 'I can run an update!',\n",
              "  'goals': [{'order': 1, 'name': 'Go to work (and pass the training phase)'},\n",
              "   {'order': 2, 'name': 'Make dinner'},\n",
              "   {'order': 3, 'name': 'Catch up a little on 452 homework'},\n",
              "   {'order': 4, 'name': 'Get 8 hours of sleep'}]},\n",
              " {'_id': 'cb758',\n",
              "  'name': 'connor',\n",
              "  'color': 'neon brown',\n",
              "  'num': 8,\n",
              "  'achievement': 'I can run an update!',\n",
              "  'goals': [{'order': 1, 'name': 'get a job'},\n",
              "   {'order': 2, 'name': 'find more purpose in life'},\n",
              "   {'order': 3, 'name': 'be happier, less pessimistic'},\n",
              "   {'order': 11037, 'name': 'eat food'}]},\n",
              " {'_id': 'm0212',\n",
              "  'name': 'Mae Evans',\n",
              "  'color': 'Red',\n",
              "  'num': 3,\n",
              "  'achievement': 'I can run an update!',\n",
              "  'goals': [{'order': 1, 'name': \"Finish today's hw\"},\n",
              "   {'order': 2, 'name': 'Do reading for tomorrow'},\n",
              "   {'order': 3, 'name': 'Read scriptures'},\n",
              "   {'order': 4, 'name': 'Wish my friend happy birthday'}]},\n",
              " {'_id': 'spenjnb',\n",
              "  'name': 'Spencer Navas',\n",
              "  'color': 'Red',\n",
              "  'num': 4,\n",
              "  'achievement': 'I can run an update!',\n",
              "  'goals': [{'order': 1, 'name': 'Sleep more'},\n",
              "   {'order': 2, 'name': 'Do homework'},\n",
              "   {'order': 3, 'name': 'Study'}]},\n",
              " {'_id': 'maypeter',\n",
              "  'name': 'Peter May',\n",
              "  'color': 'rose red',\n",
              "  'num': 0,\n",
              "  'achievement': 'Lisan Al Gaib!',\n",
              "  'goals': [{'order': 1, 'name': '\\n\\nHave a protein shake'},\n",
              "   {'order': 2, 'name': 'Finish homework'},\n",
              "   {'order': 3, 'name': 'Watch a movie'},\n",
              "   {'order': 4, 'name': 'make sourdough cookies'},\n",
              "   {'order': 5, 'name': 'have dinner'},\n",
              "   {'order': 6, 'name': 'plug in devices'},\n",
              "   {'order': 123456, 'name': 'sleep'},\n",
              "   {'order': 7, 'name': 'have a good time'}]}]"
            ]
          },
          "execution_count": 71,
          "metadata": {},
          "output_type": "execute_result"
        }
      ],
      "source": [
        "# Who's next goal \"order 1\" is something other than eating dinner?\n",
        "\n",
        "result = students.find({\n",
        "        \"goals.order\": 1,\n",
        "        \"goals.name\": {\"$ne\": \"Eat dinner\"}\n",
        "    }).limit(10)\n",
        "\n",
        "list(result)"
      ]
    },
    {
      "cell_type": "code",
      "execution_count": 70,
      "metadata": {
        "id": "nHNUPkdb1Brt"
      },
      "outputs": [
        {
          "data": {
            "text/plain": [
              "[{'_id': 'jballar5',\n",
              "  'name': 'Jonathan',\n",
              "  'color': 'blue',\n",
              "  'num': '6',\n",
              "  'achievement': 'I can run an update!',\n",
              "  'goals': [{'order': 2, 'name': 'Catch up on CS 452'},\n",
              "   {'order': 1, 'name': \"Plan something fun for my wife's birthday\"},\n",
              "   {'order': 3, 'name': 'Get a big ticket completed at my internship'},\n",
              "   {'order': 4, 'name': 'Eat dinner'}]},\n",
              " {'_id': 'mmad4804',\n",
              "  'name': 'Micaela Madariaga',\n",
              "  'color': 'blue',\n",
              "  'num': 9,\n",
              "  'achievement': 'I can run an update!',\n",
              "  'goals': [{'order': 1, 'name': 'Go to work'},\n",
              "   {'order': 2, 'name': 'Play pickleball'},\n",
              "   {'order': 3, 'name': 'Eat dinner'},\n",
              "   {'order': 4, 'name': 'Express gratitude'}]},\n",
              " {'_id': 'yuto529',\n",
              "  'name': 'yuto',\n",
              "  'color': 'blue',\n",
              "  'num': 1,\n",
              "  'achievement': 'I can run an update!',\n",
              "  'goals': [{'order': 4, 'name': 'Eat dinner'},\n",
              "   {'order': 2, 'name': 'Say my prayers'},\n",
              "   {'order': 3, 'name': 'Sleep'},\n",
              "   {'order': 1, 'name': 'Finish this classes project'}]},\n",
              " {'_id': 'goalz',\n",
              "  'name': 'goalz',\n",
              "  'color': 'food',\n",
              "  'num': 7,\n",
              "  'goals': [{'order': 1, 'name': 'Eat dinner'},\n",
              "   {'order': 2, 'name': 'Say my prayers'},\n",
              "   {'order': 3, 'name': 'Sleep'},\n",
              "   {'order': 4,\n",
              "    'name': 'update these goals maybe add order #4? (keep the schema)'}]},\n",
              " {'_id': 'ws50000',\n",
              "  'name': 'Wesley',\n",
              "  'color': 'Green',\n",
              "  'num': 7,\n",
              "  'achievement': 'I can run an update!',\n",
              "  'goals': [{'order': 1, 'name': 'Eat dinner'},\n",
              "   {'order': 2, 'name': 'Say my prayers'},\n",
              "   {'order': 3, 'name': 'Sleep'},\n",
              "   {'order': 4, 'name': 'Study for my exam'},\n",
              "   {'order': 5, 'name': 'Serve someone'}]},\n",
              " {'_id': '000318',\n",
              "  'name': 'Zack Sorensen',\n",
              "  'color': 'Orange',\n",
              "  'num': 8,\n",
              "  'achievement': 'I can run an update!',\n",
              "  'goals': [{'order': 1, 'name': 'Eat dinner'},\n",
              "   {'order': 2, 'name': 'Say my prayers'},\n",
              "   {'order': 3, 'name': 'Sleep'},\n",
              "   {'order': 4, 'name': 'Run'}]}]"
            ]
          },
          "execution_count": 70,
          "metadata": {},
          "output_type": "execute_result"
        }
      ],
      "source": [
        "# Who's next goal \"order 1\" is eating dinner?\n",
        "\n",
        "result = students.find({\n",
        "        \"goals.order\": 1,\n",
        "        \"goals.name\": \"Eat dinner\"\n",
        "    }).limit(10)\n",
        "\n",
        "list(result)"
      ]
    },
    {
      "cell_type": "code",
      "execution_count": 69,
      "metadata": {
        "id": "w3VGy3fW1Brt"
      },
      "outputs": [
        {
          "data": {
            "text/plain": [
              "[{'name': 'Jackson Stephens',\n",
              "  'goals': [{'order': 4, 'name': 'Hangout with friends'}]},\n",
              " {'name': 'Sarah Smalley', 'goals': [{'order': 4, 'name': 'Sleep'}]},\n",
              " {'name': 'Jonathan', 'goals': [{'order': 4, 'name': 'Eat dinner'}]},\n",
              " {'name': 'Micaela Madariaga',\n",
              "  'goals': [{'order': 4, 'name': 'Express gratitude'}]},\n",
              " {'name': 'Peter May',\n",
              "  'goals': [{'order': 4, 'name': 'make sourdough cookies'}]},\n",
              " {'name': 'Hudson', 'goals': [{'order': 4, 'name': 'Awaken'}]},\n",
              " {'name': 'yuto',\n",
              "  'goals': [{'order': 4, 'name': 'Finish this classes project'}]},\n",
              " {'name': 'bentley', 'goals': [{'order': 4, 'name': 'Go on walk w/ wife!'}]},\n",
              " {'name': 'Elijah', 'goals': [{'order': 4, 'name': 'get to bed on time'}]},\n",
              " {'name': 'goalz',\n",
              "  'goals': [{'order': 4,\n",
              "    'name': 'update these goals maybe add order #4? (keep the schema)'}]}]"
            ]
          },
          "execution_count": 69,
          "metadata": {},
          "output_type": "execute_result"
        }
      ],
      "source": [
        "# Who has an order 4 goal and what is it? Make it look nice by just showing the requested information.\n",
        "\n",
        "result = students.find(\n",
        "    {\"goals\": {\"$elemMatch\": {\"order\": 4}}},\n",
        "    {\"name\": 1, \"goals.$\": 1, \"_id\": 0}\n",
        ")\n",
        "list(result)"
      ]
    },
    {
      "cell_type": "markdown",
      "metadata": {
        "id": "0C2mBxEN1Bru"
      },
      "source": [
        "### Explanation on the last code courtesy of ChatGPT (and formatted in markdown by GPT)\n",
        "\n",
        "**Explanation:**\n",
        "\n",
        "- `{\"goals\": {\"$elemMatch\": {\"order\": 4}}}` specifies the condition where there is at least one element in the `goals` array with order equal to 4.\n",
        "- `{\"name\": 1, \"goals.$\": 1, \"_id\": 0}` specifies the projection to include only the `name` field and the matching goal with order 4 (`goals.$` represents the matched element from the `goals` array), while excluding the `_id` field.\n",
        "\n"
      ]
    },
    {
      "cell_type": "code",
      "execution_count": null,
      "metadata": {
        "id": "07MfVtwM1Bru"
      },
      "outputs": [],
      "source": [
        "# If you'd like to preserve your record for students who were sick and\n",
        "# couldn't attend class then you are done!\n",
        "\n",
        "# If you'd like to remove your record from this dataset then uncomment the\n",
        "# following and remove it!\n",
        "\n",
        "#students.delete_one({\"_id\": netId})"
      ]
    },
    {
      "cell_type": "markdown",
      "metadata": {
        "id": "2QidPk4e1Bru"
      },
      "source": [
        "That's all we have today! Maybe you could visit the docs: https://www.mongodb.com/docs/manual/\n",
        "\n",
        "Or maybe go give chatgpt your schema and some sample code and ask it to help you write some interesting queries!"
      ]
    },
    {
      "cell_type": "code",
      "execution_count": null,
      "metadata": {
        "id": "-p_o0npG1Bru"
      },
      "outputs": [],
      "source": [
        "# Aggregation - the average number that people picked\n",
        "\n",
        "result = students.aggregate(\n",
        "    [\n",
        "        {\n",
        "            \"$group\":{\n",
        "                \"_id\": None,\n",
        "                \"nums\": {\"$avg\": \"$num\"}\n",
        "            }\n",
        "        }\n",
        "    ]\n",
        ")\n",
        "\n",
        "list(result)"
      ]
    }
  ],
  "metadata": {
    "colab": {
      "provenance": []
    },
    "kernelspec": {
      "display_name": ".venv",
      "language": "python",
      "name": "python3"
    },
    "language_info": {
      "codemirror_mode": {
        "name": "ipython",
        "version": 3
      },
      "file_extension": ".py",
      "mimetype": "text/x-python",
      "name": "python",
      "nbconvert_exporter": "python",
      "pygments_lexer": "ipython3",
      "version": "3.11.9"
    }
  },
  "nbformat": 4,
  "nbformat_minor": 0
}
