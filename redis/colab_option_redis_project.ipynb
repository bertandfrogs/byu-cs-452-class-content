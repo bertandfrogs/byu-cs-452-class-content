{
  "nbformat": 4,
  "nbformat_minor": 0,
  "metadata": {
    "colab": {
      "provenance": [],
      "authorship_tag": "ABX9TyOR+hYBiLvRXlWAAQEsnxtt",
      "include_colab_link": true
    },
    "kernelspec": {
      "name": "python3",
      "display_name": "Python 3"
    },
    "language_info": {
      "name": "python"
    }
  },
  "cells": [
    {
      "cell_type": "markdown",
      "metadata": {
        "id": "view-in-github",
        "colab_type": "text"
      },
      "source": [
        "<a href=\"https://colab.research.google.com/github/byu-cs-452/byu-cs-452-class-content/blob/main/redis/colab_option_redis_project.ipynb\" target=\"_parent\"><img src=\"https://colab.research.google.com/assets/colab-badge.svg\" alt=\"Open In Colab\"/></a>"
      ]
    },
    {
      "cell_type": "code",
      "execution_count": null,
      "metadata": {
        "collapsed": true,
        "id": "ewHl3osy_i-v"
      },
      "outputs": [],
      "source": [
        "filenames = [\n",
        "    \"castle_image.jpg\",\n",
        "    \"helpers.py\",\n",
        "    \"jemma.png\",\n",
        "    \"keras_rest_api_app.wsgi\",\n",
        "    \"readme.md\",\n",
        "    \"requirements.txt\",\n",
        "    \"run_model_server.py\",\n",
        "    \"run_web_server.py\",\n",
        "    \"settings.py\",\n",
        "    \"simple_request.py\",\n",
        "    \"stress_test.py\",\n",
        "    \"system_design.png\"\n",
        "]\n",
        "for filename in filenames:\n",
        "    !curl https://raw.githubusercontent.com/byu-cs-452/byu-cs-452-class-content/refs/heads/main/redis/work_queue_example/{filename} > {filename}\n"
      ]
    },
    {
      "cell_type": "code",
      "source": [
        "pip install -r requirements.txt"
      ],
      "metadata": {
        "id": "034t8HBnB1e7"
      },
      "execution_count": null,
      "outputs": []
    },
    {
      "cell_type": "code",
      "source": [
        "import redis\n",
        "from settings import REDIS_HOST, REDIS_PORT, REDIS_PASSWORD\n",
        "host = REDIS_HOST\n",
        "port = REDIS_PORT\n",
        "password = REDIS_PASSWORD\n",
        "r = redis.Redis(host=REDIS_HOST, port=REDIS_PORT, password=REDIS_PASSWORD, db=0)\n",
        "if r.ping():\n",
        "  print(\"It is working!\")\n",
        "else:\n",
        "  raise Exception(\"Have you put your connection values successfully in settings.py? (REDIS_HOST, REDIS_PORT, REDIS_PASSWORD)\")"
      ],
      "metadata": {
        "id": "KfDBXnhiBVnz"
      },
      "execution_count": null,
      "outputs": []
    },
    {
      "cell_type": "code",
      "source": [
        "from run_model_server import classify_process\n",
        "from run_web_server import app\n",
        "\n",
        "\n",
        "import threading\n",
        "import time\n",
        "\n",
        "def getStartedThread(name, func):\n",
        "  print(f\"starting {name}...\")\n",
        "  t = threading.Thread(target=func)\n",
        "  t.start()\n",
        "  return t\n",
        "model_server = getStartedThread(\"run_model_server\", classify_process)\n",
        "web_server = getStartedThread(\"run_web_server\", app.run)\n",
        "\n",
        "time.sleep(2)\n",
        "\n",
        "import simple_request\n",
        "\n",
        "model_server.join()\n",
        "web_server.join()\n",
        "\n"
      ],
      "metadata": {
        "id": "9cEM4cGFGZ2L"
      },
      "execution_count": null,
      "outputs": []
    }
  ]
}