{
  "cells": [
    {
      "cell_type": "markdown",
      "metadata": {
        "id": "PZLpzkKbPg70"
      },
      "source": []
    },
    {
      "cell_type": "code",
      "execution_count": 1,
      "metadata": {
        "colab": {
          "base_uri": "https://localhost:8080/"
        },
        "id": "EBn045_VPg71",
        "outputId": "47d2bfa6-3df8-4d8b-ce3f-76275bcac1ad"
      },
      "outputs": [
        {
          "name": "stdout",
          "output_type": "stream",
          "text": [
            "Requirement already satisfied: redis in c:\\users\\sarah\\code\\cs_452\\.venv\\lib\\site-packages (5.2.1)\n",
            "Note: you may need to restart the kernel to use updated packages.\n"
          ]
        }
      ],
      "source": [
        "# Setup redis\n",
        "%pip install redis"
      ]
    },
    {
      "cell_type": "code",
      "execution_count": 3,
      "metadata": {
        "id": "1_FUQGP6Pg72"
      },
      "outputs": [
        {
          "name": "stdout",
          "output_type": "stream",
          "text": [
            "You entered: jumpJUMP1!\n"
          ]
        }
      ],
      "source": [
        "fullName = \"Sarah Smalley\" # <--- PUT YOUR FULL NAME HERE (e.g. Jimmy Jones)\n",
        "\n",
        "assert fullName != \"Full Name\"\n",
        "\n",
        "password = input(\"Enter the password displayed on the projector in class! \\nPassword: \")\n",
        "print(f\"You entered: {password}\")"
      ]
    },
    {
      "cell_type": "code",
      "execution_count": 4,
      "metadata": {
        "id": "STLM1O89Pg73"
      },
      "outputs": [],
      "source": [
        "# Connect\n",
        "\n",
        "import redis\n",
        "import time\n",
        "\n",
        "host = 'redis-15949.c251.east-us-mz.azure.redns.redis-cloud.com'\n",
        "port = 15949\n",
        "username = 'CS452'\n",
        "\n",
        "r = redis.Redis(host=host, port=port, password=password, db=0, username=username)"
      ]
    },
    {
      "cell_type": "code",
      "execution_count": 5,
      "metadata": {
        "id": "umIDzW25Pg73"
      },
      "outputs": [
        {
          "data": {
            "text/plain": [
              "True"
            ]
          },
          "execution_count": 5,
          "metadata": {},
          "output_type": "execute_result"
        }
      ],
      "source": [
        "# set\n",
        "\n",
        "r.set(fullName, 'hello world') # True"
      ]
    },
    {
      "cell_type": "code",
      "execution_count": 6,
      "metadata": {
        "id": "KUfh6AGpPg73"
      },
      "outputs": [
        {
          "name": "stdout",
          "output_type": "stream",
          "text": [
            "hello world\n"
          ]
        }
      ],
      "source": [
        "# get\n",
        "result = r.get(fullName)\n",
        "\n",
        "print(result.decode())"
      ]
    },
    {
      "cell_type": "code",
      "execution_count": 7,
      "metadata": {
        "id": "Uv-GA7mkPg73"
      },
      "outputs": [
        {
          "name": "stdout",
          "output_type": "stream",
          "text": [
            "b'I only get to be here for a short time' 0.10586333274841309 expiringKey_Sarah Smalley\n",
            "b'I only get to be here for a short time' 0.16683506965637207 expiringKey_Sarah Smalley\n",
            "b'I only get to be here for a short time' 0.31306028366088867 expiringKey_Sarah Smalley\n",
            "b'I only get to be here for a short time' 0.40820980072021484 expiringKey_Sarah Smalley\n",
            "b'I only get to be here for a short time' 0.4742105007171631 expiringKey_Sarah Smalley\n",
            "b'I only get to be here for a short time' 0.6199929714202881 expiringKey_Sarah Smalley\n",
            "b'I only get to be here for a short time' 0.6819984912872314 expiringKey_Sarah Smalley\n",
            "b'I only get to be here for a short time' 0.8271567821502686 expiringKey_Sarah Smalley\n",
            "b'I only get to be here for a short time' 0.9289631843566895 expiringKey_Sarah Smalley\n",
            "b'I only get to be here for a short time' 1.0306808948516846 expiringKey_Sarah Smalley\n",
            "b'I only get to be here for a short time' 1.1347544193267822 expiringKey_Sarah Smalley\n",
            "b'I only get to be here for a short time' 1.2317609786987305 expiringKey_Sarah Smalley\n",
            "b'I only get to be here for a short time' 1.336484670639038 expiringKey_Sarah Smalley\n",
            "b'I only get to be here for a short time' 1.4415500164031982 expiringKey_Sarah Smalley\n",
            "b'I only get to be here for a short time' 1.5439109802246094 expiringKey_Sarah Smalley\n",
            "b'I only get to be here for a short time' 1.6412992477416992 expiringKey_Sarah Smalley\n",
            "b'I only get to be here for a short time' 1.7453200817108154 expiringKey_Sarah Smalley\n",
            "b'I only get to be here for a short time' 1.8500585556030273 expiringKey_Sarah Smalley\n",
            "b'I only get to be here for a short time' 1.924901008605957 expiringKey_Sarah Smalley\n",
            "b'I only get to be here for a short time' 2.0506632328033447 expiringKey_Sarah Smalley\n",
            "b'I only get to be here for a short time' 2.1562304496765137 expiringKey_Sarah Smalley\n",
            "b'I only get to be here for a short time' 2.206768751144409 expiringKey_Sarah Smalley\n",
            "b'I only get to be here for a short time' 2.358794689178467 expiringKey_Sarah Smalley\n",
            "b'I only get to be here for a short time' 2.4624557495117188 expiringKey_Sarah Smalley\n",
            "b'I only get to be here for a short time' 2.5664567947387695 expiringKey_Sarah Smalley\n",
            "b'I only get to be here for a short time' 2.6620593070983887 expiringKey_Sarah Smalley\n",
            "b'I only get to be here for a short time' 2.7613346576690674 expiringKey_Sarah Smalley\n",
            "b'I only get to be here for a short time' 2.865553140640259 expiringKey_Sarah Smalley\n",
            "b'I only get to be here for a short time' 2.974144697189331 expiringKey_Sarah Smalley\n",
            "result gone!\n"
          ]
        }
      ],
      "source": [
        "# set with expiry!\n",
        "\n",
        "myKey = 'expiringKey_' + fullName\n",
        "r.set(myKey, \"I only get to be here for a short time\", ex=3)\n",
        "\n",
        "start = time.time()\n",
        "while result := r.get(myKey):\n",
        "    print(result, time.time() - start, myKey)\n",
        "\n",
        "print(\"result gone!\")"
      ]
    },
    {
      "cell_type": "code",
      "execution_count": 8,
      "metadata": {
        "id": "QXQ5KaOYPg73"
      },
      "outputs": [
        {
          "name": "stdout",
          "output_type": "stream",
          "text": [
            "key \"Sarah Smalley\" is not there anymore.\n"
          ]
        }
      ],
      "source": [
        "# delete\n",
        "\n",
        "r.delete(fullName)\n",
        "ans = r.get(fullName)\n",
        "\n",
        "if ans == None:\n",
        "    print(f'key \"{fullName}\" is not there anymore.')\n",
        "else:\n",
        "    print(f'key \"{fullName}\" is {ans.decode()}')"
      ]
    },
    {
      "cell_type": "code",
      "execution_count": 9,
      "metadata": {
        "id": "TlCKXVp4Pg73"
      },
      "outputs": [
        {
          "name": "stdout",
          "output_type": "stream",
          "text": [
            "Did you sign the guest book?\n",
            "no\n"
          ]
        }
      ],
      "source": [
        "# sets! and sismember\n",
        "\n",
        "setKey = \"iwashere\"\n",
        "print(\"Did you sign the guest book?\")\n",
        "print(\"yes\" if r.sismember(setKey, fullName) else \"no\")"
      ]
    },
    {
      "cell_type": "code",
      "execution_count": 11,
      "metadata": {
        "id": "iAAZOW2ePg73"
      },
      "outputs": [
        {
          "data": {
            "text/plain": [
              "0"
            ]
          },
          "execution_count": 11,
          "metadata": {},
          "output_type": "execute_result"
        }
      ],
      "source": [
        "# sadd\n",
        "\n",
        "r.sadd(setKey, fullName)"
      ]
    },
    {
      "cell_type": "code",
      "execution_count": 12,
      "metadata": {
        "id": "B6E853i5Pg73"
      },
      "outputs": [
        {
          "name": "stdout",
          "output_type": "stream",
          "text": [
            "Did you sign the guest book?\n",
            "yes\n"
          ]
        }
      ],
      "source": [
        "# sismember\n",
        "\n",
        "print(\"Did you sign the guest book?\")\n",
        "print(\"yes\" if r.sismember(setKey, fullName) else \"no\")"
      ]
    },
    {
      "cell_type": "code",
      "execution_count": 13,
      "metadata": {
        "id": "W-AB9VVcPg73"
      },
      "outputs": [
        {
          "name": "stdout",
          "output_type": "stream",
          "text": [
            "We have 17 entries!\n",
            "{b'Madeline Evans', b'Sarah Smalley', b'Michael Reynolds', b'Patrick Bennett', b'Connor Barrett', b'Bentley Bigelow', b'Micaela Madariaga', b'Ethan Alvey', b'Elijah Thompson', b'Rebecca Ogden', b'Peter May', b'Bryce Lasson', b'Santiago Bolano', b'Grant Alston', b'Wesley dos Santos', b'Connor Barret', b'Yuto Kikuchi'}\n"
          ]
        }
      ],
      "source": [
        "# scard and smembers\n",
        "\n",
        "print(f\"We have {r.scard(setKey)} {'entry' if r.scard(setKey) == 1 else 'entries'}!\")\n",
        "print(r.smembers(\"iwashere\"))"
      ]
    },
    {
      "cell_type": "code",
      "execution_count": 59,
      "metadata": {
        "id": "lEPAT9mYPg73"
      },
      "outputs": [
        {
          "name": "stdout",
          "output_type": "stream",
          "text": [
            "ring the bell!\n",
            "This was the ring number -3599999999999499999!\n"
          ]
        }
      ],
      "source": [
        "# incr\n",
        "\n",
        "print(\"ring the bell!\")\n",
        "for i in range (0,100):\n",
        "  result = r.incr(\"bell\", 5000)\n",
        "\n",
        "print(f\"This was the ring number {result}!\")\n",
        "\n",
        "# When would this be useful? Inventory?"
      ]
    },
    {
      "cell_type": "code",
      "execution_count": 61,
      "metadata": {
        "id": "a_a4vA2VPg73"
      },
      "outputs": [
        {
          "name": "stdout",
          "output_type": "stream",
          "text": [
            "--- LOOP ---\n",
            "Starting: fred$ = b'11600', george$ = b'11600'\n",
            "Transfered: fred$ = b'11500', george$ = b'11700'\n",
            "Transfered back: fred$ = b'11600', george$ = b'11600'\n",
            "--- LOOP ---\n",
            "Starting: fred$ = b'11600', george$ = b'11600'\n",
            "Transfered: fred$ = b'11500', george$ = b'11700'\n",
            "Transfered back: fred$ = b'11600', george$ = b'11600'\n",
            "--- LOOP ---\n",
            "Starting: fred$ = b'11600', george$ = b'11600'\n",
            "Transfered: fred$ = b'11500', george$ = b'11700'\n",
            "Transfered back: fred$ = b'11600', george$ = b'11600'\n",
            "--- LOOP ---\n",
            "Starting: fred$ = b'11600', george$ = b'11600'\n",
            "Transfered: fred$ = b'11500', george$ = b'11700'\n",
            "Transfered back: fred$ = b'11600', george$ = b'11600'\n"
          ]
        }
      ],
      "source": [
        "# Unsafe Transfers..\n",
        "\n",
        "for _ in range(4):\n",
        "    print(\"--- LOOP ---\")\n",
        "\n",
        "    # Starting amounts\n",
        "    print(f'Starting: fred$ = {r.get(\"fredsMoney\")}, george$ = {r.get(\"georgesMoney\")}')\n",
        "\n",
        "    # Unsafe transfer $100\n",
        "    # race condition here\n",
        "    fredsMoney = r.get(\"fredsMoney\")\n",
        "    fredsMoney = r.set(\"fredsMoney\", int(fredsMoney.decode()) - 100)\n",
        "\n",
        "    georgesMoney = r.get(\"georgesMoney\")\n",
        "    georgesMoney = r.set(\"georgesMoney\", int(georgesMoney.decode()) + 100)\n",
        "\n",
        "    print(f'Transfered: fred$ = {r.get(\"fredsMoney\")}, george$ = {r.get(\"georgesMoney\")}')\n",
        "\n",
        "    # Unsafe transfer the money back!\n",
        "    fredsMoney = r.get(\"fredsMoney\")\n",
        "    fredsMoney = r.set(\"fredsMoney\", int(fredsMoney.decode()) + 100)\n",
        "\n",
        "    georgesMoney = r.get(\"georgesMoney\")\n",
        "    georgesMoney = r.set(\"georgesMoney\", int(georgesMoney.decode()) - 100)\n",
        "\n",
        "    # Ending amounts\n",
        "    print(f'Transfered back: fred$ = {r.get(\"fredsMoney\")}, george$ = {r.get(\"georgesMoney\")}')"
      ]
    },
    {
      "cell_type": "code",
      "execution_count": null,
      "metadata": {
        "id": "PSMwFE3BPg74"
      },
      "outputs": [],
      "source": [
        "# Fix Fred and George's accounts\n",
        "r.set(\"fredsMoney\", 10000)\n",
        "r.set(\"georgesMoney\", 10000)"
      ]
    },
    {
      "cell_type": "code",
      "execution_count": 64,
      "metadata": {
        "id": "berbRMUOPg74"
      },
      "outputs": [
        {
          "name": "stdout",
          "output_type": "stream",
          "text": [
            "--- LOOP ---\n",
            "Waiting for lock...\n",
            "SET LOCK\n",
            "Staring: fred$ = b'10000', george$ = b'10000'\n",
            "Transfered: fred$ = b'9900', george$ = b'10100'\n",
            "Transfered back: fred$ = b'10000', george$ = b'10000'\n",
            "RELEASED LOCK\n",
            "--- LOOP ---\n",
            "Waiting for lock.......\n",
            "SET LOCK\n",
            "Staring: fred$ = b'10000', george$ = b'10000'\n",
            "Transfered: fred$ = b'9900', george$ = b'10100'\n",
            "Transfered back: fred$ = b'10000', george$ = b'10000'\n",
            "RELEASED LOCK\n",
            "--- LOOP ---\n",
            "Waiting for lock....................................................................................................................................................................................................................................................\n",
            "SET LOCK\n",
            "Staring: fred$ = b'10000', george$ = b'9500'\n",
            "Transfered: fred$ = b'9900', george$ = b'9500'\n",
            "Transfered back: fred$ = b'9800', george$ = b'9400'\n",
            "RELEASED LOCK\n",
            "--- LOOP ---\n",
            "Waiting for lock......................\n",
            "SET LOCK\n",
            "Staring: fred$ = b'10000', george$ = b'9300'\n",
            "Transfered: fred$ = b'9800', george$ = b'9400'\n",
            "Transfered back: fred$ = b'9900', george$ = b'9400'\n",
            "RELEASED LOCK\n"
          ]
        }
      ],
      "source": [
        "# Transfer with locking!  set(ex and nx = True)\n",
        "\n",
        "# Safe Transfers..\n",
        "safeTransferLockName = \"cs452PatienceLock\"\n",
        "def getLock():\n",
        "    print(\"Waiting for lock...\", end=\"\")\n",
        "    while True:\n",
        "        if r.set(safeTransferLockName, \"MINE!\", ex=2, nx=True):\n",
        "            print()\n",
        "            print(\"SET LOCK\")\n",
        "            return\n",
        "        print(\".\", end=\"\")\n",
        "        time.sleep(.01)\n",
        "\n",
        "def releaseLock():\n",
        "    print(\"RELEASED LOCK\")\n",
        "    r.delete(safeTransferLockName)\n",
        "\n",
        "\n",
        "for _ in range(4):\n",
        "    print(\"--- LOOP ---\")\n",
        "    getLock()  # <--------- GET THE LOCK ----------------<<\n",
        "\n",
        "    # Starting amounts\n",
        "    print(f'Staring: fred$ = {r.get(\"fredsMoney\")}, george$ = {r.get(\"georgesMoney\")}')\n",
        "\n",
        "\n",
        "    # Safe transfer $100\n",
        "    fredsMoney = r.get(\"fredsMoney\")\n",
        "    fredsMoney = r.set(\"fredsMoney\", int(fredsMoney.decode()) - 100)\n",
        "\n",
        "    georgesMoney = r.get(\"georgesMoney\")\n",
        "    georgesMoney = r.set(\"georgesMoney\", int(georgesMoney.decode()) + 100)\n",
        "\n",
        "    print(f'Transfered: fred$ = {r.get(\"fredsMoney\")}, george$ = {r.get(\"georgesMoney\")}')\n",
        "\n",
        "    # Safe transfer the money back!\n",
        "    fredsMoney = r.get(\"fredsMoney\")\n",
        "    fredsMoney = r.set(\"fredsMoney\", int(fredsMoney.decode()) + 100)\n",
        "\n",
        "    georgesMoney = r.get(\"georgesMoney\")\n",
        "    georgesMoney = r.set(\"georgesMoney\", int(georgesMoney.decode()) - 100)\n",
        "\n",
        "    # Ending amounts\n",
        "    print(f'Transfered back: fred$ = {r.get(\"fredsMoney\")}, george$ = {r.get(\"georgesMoney\")}')\n",
        "\n",
        "    releaseLock() # <------------ RELEASE THE LOCK -------------------<<"
      ]
    },
    {
      "cell_type": "code",
      "execution_count": 68,
      "metadata": {
        "id": "wvqmsaPXPg74"
      },
      "outputs": [],
      "source": [
        "# Barriers and work queues\n",
        "barrierKey = \"everyOneIsWaitingForThis\"\n"
      ]
    },
    {
      "cell_type": "code",
      "execution_count": null,
      "metadata": {
        "id": "ahTsstcoPg74"
      },
      "outputs": [
        {
          "data": {
            "text/plain": [
              "965"
            ]
          },
          "execution_count": 69,
          "metadata": {},
          "output_type": "execute_result"
        }
      ],
      "source": [
        "# Restore the work queue\n",
        "r.rpush(\"serviceQueueKey\", f\"Wash dishes for {fullName}\")\n",
        "r.rpush(\"serviceQueueKey\", f\"Cook dinner for {fullName}\")\n",
        "r.rpush(\"serviceQueueKey\", *[f\"Service Opportunity for ({fullName})\" for _ in range(3)])"
      ]
    },
    {
      "cell_type": "code",
      "execution_count": 70,
      "metadata": {
        "id": "JMgFsn4yPg74"
      },
      "outputs": [
        {
          "name": "stdout",
          "output_type": "stream",
          "text": [
            "Wait for barrier...\n",
            "................................................................................\n",
            "Go!\n",
            "b'Wash dishes for Sarah Smalley'\n",
            "b'Service Opportunity for (Santiago Bolano)'\n",
            "b'Service Opportunity for (Yuto Kikuchi)'\n",
            "b'Wash dishes for Sam Jones'\n",
            "b'Cook dinner for Sam Jones'\n",
            "b'Service Opportunity for (Sam Jones)'\n",
            "b'Service Opportunity for (Sam Jones)'\n",
            "b'Service Opportunity for (Sam Jones)'\n",
            "b'Wash dishes for Wesley dos Santos'\n",
            "b'Cook dinner for Wesley dos Santos'\n"
          ]
        }
      ],
      "source": [
        "# Barrier\n",
        "timeout = time.time() + 120 # two minutes\n",
        "def waitOnBarrier():\n",
        "    print(\"Wait for barrier...\")\n",
        "    while not r.get(barrierKey):\n",
        "        print(\".\", end=\"\")\n",
        "        time.sleep(.01)\n",
        "        if time.time() > timeout:\n",
        "            raise TimeoutError(\"Waiting too long for barrier! Try again?\")\n",
        "\n",
        "    print()\n",
        "    print(\"Go!\")\n",
        "\n",
        "waitOnBarrier()\n",
        "\n",
        "# Pull work off of work queue!\n",
        "for _ in range(10):\n",
        "    result = r.lpop(\"serviceQueueKey\")\n",
        "    print(result)"
      ]
    },
    {
      "cell_type": "code",
      "execution_count": null,
      "metadata": {
        "id": "cle4Vp2CPg74"
      },
      "outputs": [],
      "source": [
        "# Allow Barrier\n",
        "r.set(barrierKey, \"Let them go!\", ex=5)"
      ]
    },
    {
      "cell_type": "code",
      "execution_count": null,
      "metadata": {
        "id": "6N09eYb-Pg74"
      },
      "outputs": [],
      "source": [
        "# Block Barrier\n",
        "r.delete(barrierKey) # Should be an expiring key already, but just in case someone put something else in :)"
      ]
    }
  ],
  "metadata": {
    "colab": {
      "provenance": []
    },
    "kernelspec": {
      "display_name": ".venv",
      "language": "python",
      "name": "python3"
    },
    "language_info": {
      "codemirror_mode": {
        "name": "ipython",
        "version": 3
      },
      "file_extension": ".py",
      "mimetype": "text/x-python",
      "name": "python",
      "nbconvert_exporter": "python",
      "pygments_lexer": "ipython3",
      "version": "3.11.9"
    }
  },
  "nbformat": 4,
  "nbformat_minor": 0
}
