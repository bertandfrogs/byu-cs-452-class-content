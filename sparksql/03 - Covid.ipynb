{
  "cells": [
    {
      "cell_type": "markdown",
      "metadata": {
        "id": "view-in-github",
        "colab_type": "text"
      },
      "source": [
        "<a href=\"https://colab.research.google.com/github/byu-cs-452/byu-cs-452-class-content/blob/main/sparksql/03%20-%20Covid.ipynb\" target=\"_parent\"><img src=\"https://colab.research.google.com/assets/colab-badge.svg\" alt=\"Open In Colab\"/></a>"
      ]
    },
    {
      "cell_type": "code",
      "execution_count": null,
      "metadata": {
        "id": "BTogu7y3WuMV"
      },
      "outputs": [],
      "source": [
        "# Setup Spark SQL\n",
        "# Note if running locally you need the JVM https://www.oracle.com/java/technologies/downloads/\n",
        "# Also, if running locally you'll need to allow it to talk over the network to your own machine\n",
        "# Consider running in https://colab.research.google.com/\n",
        "%pip install pyspark"
      ]
    },
    {
      "cell_type": "code",
      "execution_count": 1,
      "metadata": {
        "id": "8zjIATulWuMX"
      },
      "outputs": [],
      "source": [
        "# Initialize Context - this is where you'd setup information about your Hadoop cluster if you had one!\n",
        "from pyspark.sql import SparkSession\n",
        "\n",
        "spark = SparkSession.builder.appName(\"Covid\").getOrCreate()\n",
        "\n",
        "sc = spark.sparkContext\n",
        "\n",
        "sc.setLogLevel(\"WARN\")"
      ]
    },
    {
      "cell_type": "code",
      "execution_count": 2,
      "metadata": {
        "id": "0c_HeLoEWuMY"
      },
      "outputs": [
        {
          "name": "stderr",
          "output_type": "stream",
          "text": [
            "  % Total    % Received % Xferd  Average Speed   Time    Time     Time  Current\n",
            "                                 Dload  Upload   Total   Spent    Left  Speed\n",
            "\n",
            "  0     0    0     0    0     0      0      0 --:--:-- --:--:-- --:--:--     0\n",
            "  0     0    0     0    0     0      0      0 --:--:--  0:00:01 --:--:--     0\n",
            "  0 99.9M    0  6890    0     0   3554      0  8:11:26  0:00:01  8:11:25  3557\n",
            "  5 99.9M    5 5213k    0     0  2336k      0  0:00:43  0:00:02  0:00:41 2337k\n",
            " 22 99.9M   22 22.0M    0     0  6995k      0  0:00:14  0:00:03  0:00:11 6998k\n",
            " 43 99.9M   43 43.5M    0     0  10.2M      0  0:00:09  0:00:04  0:00:05 10.2M\n",
            " 64 99.9M   64 64.4M    0     0  12.3M      0  0:00:08  0:00:05  0:00:03 15.5M\n",
            " 85 99.9M   85 85.5M    0     0  13.7M      0  0:00:07  0:00:06  0:00:01 19.9M\n",
            "100 99.9M  100 99.9M    0     0  14.4M      0  0:00:06  0:00:06 --:--:-- 20.1M\n"
          ]
        }
      ],
      "source": [
        "# Download 100mb covid county data file\n",
        "!curl \"https://raw.githubusercontent.com/nytimes/covid-19-data/master/us-counties.csv\" > ./uscounties.csv"
      ]
    },
    {
      "cell_type": "code",
      "execution_count": null,
      "metadata": {
        "id": "MLqqsUF4WuMY"
      },
      "outputs": [
        {
          "data": {
            "text/plain": [
              "StructType([StructField('date', DateType(), True), StructField('county', StringType(), True), StructField('state', StringType(), True), StructField('fips', StringType(), True), StructField('cases', IntegerType(), True), StructField('deaths', IntegerType(), True)])"
            ]
          },
          "execution_count": 2,
          "metadata": {},
          "output_type": "execute_result"
        }
      ],
      "source": [
        "# Write code to define or infer the schema and then read in the dataset\n",
        "# Read the file into a Spark DataFrame\n",
        "usCountiesFilePath = \"./uscounties.csv\"\n",
        "from pyspark.sql.types import DateType, StringType, StructField, StructType, IntegerType\n",
        "\n",
        "# the fips column needs to be a string in order to preserve leading zeros\n",
        "schema = StructType([StructField('date', DateType(), True), StructField('county', StringType(), True), StructField('state', StringType(), True), StructField('fips', StringType(), True), StructField('cases', IntegerType(), True), StructField('deaths', IntegerType(), True)])\n",
        "\n",
        "df = spark.read.csv(usCountiesFilePath, schema=schema, header=True)"
      ]
    },
    {
      "cell_type": "code",
      "execution_count": 8,
      "metadata": {
        "id": "PJZ0D9BSWuMY"
      },
      "outputs": [
        {
          "name": "stdout",
          "output_type": "stream",
          "text": [
            "Max deaths:\n",
            "+-------------+--------+------+\n",
            "|       county|   state|deaths|\n",
            "+-------------+--------+------+\n",
            "|New York City|New York| 40267|\n",
            "+-------------+--------+------+\n",
            "\n"
          ]
        }
      ],
      "source": [
        "# Write code to find the county with the most deaths\n",
        "# Option 1) SparkSQL API\n",
        "df.createOrReplaceTempView(\"covid\")  # create table that you can do sql on\n",
        "\n",
        "print(\"Max deaths:\")\n",
        "spark.sql(\n",
        "    \"\"\"\n",
        "    select county, state, deaths\n",
        "    from covid\n",
        "    order by deaths desc\n",
        "    limit 1\n",
        "  \"\"\"\n",
        ").show()"
      ]
    },
    {
      "cell_type": "code",
      "execution_count": 5,
      "metadata": {
        "id": "Un4dLr7SWuMY"
      },
      "outputs": [
        {
          "name": "stdout",
          "output_type": "stream",
          "text": [
            "Max deaths:\n",
            "[Row(date=datetime.date(2022, 5, 13), county='New York City', state='New York', fips=None, cases=2422658, deaths=40267)]\n"
          ]
        }
      ],
      "source": [
        "# Option 2) # DataFrame style\n",
        "from pyspark.sql.functions import col\n",
        "\n",
        "print(\"Max deaths:\")\n",
        "print(\n",
        "    df.orderBy(col(\"deaths\").desc()).take(  # .where(col(\"county\") == \"New York City\") \\\n",
        "        1\n",
        "    )\n",
        ")"
      ]
    },
    {
      "cell_type": "code",
      "execution_count": 5,
      "metadata": {
        "id": "3Tnf9daUWuMZ"
      },
      "outputs": [
        {
          "name": "stdout",
          "output_type": "stream",
          "text": [
            "Max deaths:\n"
          ]
        },
        {
          "ename": "Py4JJavaError",
          "evalue": "An error occurred while calling z:org.apache.spark.api.python.PythonRDD.collectAndServe.\n: org.apache.spark.SparkException: Job aborted due to stage failure: Task 14 in stage 3.0 failed 1 times, most recent failure: Lost task 14.0 in stage 3.0 (TID 32) (10.89.80.224 executor driver): org.apache.spark.api.python.PythonException: Traceback (most recent call last):\n  File \"C:\\Users\\Sarah\\Code\\CS_452\\.venv\\Lib\\site-packages\\pyspark\\python\\lib\\pyspark.zip\\pyspark\\worker.py\", line 1247, in main\n    process()\n  File \"C:\\Users\\Sarah\\Code\\CS_452\\.venv\\Lib\\site-packages\\pyspark\\python\\lib\\pyspark.zip\\pyspark\\worker.py\", line 1239, in process\n    serializer.dump_stream(out_iter, outfile)\n  File \"C:\\Users\\Sarah\\Code\\CS_452\\.venv\\Lib\\site-packages\\pyspark\\python\\lib\\pyspark.zip\\pyspark\\serializers.py\", line 274, in dump_stream\n    vs = list(itertools.islice(iterator, batch))\n         ^^^^^^^^^^^^^^^^^^^^^^^^^^^^^^^^^^^^^^^\n  File \"c:\\Users\\Sarah\\Code\\CS_452\\.venv\\Lib\\site-packages\\pyspark\\rdd.py\", line 1922, in func\n    yield reduce(f, iterator, initial)\n          ^^^^^^^^^^^^^^^^^^^^^^^^^^^^\n  File \"c:\\Users\\Sarah\\Code\\CS_452\\.venv\\Lib\\site-packages\\pyspark\\util.py\", line 83, in wrapper\n    return f(*args, **kwargs)\n           ^^^^^^^^^^^^^^^^^^\n  File \"C:\\Users\\Sarah\\AppData\\Local\\Temp\\ipykernel_9324\\3454452131.py\", line 6, in getMax\nTypeError: '>' not supported between instances of 'int' and 'NoneType'\n\r\n\tat org.apache.spark.api.python.BasePythonRunner$ReaderIterator.handlePythonException(PythonRunner.scala:572)\r\n\tat org.apache.spark.api.python.PythonRunner$$anon$3.read(PythonRunner.scala:784)\r\n\tat org.apache.spark.api.python.PythonRunner$$anon$3.read(PythonRunner.scala:766)\r\n\tat org.apache.spark.api.python.BasePythonRunner$ReaderIterator.hasNext(PythonRunner.scala:525)\r\n\tat org.apache.spark.InterruptibleIterator.hasNext(InterruptibleIterator.scala:37)\r\n\tat scala.collection.Iterator.foreach(Iterator.scala:943)\r\n\tat scala.collection.Iterator.foreach$(Iterator.scala:943)\r\n\tat org.apache.spark.InterruptibleIterator.foreach(InterruptibleIterator.scala:28)\r\n\tat scala.collection.generic.Growable.$plus$plus$eq(Growable.scala:62)\r\n\tat scala.collection.generic.Growable.$plus$plus$eq$(Growable.scala:53)\r\n\tat scala.collection.mutable.ArrayBuffer.$plus$plus$eq(ArrayBuffer.scala:105)\r\n\tat scala.collection.mutable.ArrayBuffer.$plus$plus$eq(ArrayBuffer.scala:49)\r\n\tat scala.collection.TraversableOnce.to(TraversableOnce.scala:366)\r\n\tat scala.collection.TraversableOnce.to$(TraversableOnce.scala:364)\r\n\tat org.apache.spark.InterruptibleIterator.to(InterruptibleIterator.scala:28)\r\n\tat scala.collection.TraversableOnce.toBuffer(TraversableOnce.scala:358)\r\n\tat scala.collection.TraversableOnce.toBuffer$(TraversableOnce.scala:358)\r\n\tat org.apache.spark.InterruptibleIterator.toBuffer(InterruptibleIterator.scala:28)\r\n\tat scala.collection.TraversableOnce.toArray(TraversableOnce.scala:345)\r\n\tat scala.collection.TraversableOnce.toArray$(TraversableOnce.scala:339)\r\n\tat org.apache.spark.InterruptibleIterator.toArray(InterruptibleIterator.scala:28)\r\n\tat org.apache.spark.rdd.RDD.$anonfun$collect$2(RDD.scala:1049)\r\n\tat org.apache.spark.SparkContext.$anonfun$runJob$5(SparkContext.scala:2433)\r\n\tat org.apache.spark.scheduler.ResultTask.runTask(ResultTask.scala:93)\r\n\tat org.apache.spark.TaskContext.runTaskWithListeners(TaskContext.scala:166)\r\n\tat org.apache.spark.scheduler.Task.run(Task.scala:141)\r\n\tat org.apache.spark.executor.Executor$TaskRunner.$anonfun$run$4(Executor.scala:620)\r\n\tat org.apache.spark.util.SparkErrorUtils.tryWithSafeFinally(SparkErrorUtils.scala:64)\r\n\tat org.apache.spark.util.SparkErrorUtils.tryWithSafeFinally$(SparkErrorUtils.scala:61)\r\n\tat org.apache.spark.util.Utils$.tryWithSafeFinally(Utils.scala:94)\r\n\tat org.apache.spark.executor.Executor$TaskRunner.run(Executor.scala:623)\r\n\tat java.base/java.util.concurrent.ThreadPoolExecutor.runWorker(ThreadPoolExecutor.java:1144)\r\n\tat java.base/java.util.concurrent.ThreadPoolExecutor$Worker.run(ThreadPoolExecutor.java:642)\r\n\tat java.base/java.lang.Thread.run(Thread.java:1589)\r\n\nDriver stacktrace:\r\n\tat org.apache.spark.scheduler.DAGScheduler.failJobAndIndependentStages(DAGScheduler.scala:2856)\r\n\tat org.apache.spark.scheduler.DAGScheduler.$anonfun$abortStage$2(DAGScheduler.scala:2792)\r\n\tat org.apache.spark.scheduler.DAGScheduler.$anonfun$abortStage$2$adapted(DAGScheduler.scala:2791)\r\n\tat scala.collection.mutable.ResizableArray.foreach(ResizableArray.scala:62)\r\n\tat scala.collection.mutable.ResizableArray.foreach$(ResizableArray.scala:55)\r\n\tat scala.collection.mutable.ArrayBuffer.foreach(ArrayBuffer.scala:49)\r\n\tat org.apache.spark.scheduler.DAGScheduler.abortStage(DAGScheduler.scala:2791)\r\n\tat org.apache.spark.scheduler.DAGScheduler.$anonfun$handleTaskSetFailed$1(DAGScheduler.scala:1247)\r\n\tat org.apache.spark.scheduler.DAGScheduler.$anonfun$handleTaskSetFailed$1$adapted(DAGScheduler.scala:1247)\r\n\tat scala.Option.foreach(Option.scala:407)\r\n\tat org.apache.spark.scheduler.DAGScheduler.handleTaskSetFailed(DAGScheduler.scala:1247)\r\n\tat org.apache.spark.scheduler.DAGSchedulerEventProcessLoop.doOnReceive(DAGScheduler.scala:3060)\r\n\tat org.apache.spark.scheduler.DAGSchedulerEventProcessLoop.onReceive(DAGScheduler.scala:2994)\r\n\tat org.apache.spark.scheduler.DAGSchedulerEventProcessLoop.onReceive(DAGScheduler.scala:2983)\r\n\tat org.apache.spark.util.EventLoop$$anon$1.run(EventLoop.scala:49)\r\n\tat org.apache.spark.scheduler.DAGScheduler.runJob(DAGScheduler.scala:989)\r\n\tat org.apache.spark.SparkContext.runJob(SparkContext.scala:2393)\r\n\tat org.apache.spark.SparkContext.runJob(SparkContext.scala:2414)\r\n\tat org.apache.spark.SparkContext.runJob(SparkContext.scala:2433)\r\n\tat org.apache.spark.SparkContext.runJob(SparkContext.scala:2458)\r\n\tat org.apache.spark.rdd.RDD.$anonfun$collect$1(RDD.scala:1049)\r\n\tat org.apache.spark.rdd.RDDOperationScope$.withScope(RDDOperationScope.scala:151)\r\n\tat org.apache.spark.rdd.RDDOperationScope$.withScope(RDDOperationScope.scala:112)\r\n\tat org.apache.spark.rdd.RDD.withScope(RDD.scala:410)\r\n\tat org.apache.spark.rdd.RDD.collect(RDD.scala:1048)\r\n\tat org.apache.spark.api.python.PythonRDD$.collectAndServe(PythonRDD.scala:195)\r\n\tat org.apache.spark.api.python.PythonRDD.collectAndServe(PythonRDD.scala)\r\n\tat java.base/jdk.internal.reflect.NativeMethodAccessorImpl.invoke0(Native Method)\r\n\tat java.base/jdk.internal.reflect.NativeMethodAccessorImpl.invoke(NativeMethodAccessorImpl.java:76)\r\n\tat java.base/jdk.internal.reflect.DelegatingMethodAccessorImpl.invoke(DelegatingMethodAccessorImpl.java:52)\r\n\tat java.base/java.lang.reflect.Method.invoke(Method.java:578)\r\n\tat py4j.reflection.MethodInvoker.invoke(MethodInvoker.java:244)\r\n\tat py4j.reflection.ReflectionEngine.invoke(ReflectionEngine.java:374)\r\n\tat py4j.Gateway.invoke(Gateway.java:282)\r\n\tat py4j.commands.AbstractCommand.invokeMethod(AbstractCommand.java:132)\r\n\tat py4j.commands.CallCommand.execute(CallCommand.java:79)\r\n\tat py4j.ClientServerConnection.waitForCommands(ClientServerConnection.java:182)\r\n\tat py4j.ClientServerConnection.run(ClientServerConnection.java:106)\r\n\tat java.base/java.lang.Thread.run(Thread.java:1589)\r\nCaused by: org.apache.spark.api.python.PythonException: Traceback (most recent call last):\n  File \"C:\\Users\\Sarah\\Code\\CS_452\\.venv\\Lib\\site-packages\\pyspark\\python\\lib\\pyspark.zip\\pyspark\\worker.py\", line 1247, in main\n    process()\n  File \"C:\\Users\\Sarah\\Code\\CS_452\\.venv\\Lib\\site-packages\\pyspark\\python\\lib\\pyspark.zip\\pyspark\\worker.py\", line 1239, in process\n    serializer.dump_stream(out_iter, outfile)\n  File \"C:\\Users\\Sarah\\Code\\CS_452\\.venv\\Lib\\site-packages\\pyspark\\python\\lib\\pyspark.zip\\pyspark\\serializers.py\", line 274, in dump_stream\n    vs = list(itertools.islice(iterator, batch))\n         ^^^^^^^^^^^^^^^^^^^^^^^^^^^^^^^^^^^^^^^\n  File \"c:\\Users\\Sarah\\Code\\CS_452\\.venv\\Lib\\site-packages\\pyspark\\rdd.py\", line 1922, in func\n    yield reduce(f, iterator, initial)\n          ^^^^^^^^^^^^^^^^^^^^^^^^^^^^\n  File \"c:\\Users\\Sarah\\Code\\CS_452\\.venv\\Lib\\site-packages\\pyspark\\util.py\", line 83, in wrapper\n    return f(*args, **kwargs)\n           ^^^^^^^^^^^^^^^^^^\n  File \"C:\\Users\\Sarah\\AppData\\Local\\Temp\\ipykernel_9324\\3454452131.py\", line 6, in getMax\nTypeError: '>' not supported between instances of 'int' and 'NoneType'\n\r\n\tat org.apache.spark.api.python.BasePythonRunner$ReaderIterator.handlePythonException(PythonRunner.scala:572)\r\n\tat org.apache.spark.api.python.PythonRunner$$anon$3.read(PythonRunner.scala:784)\r\n\tat org.apache.spark.api.python.PythonRunner$$anon$3.read(PythonRunner.scala:766)\r\n\tat org.apache.spark.api.python.BasePythonRunner$ReaderIterator.hasNext(PythonRunner.scala:525)\r\n\tat org.apache.spark.InterruptibleIterator.hasNext(InterruptibleIterator.scala:37)\r\n\tat scala.collection.Iterator.foreach(Iterator.scala:943)\r\n\tat scala.collection.Iterator.foreach$(Iterator.scala:943)\r\n\tat org.apache.spark.InterruptibleIterator.foreach(InterruptibleIterator.scala:28)\r\n\tat scala.collection.generic.Growable.$plus$plus$eq(Growable.scala:62)\r\n\tat scala.collection.generic.Growable.$plus$plus$eq$(Growable.scala:53)\r\n\tat scala.collection.mutable.ArrayBuffer.$plus$plus$eq(ArrayBuffer.scala:105)\r\n\tat scala.collection.mutable.ArrayBuffer.$plus$plus$eq(ArrayBuffer.scala:49)\r\n\tat scala.collection.TraversableOnce.to(TraversableOnce.scala:366)\r\n\tat scala.collection.TraversableOnce.to$(TraversableOnce.scala:364)\r\n\tat org.apache.spark.InterruptibleIterator.to(InterruptibleIterator.scala:28)\r\n\tat scala.collection.TraversableOnce.toBuffer(TraversableOnce.scala:358)\r\n\tat scala.collection.TraversableOnce.toBuffer$(TraversableOnce.scala:358)\r\n\tat org.apache.spark.InterruptibleIterator.toBuffer(InterruptibleIterator.scala:28)\r\n\tat scala.collection.TraversableOnce.toArray(TraversableOnce.scala:345)\r\n\tat scala.collection.TraversableOnce.toArray$(TraversableOnce.scala:339)\r\n\tat org.apache.spark.InterruptibleIterator.toArray(InterruptibleIterator.scala:28)\r\n\tat org.apache.spark.rdd.RDD.$anonfun$collect$2(RDD.scala:1049)\r\n\tat org.apache.spark.SparkContext.$anonfun$runJob$5(SparkContext.scala:2433)\r\n\tat org.apache.spark.scheduler.ResultTask.runTask(ResultTask.scala:93)\r\n\tat org.apache.spark.TaskContext.runTaskWithListeners(TaskContext.scala:166)\r\n\tat org.apache.spark.scheduler.Task.run(Task.scala:141)\r\n\tat org.apache.spark.executor.Executor$TaskRunner.$anonfun$run$4(Executor.scala:620)\r\n\tat org.apache.spark.util.SparkErrorUtils.tryWithSafeFinally(SparkErrorUtils.scala:64)\r\n\tat org.apache.spark.util.SparkErrorUtils.tryWithSafeFinally$(SparkErrorUtils.scala:61)\r\n\tat org.apache.spark.util.Utils$.tryWithSafeFinally(Utils.scala:94)\r\n\tat org.apache.spark.executor.Executor$TaskRunner.run(Executor.scala:623)\r\n\tat java.base/java.util.concurrent.ThreadPoolExecutor.runWorker(ThreadPoolExecutor.java:1144)\r\n\tat java.base/java.util.concurrent.ThreadPoolExecutor$Worker.run(ThreadPoolExecutor.java:642)\r\n\t... 1 more\r\n",
          "output_type": "error",
          "traceback": [
            "\u001b[31m---------------------------------------------------------------------------\u001b[39m",
            "\u001b[31mPy4JJavaError\u001b[39m                             Traceback (most recent call last)",
            "\u001b[36mCell\u001b[39m\u001b[36m \u001b[39m\u001b[32mIn[5]\u001b[39m\u001b[32m, line 13\u001b[39m\n\u001b[32m      9\u001b[39m         \u001b[38;5;28;01mreturn\u001b[39;00m cumm\n\u001b[32m     12\u001b[39m \u001b[38;5;28mprint\u001b[39m(\u001b[33m\"\u001b[39m\u001b[33mMax deaths:\u001b[39m\u001b[33m\"\u001b[39m)\n\u001b[32m---> \u001b[39m\u001b[32m13\u001b[39m \u001b[38;5;28mprint\u001b[39m(\u001b[43mrows\u001b[49m\u001b[43m.\u001b[49m\u001b[43mreduce\u001b[49m\u001b[43m(\u001b[49m\u001b[43mgetMax\u001b[49m\u001b[43m)\u001b[49m)\n",
            "\u001b[36mFile \u001b[39m\u001b[32mc:\\Users\\Sarah\\Code\\CS_452\\.venv\\Lib\\site-packages\\pyspark\\rdd.py:1924\u001b[39m, in \u001b[36mRDD.reduce\u001b[39m\u001b[34m(self, f)\u001b[39m\n\u001b[32m   1921\u001b[39m         \u001b[38;5;28;01mreturn\u001b[39;00m\n\u001b[32m   1922\u001b[39m     \u001b[38;5;28;01myield\u001b[39;00m reduce(f, iterator, initial)\n\u001b[32m-> \u001b[39m\u001b[32m1924\u001b[39m vals = \u001b[38;5;28;43mself\u001b[39;49m\u001b[43m.\u001b[49m\u001b[43mmapPartitions\u001b[49m\u001b[43m(\u001b[49m\u001b[43mfunc\u001b[49m\u001b[43m)\u001b[49m\u001b[43m.\u001b[49m\u001b[43mcollect\u001b[49m\u001b[43m(\u001b[49m\u001b[43m)\u001b[49m\n\u001b[32m   1925\u001b[39m \u001b[38;5;28;01mif\u001b[39;00m vals:\n\u001b[32m   1926\u001b[39m     \u001b[38;5;28;01mreturn\u001b[39;00m reduce(f, vals)\n",
            "\u001b[36mFile \u001b[39m\u001b[32mc:\\Users\\Sarah\\Code\\CS_452\\.venv\\Lib\\site-packages\\pyspark\\rdd.py:1833\u001b[39m, in \u001b[36mRDD.collect\u001b[39m\u001b[34m(self)\u001b[39m\n\u001b[32m   1831\u001b[39m \u001b[38;5;28;01mwith\u001b[39;00m SCCallSiteSync(\u001b[38;5;28mself\u001b[39m.context):\n\u001b[32m   1832\u001b[39m     \u001b[38;5;28;01massert\u001b[39;00m \u001b[38;5;28mself\u001b[39m.ctx._jvm \u001b[38;5;129;01mis\u001b[39;00m \u001b[38;5;129;01mnot\u001b[39;00m \u001b[38;5;28;01mNone\u001b[39;00m\n\u001b[32m-> \u001b[39m\u001b[32m1833\u001b[39m     sock_info = \u001b[38;5;28;43mself\u001b[39;49m\u001b[43m.\u001b[49m\u001b[43mctx\u001b[49m\u001b[43m.\u001b[49m\u001b[43m_jvm\u001b[49m\u001b[43m.\u001b[49m\u001b[43mPythonRDD\u001b[49m\u001b[43m.\u001b[49m\u001b[43mcollectAndServe\u001b[49m\u001b[43m(\u001b[49m\u001b[38;5;28;43mself\u001b[39;49m\u001b[43m.\u001b[49m\u001b[43m_jrdd\u001b[49m\u001b[43m.\u001b[49m\u001b[43mrdd\u001b[49m\u001b[43m(\u001b[49m\u001b[43m)\u001b[49m\u001b[43m)\u001b[49m\n\u001b[32m   1834\u001b[39m \u001b[38;5;28;01mreturn\u001b[39;00m \u001b[38;5;28mlist\u001b[39m(_load_from_socket(sock_info, \u001b[38;5;28mself\u001b[39m._jrdd_deserializer))\n",
            "\u001b[36mFile \u001b[39m\u001b[32mc:\\Users\\Sarah\\Code\\CS_452\\.venv\\Lib\\site-packages\\py4j\\java_gateway.py:1322\u001b[39m, in \u001b[36mJavaMember.__call__\u001b[39m\u001b[34m(self, *args)\u001b[39m\n\u001b[32m   1316\u001b[39m command = proto.CALL_COMMAND_NAME +\\\n\u001b[32m   1317\u001b[39m     \u001b[38;5;28mself\u001b[39m.command_header +\\\n\u001b[32m   1318\u001b[39m     args_command +\\\n\u001b[32m   1319\u001b[39m     proto.END_COMMAND_PART\n\u001b[32m   1321\u001b[39m answer = \u001b[38;5;28mself\u001b[39m.gateway_client.send_command(command)\n\u001b[32m-> \u001b[39m\u001b[32m1322\u001b[39m return_value = \u001b[43mget_return_value\u001b[49m\u001b[43m(\u001b[49m\n\u001b[32m   1323\u001b[39m \u001b[43m    \u001b[49m\u001b[43manswer\u001b[49m\u001b[43m,\u001b[49m\u001b[43m \u001b[49m\u001b[38;5;28;43mself\u001b[39;49m\u001b[43m.\u001b[49m\u001b[43mgateway_client\u001b[49m\u001b[43m,\u001b[49m\u001b[43m \u001b[49m\u001b[38;5;28;43mself\u001b[39;49m\u001b[43m.\u001b[49m\u001b[43mtarget_id\u001b[49m\u001b[43m,\u001b[49m\u001b[43m \u001b[49m\u001b[38;5;28;43mself\u001b[39;49m\u001b[43m.\u001b[49m\u001b[43mname\u001b[49m\u001b[43m)\u001b[49m\n\u001b[32m   1325\u001b[39m \u001b[38;5;28;01mfor\u001b[39;00m temp_arg \u001b[38;5;129;01min\u001b[39;00m temp_args:\n\u001b[32m   1326\u001b[39m     \u001b[38;5;28;01mif\u001b[39;00m \u001b[38;5;28mhasattr\u001b[39m(temp_arg, \u001b[33m\"\u001b[39m\u001b[33m_detach\u001b[39m\u001b[33m\"\u001b[39m):\n",
            "\u001b[36mFile \u001b[39m\u001b[32mc:\\Users\\Sarah\\Code\\CS_452\\.venv\\Lib\\site-packages\\pyspark\\errors\\exceptions\\captured.py:179\u001b[39m, in \u001b[36mcapture_sql_exception.<locals>.deco\u001b[39m\u001b[34m(*a, **kw)\u001b[39m\n\u001b[32m    177\u001b[39m \u001b[38;5;28;01mdef\u001b[39;00m\u001b[38;5;250m \u001b[39m\u001b[34mdeco\u001b[39m(*a: Any, **kw: Any) -> Any:\n\u001b[32m    178\u001b[39m     \u001b[38;5;28;01mtry\u001b[39;00m:\n\u001b[32m--> \u001b[39m\u001b[32m179\u001b[39m         \u001b[38;5;28;01mreturn\u001b[39;00m \u001b[43mf\u001b[49m\u001b[43m(\u001b[49m\u001b[43m*\u001b[49m\u001b[43ma\u001b[49m\u001b[43m,\u001b[49m\u001b[43m \u001b[49m\u001b[43m*\u001b[49m\u001b[43m*\u001b[49m\u001b[43mkw\u001b[49m\u001b[43m)\u001b[49m\n\u001b[32m    180\u001b[39m     \u001b[38;5;28;01mexcept\u001b[39;00m Py4JJavaError \u001b[38;5;28;01mas\u001b[39;00m e:\n\u001b[32m    181\u001b[39m         converted = convert_exception(e.java_exception)\n",
            "\u001b[36mFile \u001b[39m\u001b[32mc:\\Users\\Sarah\\Code\\CS_452\\.venv\\Lib\\site-packages\\py4j\\protocol.py:326\u001b[39m, in \u001b[36mget_return_value\u001b[39m\u001b[34m(answer, gateway_client, target_id, name)\u001b[39m\n\u001b[32m    324\u001b[39m value = OUTPUT_CONVERTER[\u001b[38;5;28mtype\u001b[39m](answer[\u001b[32m2\u001b[39m:], gateway_client)\n\u001b[32m    325\u001b[39m \u001b[38;5;28;01mif\u001b[39;00m answer[\u001b[32m1\u001b[39m] == REFERENCE_TYPE:\n\u001b[32m--> \u001b[39m\u001b[32m326\u001b[39m     \u001b[38;5;28;01mraise\u001b[39;00m Py4JJavaError(\n\u001b[32m    327\u001b[39m         \u001b[33m\"\u001b[39m\u001b[33mAn error occurred while calling \u001b[39m\u001b[38;5;132;01m{0}\u001b[39;00m\u001b[38;5;132;01m{1}\u001b[39;00m\u001b[38;5;132;01m{2}\u001b[39;00m\u001b[33m.\u001b[39m\u001b[38;5;130;01m\\n\u001b[39;00m\u001b[33m\"\u001b[39m.\n\u001b[32m    328\u001b[39m         \u001b[38;5;28mformat\u001b[39m(target_id, \u001b[33m\"\u001b[39m\u001b[33m.\u001b[39m\u001b[33m\"\u001b[39m, name), value)\n\u001b[32m    329\u001b[39m \u001b[38;5;28;01melse\u001b[39;00m:\n\u001b[32m    330\u001b[39m     \u001b[38;5;28;01mraise\u001b[39;00m Py4JError(\n\u001b[32m    331\u001b[39m         \u001b[33m\"\u001b[39m\u001b[33mAn error occurred while calling \u001b[39m\u001b[38;5;132;01m{0}\u001b[39;00m\u001b[38;5;132;01m{1}\u001b[39;00m\u001b[38;5;132;01m{2}\u001b[39;00m\u001b[33m. Trace:\u001b[39m\u001b[38;5;130;01m\\n\u001b[39;00m\u001b[38;5;132;01m{3}\u001b[39;00m\u001b[38;5;130;01m\\n\u001b[39;00m\u001b[33m\"\u001b[39m.\n\u001b[32m    332\u001b[39m         \u001b[38;5;28mformat\u001b[39m(target_id, \u001b[33m\"\u001b[39m\u001b[33m.\u001b[39m\u001b[33m\"\u001b[39m, name, value))\n",
            "\u001b[31mPy4JJavaError\u001b[39m: An error occurred while calling z:org.apache.spark.api.python.PythonRDD.collectAndServe.\n: org.apache.spark.SparkException: Job aborted due to stage failure: Task 14 in stage 3.0 failed 1 times, most recent failure: Lost task 14.0 in stage 3.0 (TID 32) (10.89.80.224 executor driver): org.apache.spark.api.python.PythonException: Traceback (most recent call last):\n  File \"C:\\Users\\Sarah\\Code\\CS_452\\.venv\\Lib\\site-packages\\pyspark\\python\\lib\\pyspark.zip\\pyspark\\worker.py\", line 1247, in main\n    process()\n  File \"C:\\Users\\Sarah\\Code\\CS_452\\.venv\\Lib\\site-packages\\pyspark\\python\\lib\\pyspark.zip\\pyspark\\worker.py\", line 1239, in process\n    serializer.dump_stream(out_iter, outfile)\n  File \"C:\\Users\\Sarah\\Code\\CS_452\\.venv\\Lib\\site-packages\\pyspark\\python\\lib\\pyspark.zip\\pyspark\\serializers.py\", line 274, in dump_stream\n    vs = list(itertools.islice(iterator, batch))\n         ^^^^^^^^^^^^^^^^^^^^^^^^^^^^^^^^^^^^^^^\n  File \"c:\\Users\\Sarah\\Code\\CS_452\\.venv\\Lib\\site-packages\\pyspark\\rdd.py\", line 1922, in func\n    yield reduce(f, iterator, initial)\n          ^^^^^^^^^^^^^^^^^^^^^^^^^^^^\n  File \"c:\\Users\\Sarah\\Code\\CS_452\\.venv\\Lib\\site-packages\\pyspark\\util.py\", line 83, in wrapper\n    return f(*args, **kwargs)\n           ^^^^^^^^^^^^^^^^^^\n  File \"C:\\Users\\Sarah\\AppData\\Local\\Temp\\ipykernel_9324\\3454452131.py\", line 6, in getMax\nTypeError: '>' not supported between instances of 'int' and 'NoneType'\n\r\n\tat org.apache.spark.api.python.BasePythonRunner$ReaderIterator.handlePythonException(PythonRunner.scala:572)\r\n\tat org.apache.spark.api.python.PythonRunner$$anon$3.read(PythonRunner.scala:784)\r\n\tat org.apache.spark.api.python.PythonRunner$$anon$3.read(PythonRunner.scala:766)\r\n\tat org.apache.spark.api.python.BasePythonRunner$ReaderIterator.hasNext(PythonRunner.scala:525)\r\n\tat org.apache.spark.InterruptibleIterator.hasNext(InterruptibleIterator.scala:37)\r\n\tat scala.collection.Iterator.foreach(Iterator.scala:943)\r\n\tat scala.collection.Iterator.foreach$(Iterator.scala:943)\r\n\tat org.apache.spark.InterruptibleIterator.foreach(InterruptibleIterator.scala:28)\r\n\tat scala.collection.generic.Growable.$plus$plus$eq(Growable.scala:62)\r\n\tat scala.collection.generic.Growable.$plus$plus$eq$(Growable.scala:53)\r\n\tat scala.collection.mutable.ArrayBuffer.$plus$plus$eq(ArrayBuffer.scala:105)\r\n\tat scala.collection.mutable.ArrayBuffer.$plus$plus$eq(ArrayBuffer.scala:49)\r\n\tat scala.collection.TraversableOnce.to(TraversableOnce.scala:366)\r\n\tat scala.collection.TraversableOnce.to$(TraversableOnce.scala:364)\r\n\tat org.apache.spark.InterruptibleIterator.to(InterruptibleIterator.scala:28)\r\n\tat scala.collection.TraversableOnce.toBuffer(TraversableOnce.scala:358)\r\n\tat scala.collection.TraversableOnce.toBuffer$(TraversableOnce.scala:358)\r\n\tat org.apache.spark.InterruptibleIterator.toBuffer(InterruptibleIterator.scala:28)\r\n\tat scala.collection.TraversableOnce.toArray(TraversableOnce.scala:345)\r\n\tat scala.collection.TraversableOnce.toArray$(TraversableOnce.scala:339)\r\n\tat org.apache.spark.InterruptibleIterator.toArray(InterruptibleIterator.scala:28)\r\n\tat org.apache.spark.rdd.RDD.$anonfun$collect$2(RDD.scala:1049)\r\n\tat org.apache.spark.SparkContext.$anonfun$runJob$5(SparkContext.scala:2433)\r\n\tat org.apache.spark.scheduler.ResultTask.runTask(ResultTask.scala:93)\r\n\tat org.apache.spark.TaskContext.runTaskWithListeners(TaskContext.scala:166)\r\n\tat org.apache.spark.scheduler.Task.run(Task.scala:141)\r\n\tat org.apache.spark.executor.Executor$TaskRunner.$anonfun$run$4(Executor.scala:620)\r\n\tat org.apache.spark.util.SparkErrorUtils.tryWithSafeFinally(SparkErrorUtils.scala:64)\r\n\tat org.apache.spark.util.SparkErrorUtils.tryWithSafeFinally$(SparkErrorUtils.scala:61)\r\n\tat org.apache.spark.util.Utils$.tryWithSafeFinally(Utils.scala:94)\r\n\tat org.apache.spark.executor.Executor$TaskRunner.run(Executor.scala:623)\r\n\tat java.base/java.util.concurrent.ThreadPoolExecutor.runWorker(ThreadPoolExecutor.java:1144)\r\n\tat java.base/java.util.concurrent.ThreadPoolExecutor$Worker.run(ThreadPoolExecutor.java:642)\r\n\tat java.base/java.lang.Thread.run(Thread.java:1589)\r\n\nDriver stacktrace:\r\n\tat org.apache.spark.scheduler.DAGScheduler.failJobAndIndependentStages(DAGScheduler.scala:2856)\r\n\tat org.apache.spark.scheduler.DAGScheduler.$anonfun$abortStage$2(DAGScheduler.scala:2792)\r\n\tat org.apache.spark.scheduler.DAGScheduler.$anonfun$abortStage$2$adapted(DAGScheduler.scala:2791)\r\n\tat scala.collection.mutable.ResizableArray.foreach(ResizableArray.scala:62)\r\n\tat scala.collection.mutable.ResizableArray.foreach$(ResizableArray.scala:55)\r\n\tat scala.collection.mutable.ArrayBuffer.foreach(ArrayBuffer.scala:49)\r\n\tat org.apache.spark.scheduler.DAGScheduler.abortStage(DAGScheduler.scala:2791)\r\n\tat org.apache.spark.scheduler.DAGScheduler.$anonfun$handleTaskSetFailed$1(DAGScheduler.scala:1247)\r\n\tat org.apache.spark.scheduler.DAGScheduler.$anonfun$handleTaskSetFailed$1$adapted(DAGScheduler.scala:1247)\r\n\tat scala.Option.foreach(Option.scala:407)\r\n\tat org.apache.spark.scheduler.DAGScheduler.handleTaskSetFailed(DAGScheduler.scala:1247)\r\n\tat org.apache.spark.scheduler.DAGSchedulerEventProcessLoop.doOnReceive(DAGScheduler.scala:3060)\r\n\tat org.apache.spark.scheduler.DAGSchedulerEventProcessLoop.onReceive(DAGScheduler.scala:2994)\r\n\tat org.apache.spark.scheduler.DAGSchedulerEventProcessLoop.onReceive(DAGScheduler.scala:2983)\r\n\tat org.apache.spark.util.EventLoop$$anon$1.run(EventLoop.scala:49)\r\n\tat org.apache.spark.scheduler.DAGScheduler.runJob(DAGScheduler.scala:989)\r\n\tat org.apache.spark.SparkContext.runJob(SparkContext.scala:2393)\r\n\tat org.apache.spark.SparkContext.runJob(SparkContext.scala:2414)\r\n\tat org.apache.spark.SparkContext.runJob(SparkContext.scala:2433)\r\n\tat org.apache.spark.SparkContext.runJob(SparkContext.scala:2458)\r\n\tat org.apache.spark.rdd.RDD.$anonfun$collect$1(RDD.scala:1049)\r\n\tat org.apache.spark.rdd.RDDOperationScope$.withScope(RDDOperationScope.scala:151)\r\n\tat org.apache.spark.rdd.RDDOperationScope$.withScope(RDDOperationScope.scala:112)\r\n\tat org.apache.spark.rdd.RDD.withScope(RDD.scala:410)\r\n\tat org.apache.spark.rdd.RDD.collect(RDD.scala:1048)\r\n\tat org.apache.spark.api.python.PythonRDD$.collectAndServe(PythonRDD.scala:195)\r\n\tat org.apache.spark.api.python.PythonRDD.collectAndServe(PythonRDD.scala)\r\n\tat java.base/jdk.internal.reflect.NativeMethodAccessorImpl.invoke0(Native Method)\r\n\tat java.base/jdk.internal.reflect.NativeMethodAccessorImpl.invoke(NativeMethodAccessorImpl.java:76)\r\n\tat java.base/jdk.internal.reflect.DelegatingMethodAccessorImpl.invoke(DelegatingMethodAccessorImpl.java:52)\r\n\tat java.base/java.lang.reflect.Method.invoke(Method.java:578)\r\n\tat py4j.reflection.MethodInvoker.invoke(MethodInvoker.java:244)\r\n\tat py4j.reflection.ReflectionEngine.invoke(ReflectionEngine.java:374)\r\n\tat py4j.Gateway.invoke(Gateway.java:282)\r\n\tat py4j.commands.AbstractCommand.invokeMethod(AbstractCommand.java:132)\r\n\tat py4j.commands.CallCommand.execute(CallCommand.java:79)\r\n\tat py4j.ClientServerConnection.waitForCommands(ClientServerConnection.java:182)\r\n\tat py4j.ClientServerConnection.run(ClientServerConnection.java:106)\r\n\tat java.base/java.lang.Thread.run(Thread.java:1589)\r\nCaused by: org.apache.spark.api.python.PythonException: Traceback (most recent call last):\n  File \"C:\\Users\\Sarah\\Code\\CS_452\\.venv\\Lib\\site-packages\\pyspark\\python\\lib\\pyspark.zip\\pyspark\\worker.py\", line 1247, in main\n    process()\n  File \"C:\\Users\\Sarah\\Code\\CS_452\\.venv\\Lib\\site-packages\\pyspark\\python\\lib\\pyspark.zip\\pyspark\\worker.py\", line 1239, in process\n    serializer.dump_stream(out_iter, outfile)\n  File \"C:\\Users\\Sarah\\Code\\CS_452\\.venv\\Lib\\site-packages\\pyspark\\python\\lib\\pyspark.zip\\pyspark\\serializers.py\", line 274, in dump_stream\n    vs = list(itertools.islice(iterator, batch))\n         ^^^^^^^^^^^^^^^^^^^^^^^^^^^^^^^^^^^^^^^\n  File \"c:\\Users\\Sarah\\Code\\CS_452\\.venv\\Lib\\site-packages\\pyspark\\rdd.py\", line 1922, in func\n    yield reduce(f, iterator, initial)\n          ^^^^^^^^^^^^^^^^^^^^^^^^^^^^\n  File \"c:\\Users\\Sarah\\Code\\CS_452\\.venv\\Lib\\site-packages\\pyspark\\util.py\", line 83, in wrapper\n    return f(*args, **kwargs)\n           ^^^^^^^^^^^^^^^^^^\n  File \"C:\\Users\\Sarah\\AppData\\Local\\Temp\\ipykernel_9324\\3454452131.py\", line 6, in getMax\nTypeError: '>' not supported between instances of 'int' and 'NoneType'\n\r\n\tat org.apache.spark.api.python.BasePythonRunner$ReaderIterator.handlePythonException(PythonRunner.scala:572)\r\n\tat org.apache.spark.api.python.PythonRunner$$anon$3.read(PythonRunner.scala:784)\r\n\tat org.apache.spark.api.python.PythonRunner$$anon$3.read(PythonRunner.scala:766)\r\n\tat org.apache.spark.api.python.BasePythonRunner$ReaderIterator.hasNext(PythonRunner.scala:525)\r\n\tat org.apache.spark.InterruptibleIterator.hasNext(InterruptibleIterator.scala:37)\r\n\tat scala.collection.Iterator.foreach(Iterator.scala:943)\r\n\tat scala.collection.Iterator.foreach$(Iterator.scala:943)\r\n\tat org.apache.spark.InterruptibleIterator.foreach(InterruptibleIterator.scala:28)\r\n\tat scala.collection.generic.Growable.$plus$plus$eq(Growable.scala:62)\r\n\tat scala.collection.generic.Growable.$plus$plus$eq$(Growable.scala:53)\r\n\tat scala.collection.mutable.ArrayBuffer.$plus$plus$eq(ArrayBuffer.scala:105)\r\n\tat scala.collection.mutable.ArrayBuffer.$plus$plus$eq(ArrayBuffer.scala:49)\r\n\tat scala.collection.TraversableOnce.to(TraversableOnce.scala:366)\r\n\tat scala.collection.TraversableOnce.to$(TraversableOnce.scala:364)\r\n\tat org.apache.spark.InterruptibleIterator.to(InterruptibleIterator.scala:28)\r\n\tat scala.collection.TraversableOnce.toBuffer(TraversableOnce.scala:358)\r\n\tat scala.collection.TraversableOnce.toBuffer$(TraversableOnce.scala:358)\r\n\tat org.apache.spark.InterruptibleIterator.toBuffer(InterruptibleIterator.scala:28)\r\n\tat scala.collection.TraversableOnce.toArray(TraversableOnce.scala:345)\r\n\tat scala.collection.TraversableOnce.toArray$(TraversableOnce.scala:339)\r\n\tat org.apache.spark.InterruptibleIterator.toArray(InterruptibleIterator.scala:28)\r\n\tat org.apache.spark.rdd.RDD.$anonfun$collect$2(RDD.scala:1049)\r\n\tat org.apache.spark.SparkContext.$anonfun$runJob$5(SparkContext.scala:2433)\r\n\tat org.apache.spark.scheduler.ResultTask.runTask(ResultTask.scala:93)\r\n\tat org.apache.spark.TaskContext.runTaskWithListeners(TaskContext.scala:166)\r\n\tat org.apache.spark.scheduler.Task.run(Task.scala:141)\r\n\tat org.apache.spark.executor.Executor$TaskRunner.$anonfun$run$4(Executor.scala:620)\r\n\tat org.apache.spark.util.SparkErrorUtils.tryWithSafeFinally(SparkErrorUtils.scala:64)\r\n\tat org.apache.spark.util.SparkErrorUtils.tryWithSafeFinally$(SparkErrorUtils.scala:61)\r\n\tat org.apache.spark.util.Utils$.tryWithSafeFinally(Utils.scala:94)\r\n\tat org.apache.spark.executor.Executor$TaskRunner.run(Executor.scala:623)\r\n\tat java.base/java.util.concurrent.ThreadPoolExecutor.runWorker(ThreadPoolExecutor.java:1144)\r\n\tat java.base/java.util.concurrent.ThreadPoolExecutor$Worker.run(ThreadPoolExecutor.java:642)\r\n\t... 1 more\r\n"
          ]
        }
      ],
      "source": [
        "# # Option 3) RDD MapReduce Style without key\n",
        "rows = df.rdd\n",
        "\n",
        "\n",
        "def getMax(cumm, other):\n",
        "    if other[\"deaths\"] is not None and other[\"deaths\"] > cumm[\"deaths\"]:\n",
        "        return other\n",
        "    else:\n",
        "        return cumm\n",
        "\n",
        "\n",
        "print(\"Max deaths:\")\n",
        "print(rows.reduce(getMax))"
      ]
    },
    {
      "cell_type": "code",
      "execution_count": 7,
      "metadata": {
        "id": "Niq8SodKWuMZ"
      },
      "outputs": [
        {
          "name": "stdout",
          "output_type": "stream",
          "text": [
            "Max deaths:\n",
            "(40267, 'New York City,New York')\n"
          ]
        }
      ],
      "source": [
        "# # Option 4) RDD MapReduce Style with mapped tuples\n",
        "rows = df.rdd\n",
        "\n",
        "\n",
        "def getMax(cumm, other):\n",
        "    if other[0] > cumm[0]:\n",
        "        return other\n",
        "    else:\n",
        "        return cumm\n",
        "\n",
        "\n",
        "rows = rows.map(lambda r: (r[\"deaths\"] or 0, f\"{r['county']},{r['state']}\"))\n",
        "print(\"Max deaths:\")\n",
        "print(rows.reduce(getMax))"
      ]
    },
    {
      "cell_type": "code",
      "execution_count": 48,
      "metadata": {
        "id": "ag3VUpo9WuMZ"
      },
      "outputs": [
        {
          "name": "stdout",
          "output_type": "stream",
          "text": [
            "Max deaths:\n",
            "+-------------+--------+------+\n",
            "|       county|   state|deaths|\n",
            "+-------------+--------+------+\n",
            "|New York City|New York| 40267|\n",
            "+-------------+--------+------+\n",
            "\n"
          ]
        }
      ],
      "source": [
        "# Write code to find the county with the most deaths\n",
        "df.createOrReplaceTempView(\"covid\")  # create table that you can do sql on\n",
        "\n",
        "print(\"Max deaths:\")\n",
        "spark.sql(\n",
        "    \"\"\"\n",
        "    select county, state, deaths\n",
        "    from covid\n",
        "    order by deaths desc\n",
        "    limit 1\n",
        "  \"\"\"\n",
        ").show()"
      ]
    },
    {
      "cell_type": "code",
      "execution_count": null,
      "metadata": {},
      "outputs": [
        {
          "ename": "AttributeError",
          "evalue": "'str' object has no attribute 'toordinal'",
          "output_type": "error",
          "traceback": [
            "\u001b[31m---------------------------------------------------------------------------\u001b[39m",
            "\u001b[31mAttributeError\u001b[39m                            Traceback (most recent call last)",
            "\u001b[36mCell\u001b[39m\u001b[36m \u001b[39m\u001b[32mIn[37]\u001b[39m\u001b[32m, line 1\u001b[39m\n\u001b[32m----> \u001b[39m\u001b[32m1\u001b[39m latest_date = \u001b[43mDateType\u001b[49m\u001b[43m.\u001b[49m\u001b[43mtoInternal\u001b[49m\u001b[43m(\u001b[49m\u001b[43mDateType\u001b[49m\u001b[43m,\u001b[49m\u001b[43m \u001b[49m\u001b[33;43m'\u001b[39;49m\u001b[33;43m2022-05-13\u001b[39;49m\u001b[33;43m'\u001b[39;49m\u001b[43m)\u001b[49m\n",
            "\u001b[36mFile \u001b[39m\u001b[32mc:\\Users\\Sarah\\Code\\CS_452\\.venv\\Lib\\site-packages\\pyspark\\sql\\types.py:259\u001b[39m, in \u001b[36mDateType.toInternal\u001b[39m\u001b[34m(self, d)\u001b[39m\n\u001b[32m    257\u001b[39m \u001b[38;5;28;01mdef\u001b[39;00m\u001b[38;5;250m \u001b[39m\u001b[34mtoInternal\u001b[39m(\u001b[38;5;28mself\u001b[39m, d: datetime.date) -> \u001b[38;5;28mint\u001b[39m:\n\u001b[32m    258\u001b[39m     \u001b[38;5;28;01mif\u001b[39;00m d \u001b[38;5;129;01mis\u001b[39;00m \u001b[38;5;129;01mnot\u001b[39;00m \u001b[38;5;28;01mNone\u001b[39;00m:\n\u001b[32m--> \u001b[39m\u001b[32m259\u001b[39m         \u001b[38;5;28;01mreturn\u001b[39;00m \u001b[43md\u001b[49m\u001b[43m.\u001b[49m\u001b[43mtoordinal\u001b[49m() - \u001b[38;5;28mself\u001b[39m.EPOCH_ORDINAL\n",
            "\u001b[31mAttributeError\u001b[39m: 'str' object has no attribute 'toordinal'"
          ]
        }
      ],
      "source": [
        "latest_date = '2022-05-13'"
      ]
    },
    {
      "cell_type": "code",
      "execution_count": 9,
      "metadata": {
        "id": "ASwuQqrnWuMZ"
      },
      "outputs": [
        {
          "name": "stdout",
          "output_type": "stream",
          "text": [
            "Max cases:\n",
            "+-----------+----------+-------+\n",
            "|     county|     state|  cases|\n",
            "+-----------+----------+-------+\n",
            "|Los Angeles|California|2908425|\n",
            "+-----------+----------+-------+\n",
            "\n"
          ]
        }
      ],
      "source": [
        "# Write code to find the county with the most cases\n",
        "print(\"Max cases:\")\n",
        "spark.sql(\n",
        "    \"\"\"\n",
        "    select county, state, cases\n",
        "    from covid\n",
        "    order by cases desc\n",
        "    limit 1\n",
        "  \"\"\"\n",
        ").show()"
      ]
    },
    {
      "cell_type": "code",
      "execution_count": 39,
      "metadata": {
        "id": "0xEfrgZ4WuMZ"
      },
      "outputs": [
        {
          "name": "stdout",
          "output_type": "stream",
          "text": [
            "Total deaths in Utah County:\n",
            "+------+-----+------+\n",
            "|county|state|deaths|\n",
            "+------+-----+------+\n",
            "|  Utah| Utah|   791|\n",
            "+------+-----+------+\n",
            "\n"
          ]
        }
      ],
      "source": [
        "# Write code to find the total number of deaths in Utah county\n",
        "print(\"Total deaths in Utah County:\")\n",
        "spark.sql(\n",
        "  f\"\"\"\n",
        "    with latest_fips as (\n",
        "      select fips, max(date) as latest\n",
        "      from covid\n",
        "      group by fips\n",
        "    )\n",
        "    select county, state, deaths\n",
        "    from covid\n",
        "    where county='Utah' and date='2022-05-13'\n",
        "  \"\"\"\n",
        ").show()"
      ]
    },
    {
      "cell_type": "code",
      "execution_count": 40,
      "metadata": {
        "id": "xTbHRoiLWuMZ"
      },
      "outputs": [
        {
          "name": "stdout",
          "output_type": "stream",
          "text": [
            "Death rate for each state:\n",
            "+-------------+--------------------+\n",
            "|        state|                rate|\n",
            "+-------------+--------------------+\n",
            "| Pennsylvania|0.015722318331513083|\n",
            "|  Mississippi|0.015541584999631953|\n",
            "|      Alabama|0.015043956128181742|\n",
            "|       Nevada|0.014900913477587933|\n",
            "|      Arizona|0.014884843113359676|\n",
            "|      Georgia|0.014874971808464166|\n",
            "|     Michigan|0.014616217125644464|\n",
            "|   New Jersey|0.014498962846650889|\n",
            "|   New Mexico|0.014462012745729724|\n",
            "|     Missouri|0.014159391860103612|\n",
            "|         Ohio| 0.01415176937498371|\n",
            "|  Connecticut|0.014002001385574628|\n",
            "|    Louisiana|0.013898007349590935|\n",
            "|     Maryland|0.013799618514678251|\n",
            "|      Indiana|0.013787799751901293|\n",
            "|     Oklahoma|0.013771585140095712|\n",
            "|West Virginia|0.013635248690478075|\n",
            "|     Arkansas| 0.01361763958527935|\n",
            "|    Tennessee|0.013055661731134637|\n",
            "|        Texas|0.013021050347158319|\n",
            "+-------------+--------------------+\n",
            "only showing top 20 rows\n",
            "\n"
          ]
        }
      ],
      "source": [
        "# Write code to find the death rate for each state and sort the states by death rate descending\n",
        "print(\"Death rate for each state:\")\n",
        "spark.sql(\n",
        "    \"\"\"\n",
        "    select state, sum(deaths) / sum(cases) as rate\n",
        "    from covid\n",
        "    where date='2022-05-13'\n",
        "    group by state\n",
        "    order by rate desc\n",
        "  \"\"\"\n",
        ").show()"
      ]
    },
    {
      "cell_type": "code",
      "execution_count": null,
      "metadata": {
        "id": "g2pPvp5VWuMZ"
      },
      "outputs": [
        {
          "name": "stdout",
          "output_type": "stream",
          "text": [
            "Top 10 days with the highest case increases in Utah County:\n",
            "+----------+-------------+\n",
            "|      date|case_increase|\n",
            "+----------+-------------+\n",
            "|2022-01-18|         8221|\n",
            "|2022-01-24|         4756|\n",
            "|2022-01-10|         4463|\n",
            "|2022-01-19|         2990|\n",
            "|2022-01-21|         2716|\n",
            "|2022-01-20|         2625|\n",
            "|2022-01-03|         2569|\n",
            "|2022-01-13|         2563|\n",
            "|2022-01-14|         1984|\n",
            "|2022-01-31|         1911|\n",
            "|2021-01-13|         1878|\n",
            "|2022-01-07|         1848|\n",
            "|2022-01-11|         1766|\n",
            "|2022-01-12|         1628|\n",
            "|2022-01-06|         1620|\n",
            "|2022-01-25|         1598|\n",
            "|2022-01-27|         1542|\n",
            "|2020-11-27|         1482|\n",
            "|2022-01-26|         1425|\n",
            "|2020-11-14|         1335|\n",
            "+----------+-------------+\n",
            "only showing top 20 rows\n",
            "\n"
          ]
        }
      ],
      "source": [
        "# Write code to something else interesting with this data – your choice\n",
        "print(\"Top days with the highest case increases in Utah County:\")\n",
        "spark.sql(\n",
        "    \"\"\"\n",
        "    select curr.date, curr.cases - prev.cases as case_increase\n",
        "    from covid curr\n",
        "    left join covid prev on prev.date = curr.date - 1\n",
        "    where curr.county='Utah' and prev.county='Utah'\n",
        "    order by case_increase desc\n",
        "  \"\"\"\n",
        ").show()"
      ]
    },
    {
      "cell_type": "code",
      "execution_count": null,
      "metadata": {
        "id": "HASapzHvXF5a"
      },
      "outputs": [],
      "source": [
        "# Extra Credit 1 - Plot your death rate data!\n",
        "# Extra Credit 2 - Join this with other data or find something intresting in this data and plot it on a map!"
      ]
    },
    {
      "cell_type": "code",
      "execution_count": 1,
      "metadata": {
        "id": "s4tCU11zhjJY"
      },
      "outputs": [
        {
          "data": {
            "application/vnd.plotly.v1+json": {
              "config": {
                "plotlyServerURL": "https://plot.ly"
              },
              "data": [
                {
                  "coloraxis": "coloraxis",
                  "geo": "geo",
                  "hovertemplate": "state=%{location}<br>values=%{z}<extra></extra>",
                  "locationmode": "USA-states",
                  "locations": [
                    "NY",
                    "CA",
                    "TX",
                    "FL"
                  ],
                  "name": "",
                  "type": "choropleth",
                  "z": {
                    "bdata": "ChQPGQ==",
                    "dtype": "i1"
                  }
                }
              ],
              "layout": {
                "coloraxis": {
                  "colorbar": {
                    "title": {
                      "text": "values"
                    }
                  },
                  "colorscale": [
                    [
                      0,
                      "#440154"
                    ],
                    [
                      0.1111111111111111,
                      "#482878"
                    ],
                    [
                      0.2222222222222222,
                      "#3e4989"
                    ],
                    [
                      0.3333333333333333,
                      "#31688e"
                    ],
                    [
                      0.4444444444444444,
                      "#26828e"
                    ],
                    [
                      0.5555555555555556,
                      "#1f9e89"
                    ],
                    [
                      0.6666666666666666,
                      "#35b779"
                    ],
                    [
                      0.7777777777777778,
                      "#6ece58"
                    ],
                    [
                      0.8888888888888888,
                      "#b5de2b"
                    ],
                    [
                      1,
                      "#fde725"
                    ]
                  ]
                },
                "geo": {
                  "center": {},
                  "domain": {
                    "x": [
                      0,
                      1
                    ],
                    "y": [
                      0,
                      1
                    ]
                  },
                  "scope": "usa"
                },
                "legend": {
                  "tracegroupgap": 0
                },
                "template": {
                  "data": {
                    "bar": [
                      {
                        "error_x": {
                          "color": "#2a3f5f"
                        },
                        "error_y": {
                          "color": "#2a3f5f"
                        },
                        "marker": {
                          "line": {
                            "color": "#E5ECF6",
                            "width": 0.5
                          },
                          "pattern": {
                            "fillmode": "overlay",
                            "size": 10,
                            "solidity": 0.2
                          }
                        },
                        "type": "bar"
                      }
                    ],
                    "barpolar": [
                      {
                        "marker": {
                          "line": {
                            "color": "#E5ECF6",
                            "width": 0.5
                          },
                          "pattern": {
                            "fillmode": "overlay",
                            "size": 10,
                            "solidity": 0.2
                          }
                        },
                        "type": "barpolar"
                      }
                    ],
                    "carpet": [
                      {
                        "aaxis": {
                          "endlinecolor": "#2a3f5f",
                          "gridcolor": "white",
                          "linecolor": "white",
                          "minorgridcolor": "white",
                          "startlinecolor": "#2a3f5f"
                        },
                        "baxis": {
                          "endlinecolor": "#2a3f5f",
                          "gridcolor": "white",
                          "linecolor": "white",
                          "minorgridcolor": "white",
                          "startlinecolor": "#2a3f5f"
                        },
                        "type": "carpet"
                      }
                    ],
                    "choropleth": [
                      {
                        "colorbar": {
                          "outlinewidth": 0,
                          "ticks": ""
                        },
                        "type": "choropleth"
                      }
                    ],
                    "contour": [
                      {
                        "colorbar": {
                          "outlinewidth": 0,
                          "ticks": ""
                        },
                        "colorscale": [
                          [
                            0,
                            "#0d0887"
                          ],
                          [
                            0.1111111111111111,
                            "#46039f"
                          ],
                          [
                            0.2222222222222222,
                            "#7201a8"
                          ],
                          [
                            0.3333333333333333,
                            "#9c179e"
                          ],
                          [
                            0.4444444444444444,
                            "#bd3786"
                          ],
                          [
                            0.5555555555555556,
                            "#d8576b"
                          ],
                          [
                            0.6666666666666666,
                            "#ed7953"
                          ],
                          [
                            0.7777777777777778,
                            "#fb9f3a"
                          ],
                          [
                            0.8888888888888888,
                            "#fdca26"
                          ],
                          [
                            1,
                            "#f0f921"
                          ]
                        ],
                        "type": "contour"
                      }
                    ],
                    "contourcarpet": [
                      {
                        "colorbar": {
                          "outlinewidth": 0,
                          "ticks": ""
                        },
                        "type": "contourcarpet"
                      }
                    ],
                    "heatmap": [
                      {
                        "colorbar": {
                          "outlinewidth": 0,
                          "ticks": ""
                        },
                        "colorscale": [
                          [
                            0,
                            "#0d0887"
                          ],
                          [
                            0.1111111111111111,
                            "#46039f"
                          ],
                          [
                            0.2222222222222222,
                            "#7201a8"
                          ],
                          [
                            0.3333333333333333,
                            "#9c179e"
                          ],
                          [
                            0.4444444444444444,
                            "#bd3786"
                          ],
                          [
                            0.5555555555555556,
                            "#d8576b"
                          ],
                          [
                            0.6666666666666666,
                            "#ed7953"
                          ],
                          [
                            0.7777777777777778,
                            "#fb9f3a"
                          ],
                          [
                            0.8888888888888888,
                            "#fdca26"
                          ],
                          [
                            1,
                            "#f0f921"
                          ]
                        ],
                        "type": "heatmap"
                      }
                    ],
                    "histogram": [
                      {
                        "marker": {
                          "pattern": {
                            "fillmode": "overlay",
                            "size": 10,
                            "solidity": 0.2
                          }
                        },
                        "type": "histogram"
                      }
                    ],
                    "histogram2d": [
                      {
                        "colorbar": {
                          "outlinewidth": 0,
                          "ticks": ""
                        },
                        "colorscale": [
                          [
                            0,
                            "#0d0887"
                          ],
                          [
                            0.1111111111111111,
                            "#46039f"
                          ],
                          [
                            0.2222222222222222,
                            "#7201a8"
                          ],
                          [
                            0.3333333333333333,
                            "#9c179e"
                          ],
                          [
                            0.4444444444444444,
                            "#bd3786"
                          ],
                          [
                            0.5555555555555556,
                            "#d8576b"
                          ],
                          [
                            0.6666666666666666,
                            "#ed7953"
                          ],
                          [
                            0.7777777777777778,
                            "#fb9f3a"
                          ],
                          [
                            0.8888888888888888,
                            "#fdca26"
                          ],
                          [
                            1,
                            "#f0f921"
                          ]
                        ],
                        "type": "histogram2d"
                      }
                    ],
                    "histogram2dcontour": [
                      {
                        "colorbar": {
                          "outlinewidth": 0,
                          "ticks": ""
                        },
                        "colorscale": [
                          [
                            0,
                            "#0d0887"
                          ],
                          [
                            0.1111111111111111,
                            "#46039f"
                          ],
                          [
                            0.2222222222222222,
                            "#7201a8"
                          ],
                          [
                            0.3333333333333333,
                            "#9c179e"
                          ],
                          [
                            0.4444444444444444,
                            "#bd3786"
                          ],
                          [
                            0.5555555555555556,
                            "#d8576b"
                          ],
                          [
                            0.6666666666666666,
                            "#ed7953"
                          ],
                          [
                            0.7777777777777778,
                            "#fb9f3a"
                          ],
                          [
                            0.8888888888888888,
                            "#fdca26"
                          ],
                          [
                            1,
                            "#f0f921"
                          ]
                        ],
                        "type": "histogram2dcontour"
                      }
                    ],
                    "mesh3d": [
                      {
                        "colorbar": {
                          "outlinewidth": 0,
                          "ticks": ""
                        },
                        "type": "mesh3d"
                      }
                    ],
                    "parcoords": [
                      {
                        "line": {
                          "colorbar": {
                            "outlinewidth": 0,
                            "ticks": ""
                          }
                        },
                        "type": "parcoords"
                      }
                    ],
                    "pie": [
                      {
                        "automargin": true,
                        "type": "pie"
                      }
                    ],
                    "scatter": [
                      {
                        "fillpattern": {
                          "fillmode": "overlay",
                          "size": 10,
                          "solidity": 0.2
                        },
                        "type": "scatter"
                      }
                    ],
                    "scatter3d": [
                      {
                        "line": {
                          "colorbar": {
                            "outlinewidth": 0,
                            "ticks": ""
                          }
                        },
                        "marker": {
                          "colorbar": {
                            "outlinewidth": 0,
                            "ticks": ""
                          }
                        },
                        "type": "scatter3d"
                      }
                    ],
                    "scattercarpet": [
                      {
                        "marker": {
                          "colorbar": {
                            "outlinewidth": 0,
                            "ticks": ""
                          }
                        },
                        "type": "scattercarpet"
                      }
                    ],
                    "scattergeo": [
                      {
                        "marker": {
                          "colorbar": {
                            "outlinewidth": 0,
                            "ticks": ""
                          }
                        },
                        "type": "scattergeo"
                      }
                    ],
                    "scattergl": [
                      {
                        "marker": {
                          "colorbar": {
                            "outlinewidth": 0,
                            "ticks": ""
                          }
                        },
                        "type": "scattergl"
                      }
                    ],
                    "scattermap": [
                      {
                        "marker": {
                          "colorbar": {
                            "outlinewidth": 0,
                            "ticks": ""
                          }
                        },
                        "type": "scattermap"
                      }
                    ],
                    "scattermapbox": [
                      {
                        "marker": {
                          "colorbar": {
                            "outlinewidth": 0,
                            "ticks": ""
                          }
                        },
                        "type": "scattermapbox"
                      }
                    ],
                    "scatterpolar": [
                      {
                        "marker": {
                          "colorbar": {
                            "outlinewidth": 0,
                            "ticks": ""
                          }
                        },
                        "type": "scatterpolar"
                      }
                    ],
                    "scatterpolargl": [
                      {
                        "marker": {
                          "colorbar": {
                            "outlinewidth": 0,
                            "ticks": ""
                          }
                        },
                        "type": "scatterpolargl"
                      }
                    ],
                    "scatterternary": [
                      {
                        "marker": {
                          "colorbar": {
                            "outlinewidth": 0,
                            "ticks": ""
                          }
                        },
                        "type": "scatterternary"
                      }
                    ],
                    "surface": [
                      {
                        "colorbar": {
                          "outlinewidth": 0,
                          "ticks": ""
                        },
                        "colorscale": [
                          [
                            0,
                            "#0d0887"
                          ],
                          [
                            0.1111111111111111,
                            "#46039f"
                          ],
                          [
                            0.2222222222222222,
                            "#7201a8"
                          ],
                          [
                            0.3333333333333333,
                            "#9c179e"
                          ],
                          [
                            0.4444444444444444,
                            "#bd3786"
                          ],
                          [
                            0.5555555555555556,
                            "#d8576b"
                          ],
                          [
                            0.6666666666666666,
                            "#ed7953"
                          ],
                          [
                            0.7777777777777778,
                            "#fb9f3a"
                          ],
                          [
                            0.8888888888888888,
                            "#fdca26"
                          ],
                          [
                            1,
                            "#f0f921"
                          ]
                        ],
                        "type": "surface"
                      }
                    ],
                    "table": [
                      {
                        "cells": {
                          "fill": {
                            "color": "#EBF0F8"
                          },
                          "line": {
                            "color": "white"
                          }
                        },
                        "header": {
                          "fill": {
                            "color": "#C8D4E3"
                          },
                          "line": {
                            "color": "white"
                          }
                        },
                        "type": "table"
                      }
                    ]
                  },
                  "layout": {
                    "annotationdefaults": {
                      "arrowcolor": "#2a3f5f",
                      "arrowhead": 0,
                      "arrowwidth": 1
                    },
                    "autotypenumbers": "strict",
                    "coloraxis": {
                      "colorbar": {
                        "outlinewidth": 0,
                        "ticks": ""
                      }
                    },
                    "colorscale": {
                      "diverging": [
                        [
                          0,
                          "#8e0152"
                        ],
                        [
                          0.1,
                          "#c51b7d"
                        ],
                        [
                          0.2,
                          "#de77ae"
                        ],
                        [
                          0.3,
                          "#f1b6da"
                        ],
                        [
                          0.4,
                          "#fde0ef"
                        ],
                        [
                          0.5,
                          "#f7f7f7"
                        ],
                        [
                          0.6,
                          "#e6f5d0"
                        ],
                        [
                          0.7,
                          "#b8e186"
                        ],
                        [
                          0.8,
                          "#7fbc41"
                        ],
                        [
                          0.9,
                          "#4d9221"
                        ],
                        [
                          1,
                          "#276419"
                        ]
                      ],
                      "sequential": [
                        [
                          0,
                          "#0d0887"
                        ],
                        [
                          0.1111111111111111,
                          "#46039f"
                        ],
                        [
                          0.2222222222222222,
                          "#7201a8"
                        ],
                        [
                          0.3333333333333333,
                          "#9c179e"
                        ],
                        [
                          0.4444444444444444,
                          "#bd3786"
                        ],
                        [
                          0.5555555555555556,
                          "#d8576b"
                        ],
                        [
                          0.6666666666666666,
                          "#ed7953"
                        ],
                        [
                          0.7777777777777778,
                          "#fb9f3a"
                        ],
                        [
                          0.8888888888888888,
                          "#fdca26"
                        ],
                        [
                          1,
                          "#f0f921"
                        ]
                      ],
                      "sequentialminus": [
                        [
                          0,
                          "#0d0887"
                        ],
                        [
                          0.1111111111111111,
                          "#46039f"
                        ],
                        [
                          0.2222222222222222,
                          "#7201a8"
                        ],
                        [
                          0.3333333333333333,
                          "#9c179e"
                        ],
                        [
                          0.4444444444444444,
                          "#bd3786"
                        ],
                        [
                          0.5555555555555556,
                          "#d8576b"
                        ],
                        [
                          0.6666666666666666,
                          "#ed7953"
                        ],
                        [
                          0.7777777777777778,
                          "#fb9f3a"
                        ],
                        [
                          0.8888888888888888,
                          "#fdca26"
                        ],
                        [
                          1,
                          "#f0f921"
                        ]
                      ]
                    },
                    "colorway": [
                      "#636efa",
                      "#EF553B",
                      "#00cc96",
                      "#ab63fa",
                      "#FFA15A",
                      "#19d3f3",
                      "#FF6692",
                      "#B6E880",
                      "#FF97FF",
                      "#FECB52"
                    ],
                    "font": {
                      "color": "#2a3f5f"
                    },
                    "geo": {
                      "bgcolor": "white",
                      "lakecolor": "white",
                      "landcolor": "#E5ECF6",
                      "showlakes": true,
                      "showland": true,
                      "subunitcolor": "white"
                    },
                    "hoverlabel": {
                      "align": "left"
                    },
                    "hovermode": "closest",
                    "mapbox": {
                      "style": "light"
                    },
                    "paper_bgcolor": "white",
                    "plot_bgcolor": "#E5ECF6",
                    "polar": {
                      "angularaxis": {
                        "gridcolor": "white",
                        "linecolor": "white",
                        "ticks": ""
                      },
                      "bgcolor": "#E5ECF6",
                      "radialaxis": {
                        "gridcolor": "white",
                        "linecolor": "white",
                        "ticks": ""
                      }
                    },
                    "scene": {
                      "xaxis": {
                        "backgroundcolor": "#E5ECF6",
                        "gridcolor": "white",
                        "gridwidth": 2,
                        "linecolor": "white",
                        "showbackground": true,
                        "ticks": "",
                        "zerolinecolor": "white"
                      },
                      "yaxis": {
                        "backgroundcolor": "#E5ECF6",
                        "gridcolor": "white",
                        "gridwidth": 2,
                        "linecolor": "white",
                        "showbackground": true,
                        "ticks": "",
                        "zerolinecolor": "white"
                      },
                      "zaxis": {
                        "backgroundcolor": "#E5ECF6",
                        "gridcolor": "white",
                        "gridwidth": 2,
                        "linecolor": "white",
                        "showbackground": true,
                        "ticks": "",
                        "zerolinecolor": "white"
                      }
                    },
                    "shapedefaults": {
                      "line": {
                        "color": "#2a3f5f"
                      }
                    },
                    "ternary": {
                      "aaxis": {
                        "gridcolor": "white",
                        "linecolor": "white",
                        "ticks": ""
                      },
                      "baxis": {
                        "gridcolor": "white",
                        "linecolor": "white",
                        "ticks": ""
                      },
                      "bgcolor": "#E5ECF6",
                      "caxis": {
                        "gridcolor": "white",
                        "linecolor": "white",
                        "ticks": ""
                      }
                    },
                    "title": {
                      "x": 0.05
                    },
                    "xaxis": {
                      "automargin": true,
                      "gridcolor": "white",
                      "linecolor": "white",
                      "ticks": "",
                      "title": {
                        "standoff": 15
                      },
                      "zerolinecolor": "white",
                      "zerolinewidth": 2
                    },
                    "yaxis": {
                      "automargin": true,
                      "gridcolor": "white",
                      "linecolor": "white",
                      "ticks": "",
                      "title": {
                        "standoff": 15
                      },
                      "zerolinecolor": "white",
                      "zerolinewidth": 2
                    }
                  }
                },
                "title": {
                  "text": "Extra Credit Plot <Insert name here>"
                }
              }
            }
          },
          "metadata": {},
          "output_type": "display_data"
        }
      ],
      "source": [
        "# This example uses two-letter state code\n",
        "\n",
        "import pandas as pd\n",
        "import plotly.express as px\n",
        "\n",
        "data = pd.DataFrame({\n",
        "  'state': ['NY', 'CA', 'TX', 'FL'],\n",
        "  'values': [10, 20, 15, 25]\n",
        "})\n",
        "\n",
        "fig = px.choropleth(\n",
        "    data,\n",
        "    locations='state', # Column with state abbreviations\n",
        "    locationmode='USA-states', # Set location mode to US states\n",
        "    color='values', # Column to determine color intensity\n",
        "    scope='usa', # Limit map to the USA\n",
        "    color_continuous_scale='Viridis', # Choose a color scale\n",
        "    title='Extra Credit Plot <Insert name here>'\n",
        ")\n",
        "\n",
        "fig.show()\n"
      ]
    },
    {
      "cell_type": "code",
      "execution_count": 35,
      "metadata": {
        "id": "IjH6Dq8saDY8"
      },
      "outputs": [
        {
          "data": {
            "application/vnd.plotly.v1+json": {
              "config": {
                "plotlyServerURL": "https://plot.ly"
              },
              "data": [
                {
                  "coloraxis": "coloraxis",
                  "geo": "geo",
                  "geojson": "https://raw.githubusercontent.com/plotly/datasets/master/geojson-counties-fips.json",
                  "hovertemplate": "fips=%{location}<br>values=%{z}<extra></extra>",
                  "locations": [
                    "36061",
                    "06037",
                    "48201",
                    "12086"
                  ],
                  "name": "",
                  "type": "choropleth",
                  "z": {
                    "bdata": "ChQPGQ==",
                    "dtype": "i1"
                  }
                }
              ],
              "layout": {
                "coloraxis": {
                  "colorbar": {
                    "title": {
                      "text": "values"
                    }
                  },
                  "colorscale": [
                    [
                      0,
                      "#440154"
                    ],
                    [
                      0.1111111111111111,
                      "#482878"
                    ],
                    [
                      0.2222222222222222,
                      "#3e4989"
                    ],
                    [
                      0.3333333333333333,
                      "#31688e"
                    ],
                    [
                      0.4444444444444444,
                      "#26828e"
                    ],
                    [
                      0.5555555555555556,
                      "#1f9e89"
                    ],
                    [
                      0.6666666666666666,
                      "#35b779"
                    ],
                    [
                      0.7777777777777778,
                      "#6ece58"
                    ],
                    [
                      0.8888888888888888,
                      "#b5de2b"
                    ],
                    [
                      1,
                      "#fde725"
                    ]
                  ]
                },
                "geo": {
                  "center": {},
                  "domain": {
                    "x": [
                      0,
                      1
                    ],
                    "y": [
                      0,
                      1
                    ]
                  },
                  "scope": "usa"
                },
                "legend": {
                  "tracegroupgap": 0
                },
                "template": {
                  "data": {
                    "bar": [
                      {
                        "error_x": {
                          "color": "#2a3f5f"
                        },
                        "error_y": {
                          "color": "#2a3f5f"
                        },
                        "marker": {
                          "line": {
                            "color": "#E5ECF6",
                            "width": 0.5
                          },
                          "pattern": {
                            "fillmode": "overlay",
                            "size": 10,
                            "solidity": 0.2
                          }
                        },
                        "type": "bar"
                      }
                    ],
                    "barpolar": [
                      {
                        "marker": {
                          "line": {
                            "color": "#E5ECF6",
                            "width": 0.5
                          },
                          "pattern": {
                            "fillmode": "overlay",
                            "size": 10,
                            "solidity": 0.2
                          }
                        },
                        "type": "barpolar"
                      }
                    ],
                    "carpet": [
                      {
                        "aaxis": {
                          "endlinecolor": "#2a3f5f",
                          "gridcolor": "white",
                          "linecolor": "white",
                          "minorgridcolor": "white",
                          "startlinecolor": "#2a3f5f"
                        },
                        "baxis": {
                          "endlinecolor": "#2a3f5f",
                          "gridcolor": "white",
                          "linecolor": "white",
                          "minorgridcolor": "white",
                          "startlinecolor": "#2a3f5f"
                        },
                        "type": "carpet"
                      }
                    ],
                    "choropleth": [
                      {
                        "colorbar": {
                          "outlinewidth": 0,
                          "ticks": ""
                        },
                        "type": "choropleth"
                      }
                    ],
                    "contour": [
                      {
                        "colorbar": {
                          "outlinewidth": 0,
                          "ticks": ""
                        },
                        "colorscale": [
                          [
                            0,
                            "#0d0887"
                          ],
                          [
                            0.1111111111111111,
                            "#46039f"
                          ],
                          [
                            0.2222222222222222,
                            "#7201a8"
                          ],
                          [
                            0.3333333333333333,
                            "#9c179e"
                          ],
                          [
                            0.4444444444444444,
                            "#bd3786"
                          ],
                          [
                            0.5555555555555556,
                            "#d8576b"
                          ],
                          [
                            0.6666666666666666,
                            "#ed7953"
                          ],
                          [
                            0.7777777777777778,
                            "#fb9f3a"
                          ],
                          [
                            0.8888888888888888,
                            "#fdca26"
                          ],
                          [
                            1,
                            "#f0f921"
                          ]
                        ],
                        "type": "contour"
                      }
                    ],
                    "contourcarpet": [
                      {
                        "colorbar": {
                          "outlinewidth": 0,
                          "ticks": ""
                        },
                        "type": "contourcarpet"
                      }
                    ],
                    "heatmap": [
                      {
                        "colorbar": {
                          "outlinewidth": 0,
                          "ticks": ""
                        },
                        "colorscale": [
                          [
                            0,
                            "#0d0887"
                          ],
                          [
                            0.1111111111111111,
                            "#46039f"
                          ],
                          [
                            0.2222222222222222,
                            "#7201a8"
                          ],
                          [
                            0.3333333333333333,
                            "#9c179e"
                          ],
                          [
                            0.4444444444444444,
                            "#bd3786"
                          ],
                          [
                            0.5555555555555556,
                            "#d8576b"
                          ],
                          [
                            0.6666666666666666,
                            "#ed7953"
                          ],
                          [
                            0.7777777777777778,
                            "#fb9f3a"
                          ],
                          [
                            0.8888888888888888,
                            "#fdca26"
                          ],
                          [
                            1,
                            "#f0f921"
                          ]
                        ],
                        "type": "heatmap"
                      }
                    ],
                    "histogram": [
                      {
                        "marker": {
                          "pattern": {
                            "fillmode": "overlay",
                            "size": 10,
                            "solidity": 0.2
                          }
                        },
                        "type": "histogram"
                      }
                    ],
                    "histogram2d": [
                      {
                        "colorbar": {
                          "outlinewidth": 0,
                          "ticks": ""
                        },
                        "colorscale": [
                          [
                            0,
                            "#0d0887"
                          ],
                          [
                            0.1111111111111111,
                            "#46039f"
                          ],
                          [
                            0.2222222222222222,
                            "#7201a8"
                          ],
                          [
                            0.3333333333333333,
                            "#9c179e"
                          ],
                          [
                            0.4444444444444444,
                            "#bd3786"
                          ],
                          [
                            0.5555555555555556,
                            "#d8576b"
                          ],
                          [
                            0.6666666666666666,
                            "#ed7953"
                          ],
                          [
                            0.7777777777777778,
                            "#fb9f3a"
                          ],
                          [
                            0.8888888888888888,
                            "#fdca26"
                          ],
                          [
                            1,
                            "#f0f921"
                          ]
                        ],
                        "type": "histogram2d"
                      }
                    ],
                    "histogram2dcontour": [
                      {
                        "colorbar": {
                          "outlinewidth": 0,
                          "ticks": ""
                        },
                        "colorscale": [
                          [
                            0,
                            "#0d0887"
                          ],
                          [
                            0.1111111111111111,
                            "#46039f"
                          ],
                          [
                            0.2222222222222222,
                            "#7201a8"
                          ],
                          [
                            0.3333333333333333,
                            "#9c179e"
                          ],
                          [
                            0.4444444444444444,
                            "#bd3786"
                          ],
                          [
                            0.5555555555555556,
                            "#d8576b"
                          ],
                          [
                            0.6666666666666666,
                            "#ed7953"
                          ],
                          [
                            0.7777777777777778,
                            "#fb9f3a"
                          ],
                          [
                            0.8888888888888888,
                            "#fdca26"
                          ],
                          [
                            1,
                            "#f0f921"
                          ]
                        ],
                        "type": "histogram2dcontour"
                      }
                    ],
                    "mesh3d": [
                      {
                        "colorbar": {
                          "outlinewidth": 0,
                          "ticks": ""
                        },
                        "type": "mesh3d"
                      }
                    ],
                    "parcoords": [
                      {
                        "line": {
                          "colorbar": {
                            "outlinewidth": 0,
                            "ticks": ""
                          }
                        },
                        "type": "parcoords"
                      }
                    ],
                    "pie": [
                      {
                        "automargin": true,
                        "type": "pie"
                      }
                    ],
                    "scatter": [
                      {
                        "fillpattern": {
                          "fillmode": "overlay",
                          "size": 10,
                          "solidity": 0.2
                        },
                        "type": "scatter"
                      }
                    ],
                    "scatter3d": [
                      {
                        "line": {
                          "colorbar": {
                            "outlinewidth": 0,
                            "ticks": ""
                          }
                        },
                        "marker": {
                          "colorbar": {
                            "outlinewidth": 0,
                            "ticks": ""
                          }
                        },
                        "type": "scatter3d"
                      }
                    ],
                    "scattercarpet": [
                      {
                        "marker": {
                          "colorbar": {
                            "outlinewidth": 0,
                            "ticks": ""
                          }
                        },
                        "type": "scattercarpet"
                      }
                    ],
                    "scattergeo": [
                      {
                        "marker": {
                          "colorbar": {
                            "outlinewidth": 0,
                            "ticks": ""
                          }
                        },
                        "type": "scattergeo"
                      }
                    ],
                    "scattergl": [
                      {
                        "marker": {
                          "colorbar": {
                            "outlinewidth": 0,
                            "ticks": ""
                          }
                        },
                        "type": "scattergl"
                      }
                    ],
                    "scattermap": [
                      {
                        "marker": {
                          "colorbar": {
                            "outlinewidth": 0,
                            "ticks": ""
                          }
                        },
                        "type": "scattermap"
                      }
                    ],
                    "scattermapbox": [
                      {
                        "marker": {
                          "colorbar": {
                            "outlinewidth": 0,
                            "ticks": ""
                          }
                        },
                        "type": "scattermapbox"
                      }
                    ],
                    "scatterpolar": [
                      {
                        "marker": {
                          "colorbar": {
                            "outlinewidth": 0,
                            "ticks": ""
                          }
                        },
                        "type": "scatterpolar"
                      }
                    ],
                    "scatterpolargl": [
                      {
                        "marker": {
                          "colorbar": {
                            "outlinewidth": 0,
                            "ticks": ""
                          }
                        },
                        "type": "scatterpolargl"
                      }
                    ],
                    "scatterternary": [
                      {
                        "marker": {
                          "colorbar": {
                            "outlinewidth": 0,
                            "ticks": ""
                          }
                        },
                        "type": "scatterternary"
                      }
                    ],
                    "surface": [
                      {
                        "colorbar": {
                          "outlinewidth": 0,
                          "ticks": ""
                        },
                        "colorscale": [
                          [
                            0,
                            "#0d0887"
                          ],
                          [
                            0.1111111111111111,
                            "#46039f"
                          ],
                          [
                            0.2222222222222222,
                            "#7201a8"
                          ],
                          [
                            0.3333333333333333,
                            "#9c179e"
                          ],
                          [
                            0.4444444444444444,
                            "#bd3786"
                          ],
                          [
                            0.5555555555555556,
                            "#d8576b"
                          ],
                          [
                            0.6666666666666666,
                            "#ed7953"
                          ],
                          [
                            0.7777777777777778,
                            "#fb9f3a"
                          ],
                          [
                            0.8888888888888888,
                            "#fdca26"
                          ],
                          [
                            1,
                            "#f0f921"
                          ]
                        ],
                        "type": "surface"
                      }
                    ],
                    "table": [
                      {
                        "cells": {
                          "fill": {
                            "color": "#EBF0F8"
                          },
                          "line": {
                            "color": "white"
                          }
                        },
                        "header": {
                          "fill": {
                            "color": "#C8D4E3"
                          },
                          "line": {
                            "color": "white"
                          }
                        },
                        "type": "table"
                      }
                    ]
                  },
                  "layout": {
                    "annotationdefaults": {
                      "arrowcolor": "#2a3f5f",
                      "arrowhead": 0,
                      "arrowwidth": 1
                    },
                    "autotypenumbers": "strict",
                    "coloraxis": {
                      "colorbar": {
                        "outlinewidth": 0,
                        "ticks": ""
                      }
                    },
                    "colorscale": {
                      "diverging": [
                        [
                          0,
                          "#8e0152"
                        ],
                        [
                          0.1,
                          "#c51b7d"
                        ],
                        [
                          0.2,
                          "#de77ae"
                        ],
                        [
                          0.3,
                          "#f1b6da"
                        ],
                        [
                          0.4,
                          "#fde0ef"
                        ],
                        [
                          0.5,
                          "#f7f7f7"
                        ],
                        [
                          0.6,
                          "#e6f5d0"
                        ],
                        [
                          0.7,
                          "#b8e186"
                        ],
                        [
                          0.8,
                          "#7fbc41"
                        ],
                        [
                          0.9,
                          "#4d9221"
                        ],
                        [
                          1,
                          "#276419"
                        ]
                      ],
                      "sequential": [
                        [
                          0,
                          "#0d0887"
                        ],
                        [
                          0.1111111111111111,
                          "#46039f"
                        ],
                        [
                          0.2222222222222222,
                          "#7201a8"
                        ],
                        [
                          0.3333333333333333,
                          "#9c179e"
                        ],
                        [
                          0.4444444444444444,
                          "#bd3786"
                        ],
                        [
                          0.5555555555555556,
                          "#d8576b"
                        ],
                        [
                          0.6666666666666666,
                          "#ed7953"
                        ],
                        [
                          0.7777777777777778,
                          "#fb9f3a"
                        ],
                        [
                          0.8888888888888888,
                          "#fdca26"
                        ],
                        [
                          1,
                          "#f0f921"
                        ]
                      ],
                      "sequentialminus": [
                        [
                          0,
                          "#0d0887"
                        ],
                        [
                          0.1111111111111111,
                          "#46039f"
                        ],
                        [
                          0.2222222222222222,
                          "#7201a8"
                        ],
                        [
                          0.3333333333333333,
                          "#9c179e"
                        ],
                        [
                          0.4444444444444444,
                          "#bd3786"
                        ],
                        [
                          0.5555555555555556,
                          "#d8576b"
                        ],
                        [
                          0.6666666666666666,
                          "#ed7953"
                        ],
                        [
                          0.7777777777777778,
                          "#fb9f3a"
                        ],
                        [
                          0.8888888888888888,
                          "#fdca26"
                        ],
                        [
                          1,
                          "#f0f921"
                        ]
                      ]
                    },
                    "colorway": [
                      "#636efa",
                      "#EF553B",
                      "#00cc96",
                      "#ab63fa",
                      "#FFA15A",
                      "#19d3f3",
                      "#FF6692",
                      "#B6E880",
                      "#FF97FF",
                      "#FECB52"
                    ],
                    "font": {
                      "color": "#2a3f5f"
                    },
                    "geo": {
                      "bgcolor": "white",
                      "lakecolor": "white",
                      "landcolor": "#E5ECF6",
                      "showlakes": true,
                      "showland": true,
                      "subunitcolor": "white"
                    },
                    "hoverlabel": {
                      "align": "left"
                    },
                    "hovermode": "closest",
                    "mapbox": {
                      "style": "light"
                    },
                    "paper_bgcolor": "white",
                    "plot_bgcolor": "#E5ECF6",
                    "polar": {
                      "angularaxis": {
                        "gridcolor": "white",
                        "linecolor": "white",
                        "ticks": ""
                      },
                      "bgcolor": "#E5ECF6",
                      "radialaxis": {
                        "gridcolor": "white",
                        "linecolor": "white",
                        "ticks": ""
                      }
                    },
                    "scene": {
                      "xaxis": {
                        "backgroundcolor": "#E5ECF6",
                        "gridcolor": "white",
                        "gridwidth": 2,
                        "linecolor": "white",
                        "showbackground": true,
                        "ticks": "",
                        "zerolinecolor": "white"
                      },
                      "yaxis": {
                        "backgroundcolor": "#E5ECF6",
                        "gridcolor": "white",
                        "gridwidth": 2,
                        "linecolor": "white",
                        "showbackground": true,
                        "ticks": "",
                        "zerolinecolor": "white"
                      },
                      "zaxis": {
                        "backgroundcolor": "#E5ECF6",
                        "gridcolor": "white",
                        "gridwidth": 2,
                        "linecolor": "white",
                        "showbackground": true,
                        "ticks": "",
                        "zerolinecolor": "white"
                      }
                    },
                    "shapedefaults": {
                      "line": {
                        "color": "#2a3f5f"
                      }
                    },
                    "ternary": {
                      "aaxis": {
                        "gridcolor": "white",
                        "linecolor": "white",
                        "ticks": ""
                      },
                      "baxis": {
                        "gridcolor": "white",
                        "linecolor": "white",
                        "ticks": ""
                      },
                      "bgcolor": "#E5ECF6",
                      "caxis": {
                        "gridcolor": "white",
                        "linecolor": "white",
                        "ticks": ""
                      }
                    },
                    "title": {
                      "x": 0.05
                    },
                    "xaxis": {
                      "automargin": true,
                      "gridcolor": "white",
                      "linecolor": "white",
                      "ticks": "",
                      "title": {
                        "standoff": 15
                      },
                      "zerolinecolor": "white",
                      "zerolinewidth": 2
                    },
                    "yaxis": {
                      "automargin": true,
                      "gridcolor": "white",
                      "linecolor": "white",
                      "ticks": "",
                      "title": {
                        "standoff": 15
                      },
                      "zerolinecolor": "white",
                      "zerolinewidth": 2
                    }
                  }
                },
                "title": {
                  "text": "County-Level Extra Credit Plot"
                }
              }
            }
          },
          "metadata": {},
          "output_type": "display_data"
        }
      ],
      "source": [
        "# This example uses the FIPS code to map data to a county\n",
        "\n",
        "import pandas as pd\n",
        "import plotly.express as px\n",
        "\n",
        "# Example county-level data (FIPS codes are required for county-level plots)\n",
        "data = pd.DataFrame({\n",
        "    'fips': ['36061', '06037', '48201', '12086'],  # Example FIPS codes (NYC, LA, Houston, Miami-Dade)\n",
        "    'values': [10, 20, 15, 25]\n",
        "})\n",
        "\n",
        "# Plot county-level choropleth map\n",
        "fig = px.choropleth(\n",
        "    data,\n",
        "    geojson=\"https://raw.githubusercontent.com/plotly/datasets/master/geojson-counties-fips.json\",  # GeoJSON for counties\n",
        "    locations='fips',  # Use county FIPS codes\n",
        "    color='values',  # Column to determine color intensity\n",
        "    color_continuous_scale='Viridis',\n",
        "    scope='usa',\n",
        "    title='County-Level Extra Credit Plot'\n",
        ")\n",
        "\n",
        "fig.show()\n"
      ]
    },
    {
      "cell_type": "code",
      "execution_count": 53,
      "metadata": {},
      "outputs": [],
      "source": [
        "county_death_rate = spark.sql(\n",
        "  \"\"\"\n",
        "    select fips, deaths / cases as rate\n",
        "    from covid\n",
        "    where fips is not Null and date='2022-05-13'\n",
        "  \"\"\"\n",
        ")"
      ]
    },
    {
      "cell_type": "code",
      "execution_count": 54,
      "metadata": {},
      "outputs": [
        {
          "data": {
            "application/vnd.plotly.v1+json": {
              "config": {
                "plotlyServerURL": "https://plot.ly"
              },
              "data": [
                {
                  "coloraxis": "coloraxis",
                  "geo": "geo",
                  "geojson": "https://raw.githubusercontent.com/plotly/datasets/master/geojson-counties-fips.json",
                  "hovertemplate": "fips=%{location}<br>rate=%{z}<extra></extra>",
                  "locations": [
                    "01001",
                    "01003",
                    "01005",
                    "01007",
                    "01009",
                    "01011",
                    "01013",
                    "01015",
                    "01017",
                    "01019",
                    "01021",
                    "01023",
                    "01025",
                    "01027",
                    "01029",
                    "01031",
                    "01033",
                    "01035",
                    "01037",
                    "01039",
                    "01041",
                    "01043",
                    "01045",
                    "01047",
                    "01049",
                    "01051",
                    "01053",
                    "01055",
                    "01057",
                    "01059",
                    "01061",
                    "01063",
                    "01065",
                    "01067",
                    "01069",
                    "01071",
                    "01073",
                    "01075",
                    "01077",
                    "01079",
                    "01081",
                    "01083",
                    "01085",
                    "01087",
                    "01089",
                    "01091",
                    "01093",
                    "01095",
                    "01097",
                    "01099",
                    "01101",
                    "01103",
                    "01105",
                    "01107",
                    "01109",
                    "01111",
                    "01113",
                    "01117",
                    "01115",
                    "01119",
                    "01121",
                    "01123",
                    "01125",
                    "01127",
                    "01129",
                    "01131",
                    "01133",
                    "02013",
                    "02016",
                    "02020",
                    "02050",
                    "02997",
                    "02068",
                    "02070",
                    "02090",
                    "02100",
                    "02110",
                    "02122",
                    "02130",
                    "02150",
                    "02158",
                    "02170",
                    "02180",
                    "02185",
                    "02188",
                    "02195",
                    "02198",
                    "02220",
                    "02230",
                    "02240",
                    "02261",
                    "02275",
                    "02998",
                    "02290",
                    "04001",
                    "04003",
                    "04005",
                    "04007",
                    "04009",
                    "04011",
                    "04012",
                    "04013",
                    "04015",
                    "04017",
                    "04019",
                    "04021",
                    "04023",
                    "04025",
                    "04027",
                    "05001",
                    "05003",
                    "05005",
                    "05007",
                    "05009",
                    "05011",
                    "05013",
                    "05015",
                    "05017",
                    "05019",
                    "05021",
                    "05023",
                    "05025",
                    "05027",
                    "05029",
                    "05031",
                    "05033",
                    "05035",
                    "05037",
                    "05039",
                    "05041",
                    "05043",
                    "05045",
                    "05047",
                    "05049",
                    "05051",
                    "05053",
                    "05055",
                    "05057",
                    "05059",
                    "05061",
                    "05063",
                    "05065",
                    "05067",
                    "05069",
                    "05071",
                    "05073",
                    "05075",
                    "05077",
                    "05079",
                    "05081",
                    "05083",
                    "05085",
                    "05087",
                    "05089",
                    "05091",
                    "05093",
                    "05095",
                    "05097",
                    "05099",
                    "05101",
                    "05103",
                    "05105",
                    "05107",
                    "05109",
                    "05111",
                    "05113",
                    "05115",
                    "05117",
                    "05119",
                    "05121",
                    "05125",
                    "05127",
                    "05129",
                    "05131",
                    "05133",
                    "05135",
                    "05123",
                    "05137",
                    "05139",
                    "05141",
                    "05143",
                    "05145",
                    "05147",
                    "05149",
                    "06001",
                    "06003",
                    "06005",
                    "06007",
                    "06009",
                    "06011",
                    "06013",
                    "06015",
                    "06017",
                    "06019",
                    "06021",
                    "06023",
                    "06025",
                    "06027",
                    "06029",
                    "06031",
                    "06033",
                    "06035",
                    "06037",
                    "06039",
                    "06041",
                    "06043",
                    "06045",
                    "06047",
                    "06049",
                    "06051",
                    "06053",
                    "06055",
                    "06057",
                    "06059",
                    "06061",
                    "06063",
                    "06065",
                    "06067",
                    "06069",
                    "06071",
                    "06073",
                    "06075",
                    "06077",
                    "06079",
                    "06081",
                    "06083",
                    "06085",
                    "06087",
                    "06089",
                    "06091",
                    "06093",
                    "06095",
                    "06097",
                    "06099",
                    "06101",
                    "06103",
                    "06105",
                    "06107",
                    "06109",
                    "06111",
                    "06113",
                    "06115",
                    "08001",
                    "08003",
                    "08005",
                    "08007",
                    "08009",
                    "08011",
                    "08013",
                    "08014",
                    "08015",
                    "08017",
                    "08019",
                    "08021",
                    "08023",
                    "08025",
                    "08027",
                    "08029",
                    "08031",
                    "08033",
                    "08035",
                    "08037",
                    "08041",
                    "08039",
                    "08043",
                    "08045",
                    "08047",
                    "08049",
                    "08051",
                    "08053",
                    "08055",
                    "08057",
                    "08059",
                    "08061",
                    "08063",
                    "08067",
                    "08065",
                    "08069",
                    "08071",
                    "08073",
                    "08075",
                    "08077",
                    "08079",
                    "08081",
                    "08083",
                    "08085",
                    "08087",
                    "08089",
                    "08091",
                    "08093",
                    "08095",
                    "08097",
                    "08099",
                    "08101",
                    "08103",
                    "08105",
                    "08107",
                    "08109",
                    "08111",
                    "08113",
                    "08115",
                    "08117",
                    "08119",
                    "08121",
                    "08123",
                    "08125",
                    "09001",
                    "09003",
                    "09005",
                    "09007",
                    "09009",
                    "09011",
                    "09013",
                    "09015",
                    "10001",
                    "10003",
                    "10005",
                    "11001",
                    "12001",
                    "12003",
                    "12005",
                    "12007",
                    "12009",
                    "12011",
                    "12013",
                    "12015",
                    "12017",
                    "12019",
                    "12021",
                    "12023",
                    "12027",
                    "12029",
                    "12031",
                    "12033",
                    "12035",
                    "12037",
                    "12039",
                    "12041",
                    "12043",
                    "12045",
                    "12047",
                    "12049",
                    "12051",
                    "12053",
                    "12055",
                    "12057",
                    "12059",
                    "12061",
                    "12063",
                    "12065",
                    "12067",
                    "12069",
                    "12071",
                    "12073",
                    "12075",
                    "12077",
                    "12079",
                    "12081",
                    "12083",
                    "12085",
                    "12086",
                    "12087",
                    "12089",
                    "12091",
                    "12093",
                    "12095",
                    "12097",
                    "12099",
                    "12101",
                    "12103",
                    "12105",
                    "12107",
                    "12113",
                    "12115",
                    "12117",
                    "12109",
                    "12111",
                    "12119",
                    "12121",
                    "12123",
                    "12125",
                    "12127",
                    "12129",
                    "12131",
                    "12133",
                    "13001",
                    "13003",
                    "13005",
                    "13007",
                    "13009",
                    "13011",
                    "13013",
                    "13015",
                    "13017",
                    "13019",
                    "13021",
                    "13023",
                    "13025",
                    "13027",
                    "13029",
                    "13031",
                    "13033",
                    "13035",
                    "13037",
                    "13039",
                    "13043",
                    "13045",
                    "13047",
                    "13049",
                    "13051",
                    "13053",
                    "13055",
                    "13057",
                    "13059",
                    "13061",
                    "13063",
                    "13065",
                    "13067",
                    "13069",
                    "13071",
                    "13073",
                    "13075",
                    "13077",
                    "13079",
                    "13081",
                    "13083",
                    "13085",
                    "13089",
                    "13087",
                    "13091",
                    "13093",
                    "13095",
                    "13097",
                    "13099",
                    "13101",
                    "13103",
                    "13105",
                    "13107",
                    "13109",
                    "13111",
                    "13113",
                    "13115",
                    "13117",
                    "13119",
                    "13121",
                    "13123",
                    "13125",
                    "13127",
                    "13129",
                    "13131",
                    "13133",
                    "13135",
                    "13137",
                    "13139",
                    "13141",
                    "13143",
                    "13145",
                    "13147",
                    "13149",
                    "13151",
                    "13153",
                    "13155",
                    "13157",
                    "13159",
                    "13161",
                    "13163",
                    "13165",
                    "13167",
                    "13169",
                    "13171",
                    "13173",
                    "13175",
                    "13177",
                    "13179",
                    "13181",
                    "13183",
                    "13185",
                    "13187",
                    "13193",
                    "13195",
                    "13197",
                    "13189",
                    "13191",
                    "13199",
                    "13201",
                    "13205",
                    "13207",
                    "13209",
                    "13211",
                    "13213",
                    "13215",
                    "13217",
                    "13219",
                    "13221",
                    "13223",
                    "13225",
                    "13227",
                    "13229",
                    "13231",
                    "13233",
                    "13235",
                    "13237",
                    "13239",
                    "13241",
                    "13243",
                    "13245",
                    "13247",
                    "13249",
                    "13251",
                    "13253",
                    "13255",
                    "13257",
                    "13259",
                    "13261",
                    "13263",
                    "13265",
                    "13267",
                    "13269",
                    "13271",
                    "13273",
                    "13275",
                    "13277",
                    "13279",
                    "13281",
                    "13283",
                    "13285",
                    "13287",
                    "13289",
                    "13291",
                    "13293",
                    "13295",
                    "13297",
                    "13299",
                    "13301",
                    "13303",
                    "13305",
                    "13307",
                    "13309",
                    "13311",
                    "13313",
                    "13315",
                    "13317",
                    "13319",
                    "13321",
                    "15001",
                    "15003",
                    "15005",
                    "15007",
                    "15009",
                    "16001",
                    "16003",
                    "16005",
                    "16007",
                    "16009",
                    "16011",
                    "16013",
                    "16015",
                    "16017",
                    "16019",
                    "16021",
                    "16023",
                    "16025",
                    "16027",
                    "16029",
                    "16031",
                    "16033",
                    "16035",
                    "16037",
                    "16039",
                    "16041",
                    "16043",
                    "16045",
                    "16047",
                    "16049",
                    "16051",
                    "16053",
                    "16055",
                    "16057",
                    "16059",
                    "16061",
                    "16063",
                    "16065",
                    "16067",
                    "16069",
                    "16071",
                    "16073",
                    "16075",
                    "16077",
                    "16079",
                    "16081",
                    "16083",
                    "16085",
                    "16087",
                    "17001",
                    "17003",
                    "17005",
                    "17007",
                    "17009",
                    "17011",
                    "17013",
                    "17015",
                    "17017",
                    "17019",
                    "17021",
                    "17023",
                    "17025",
                    "17027",
                    "17029",
                    "17031",
                    "17033",
                    "17035",
                    "17039",
                    "17037",
                    "17041",
                    "17043",
                    "17045",
                    "17047",
                    "17049",
                    "17051",
                    "17053",
                    "17055",
                    "17057",
                    "17059",
                    "17061",
                    "17063",
                    "17065",
                    "17067",
                    "17069",
                    "17071",
                    "17073",
                    "17075",
                    "17077",
                    "17079",
                    "17081",
                    "17083",
                    "17085",
                    "17087",
                    "17089",
                    "17091",
                    "17093",
                    "17095",
                    "17099",
                    "17097",
                    "17101",
                    "17103",
                    "17105",
                    "17107",
                    "17115",
                    "17117",
                    "17119",
                    "17121",
                    "17123",
                    "17125",
                    "17127",
                    "17109",
                    "17111",
                    "17113",
                    "17129",
                    "17131",
                    "17133",
                    "17135",
                    "17137",
                    "17139",
                    "17141",
                    "17143",
                    "17145",
                    "17147",
                    "17149",
                    "17151",
                    "17153",
                    "17155",
                    "17157",
                    "17159",
                    "17161",
                    "17165",
                    "17167",
                    "17169",
                    "17171",
                    "17173",
                    "17163",
                    "17175",
                    "17177",
                    "17179",
                    "17181",
                    "17183",
                    "17185",
                    "17187",
                    "17189",
                    "17191",
                    "17193",
                    "17195",
                    "17197",
                    "17199",
                    "17201",
                    "17203",
                    "18001",
                    "18003",
                    "18005",
                    "18007",
                    "18009",
                    "18011",
                    "18013",
                    "18015",
                    "18017",
                    "18019",
                    "18021",
                    "18023",
                    "18025",
                    "18027",
                    "18033",
                    "18029",
                    "18031",
                    "18035",
                    "18037",
                    "18039",
                    "18041",
                    "18043",
                    "18045",
                    "18047",
                    "18049",
                    "18051",
                    "18053",
                    "18055",
                    "18057",
                    "18059",
                    "18061",
                    "18063",
                    "18065",
                    "18067",
                    "18069",
                    "18071",
                    "18073",
                    "18075",
                    "18077",
                    "18079",
                    "18081",
                    "18083",
                    "18085",
                    "18087",
                    "18091",
                    "18089",
                    "18093",
                    "18095",
                    "18097",
                    "18099",
                    "18101",
                    "18103",
                    "18105",
                    "18107",
                    "18109",
                    "18111",
                    "18113",
                    "18115",
                    "18117",
                    "18119",
                    "18121",
                    "18123",
                    "18125",
                    "18127",
                    "18129",
                    "18131",
                    "18133",
                    "18135",
                    "18137",
                    "18139",
                    "18143",
                    "18145",
                    "18147",
                    "18141",
                    "18149",
                    "18151",
                    "18153",
                    "18155",
                    "18157",
                    "18159",
                    "18161",
                    "18163",
                    "18165",
                    "18167",
                    "18169",
                    "18171",
                    "18173",
                    "18175",
                    "18177",
                    "18179",
                    "18181",
                    "18183",
                    "19001",
                    "19003",
                    "19005",
                    "19007",
                    "19009",
                    "19011",
                    "19013",
                    "19015",
                    "19017",
                    "19019",
                    "19021",
                    "19023",
                    "19025",
                    "19027",
                    "19029",
                    "19031",
                    "19033",
                    "19035",
                    "19037",
                    "19039",
                    "19041",
                    "19043",
                    "19045",
                    "19047",
                    "19049",
                    "19051",
                    "19053",
                    "19055",
                    "19057",
                    "19059",
                    "19061",
                    "19063",
                    "19065",
                    "19067",
                    "19069",
                    "19071",
                    "19073",
                    "19075",
                    "19077",
                    "19079",
                    "19081",
                    "19083",
                    "19085",
                    "19087",
                    "19089",
                    "19091",
                    "19093",
                    "19095",
                    "19097",
                    "19099",
                    "19101",
                    "19103",
                    "19105",
                    "19107",
                    "19109",
                    "19111",
                    "19113",
                    "19115",
                    "19117",
                    "19119",
                    "19121",
                    "19123",
                    "19125",
                    "19127",
                    "19129",
                    "19131",
                    "19133",
                    "19135",
                    "19137",
                    "19139",
                    "19141",
                    "19143",
                    "19145",
                    "19147",
                    "19149",
                    "19151",
                    "19153",
                    "19155",
                    "19157",
                    "19159",
                    "19161",
                    "19163",
                    "19165",
                    "19167",
                    "19169",
                    "19171",
                    "19173",
                    "19175",
                    "19177",
                    "19179",
                    "19181",
                    "19183",
                    "19185",
                    "19187",
                    "19189",
                    "19191",
                    "19193",
                    "19195",
                    "19197",
                    "20001",
                    "20003",
                    "20005",
                    "20007",
                    "20009",
                    "20011",
                    "20013",
                    "20015",
                    "20017",
                    "20019",
                    "20021",
                    "20023",
                    "20025",
                    "20027",
                    "20029",
                    "20031",
                    "20033",
                    "20035",
                    "20037",
                    "20039",
                    "20041",
                    "20043",
                    "20045",
                    "20047",
                    "20049",
                    "20051",
                    "20053",
                    "20055",
                    "20057",
                    "20059",
                    "20061",
                    "20063",
                    "20065",
                    "20067",
                    "20069",
                    "20071",
                    "20073",
                    "20075",
                    "20077",
                    "20079",
                    "20081",
                    "20083",
                    "20085",
                    "20087",
                    "20089",
                    "20091",
                    "20093",
                    "20095",
                    "20097",
                    "20099",
                    "20101",
                    "20103",
                    "20105",
                    "20107",
                    "20109",
                    "20111",
                    "20115",
                    "20117",
                    "20113",
                    "20119",
                    "20121",
                    "20123",
                    "20125",
                    "20127",
                    "20129",
                    "20131",
                    "20133",
                    "20135",
                    "20137",
                    "20139",
                    "20141",
                    "20143",
                    "20145",
                    "20147",
                    "20149",
                    "20151",
                    "20153",
                    "20155",
                    "20157",
                    "20159",
                    "20161",
                    "20163",
                    "20165",
                    "20167",
                    "20169",
                    "20171",
                    "20173",
                    "20175",
                    "20177",
                    "20179",
                    "20181",
                    "20183",
                    "20185",
                    "20187",
                    "20189",
                    "20191",
                    "20193",
                    "20195",
                    "20197",
                    "20199",
                    "20201",
                    "20203",
                    "20205",
                    "20207",
                    "20209",
                    "21001",
                    "21003",
                    "21005",
                    "21007",
                    "21009",
                    "21011",
                    "21013",
                    "21015",
                    "21017",
                    "21019",
                    "21021",
                    "21023",
                    "21025",
                    "21027",
                    "21029",
                    "21031",
                    "21033",
                    "21035",
                    "21037",
                    "21039",
                    "21041",
                    "21043",
                    "21045",
                    "21047",
                    "21049",
                    "21051",
                    "21053",
                    "21055",
                    "21057",
                    "21059",
                    "21061",
                    "21063",
                    "21065",
                    "21067",
                    "21069",
                    "21071",
                    "21073",
                    "21075",
                    "21077",
                    "21079",
                    "21081",
                    "21083",
                    "21085",
                    "21087",
                    "21089",
                    "21091",
                    "21093",
                    "21095",
                    "21097",
                    "21099",
                    "21101",
                    "21103",
                    "21105",
                    "21107",
                    "21109",
                    "21111",
                    "21113",
                    "21115",
                    "21117",
                    "21119",
                    "21121",
                    "21123",
                    "21125",
                    "21127",
                    "21129",
                    "21131",
                    "21133",
                    "21135",
                    "21137",
                    "21139",
                    "21141",
                    "21143",
                    "21151",
                    "21153",
                    "21155",
                    "21157",
                    "21159",
                    "21161",
                    "21145",
                    "21147",
                    "21149",
                    "21163",
                    "21165",
                    "21167",
                    "21169",
                    "21171",
                    "21173",
                    "21175",
                    "21177",
                    "21179",
                    "21181",
                    "21183",
                    "21185",
                    "21187",
                    "21189",
                    "21191",
                    "21193",
                    "21195",
                    "21197",
                    "21199",
                    "21201",
                    "21203",
                    "21205",
                    "21207",
                    "21209",
                    "21211",
                    "21213",
                    "21215",
                    "21217",
                    "21219",
                    "21221",
                    "21223",
                    "21225",
                    "21227",
                    "21229",
                    "21231",
                    "21233",
                    "21235",
                    "21237",
                    "21239",
                    "22001",
                    "22003",
                    "22005",
                    "22007",
                    "22009",
                    "22011",
                    "22013",
                    "22015",
                    "22017",
                    "22019",
                    "22021",
                    "22023",
                    "22025",
                    "22027",
                    "22029",
                    "22031",
                    "22033",
                    "22035",
                    "22037",
                    "22039",
                    "22041",
                    "22043",
                    "22045",
                    "22047",
                    "22049",
                    "22051",
                    "22053",
                    "22059",
                    "22055",
                    "22057",
                    "22061",
                    "22063",
                    "22065",
                    "22067",
                    "22069",
                    "22071",
                    "22073",
                    "22075",
                    "22077",
                    "22079",
                    "22081",
                    "22083",
                    "22085",
                    "22087",
                    "22089",
                    "22091",
                    "22093",
                    "22095",
                    "22097",
                    "22099",
                    "22101",
                    "22103",
                    "22105",
                    "22107",
                    "22109",
                    "22111",
                    "22113",
                    "22115",
                    "22117",
                    "22119",
                    "22121",
                    "22123",
                    "22125",
                    "22127",
                    "23001",
                    "23003",
                    "23005",
                    "23007",
                    "23009",
                    "23011",
                    "23013",
                    "23015",
                    "23017",
                    "23019",
                    "23021",
                    "23023",
                    "23025",
                    "23027",
                    "23029",
                    "23031",
                    "24001",
                    "24003",
                    "24005",
                    "24510",
                    "24009",
                    "24011",
                    "24013",
                    "24015",
                    "24017",
                    "24019",
                    "24021",
                    "24023",
                    "24025",
                    "24027",
                    "24029",
                    "24031",
                    "24033",
                    "24035",
                    "24039",
                    "24037",
                    "24041",
                    "24043",
                    "24045",
                    "24047",
                    "25001",
                    "25003",
                    "25005",
                    "25007",
                    "25009",
                    "25011",
                    "25013",
                    "25015",
                    "25017",
                    "25019",
                    "25021",
                    "25023",
                    "25025",
                    "25027",
                    "26001",
                    "26003",
                    "26005",
                    "26007",
                    "26009",
                    "26011",
                    "26013",
                    "26015",
                    "26017",
                    "26019",
                    "26021",
                    "26023",
                    "26025",
                    "26027",
                    "26029",
                    "26031",
                    "26033",
                    "26035",
                    "26037",
                    "26039",
                    "26041",
                    "26043",
                    "26045",
                    "26047",
                    "26049",
                    "26051",
                    "26053",
                    "26055",
                    "26057",
                    "26059",
                    "26061",
                    "26063",
                    "26065",
                    "26067",
                    "26069",
                    "26071",
                    "26073",
                    "26075",
                    "26077",
                    "26079",
                    "26081",
                    "26083",
                    "26085",
                    "26087",
                    "26089",
                    "26091",
                    "26093",
                    "26095",
                    "26097",
                    "26099",
                    "26101",
                    "26103",
                    "26105",
                    "26107",
                    "26109",
                    "26111",
                    "26113",
                    "26115",
                    "26117",
                    "26119",
                    "26121",
                    "26123",
                    "26125",
                    "26127",
                    "26129",
                    "26131",
                    "26133",
                    "26135",
                    "26137",
                    "26139",
                    "26141",
                    "26143",
                    "26145",
                    "26151",
                    "26153",
                    "26155",
                    "26147",
                    "26149",
                    "26157",
                    "26159",
                    "26161",
                    "26163",
                    "26165",
                    "27001",
                    "27003",
                    "27005",
                    "27007",
                    "27009",
                    "27011",
                    "27013",
                    "27015",
                    "27017",
                    "27019",
                    "27021",
                    "27023",
                    "27025",
                    "27027",
                    "27029",
                    "27031",
                    "27033",
                    "27035",
                    "27037",
                    "27039",
                    "27041",
                    "27043",
                    "27045",
                    "27047",
                    "27049",
                    "27051",
                    "27053",
                    "27055",
                    "27057",
                    "27059",
                    "27061",
                    "27063",
                    "27065",
                    "27067",
                    "27069",
                    "27071",
                    "27073",
                    "27075",
                    "27077",
                    "27079",
                    "27081",
                    "27083",
                    "27087",
                    "27089",
                    "27091",
                    "27085",
                    "27093",
                    "27095",
                    "27097",
                    "27099",
                    "27101",
                    "27103",
                    "27105",
                    "27107",
                    "27109",
                    "27111",
                    "27113",
                    "27115",
                    "27117",
                    "27119",
                    "27121",
                    "27123",
                    "27125",
                    "27127",
                    "27129",
                    "27131",
                    "27133",
                    "27135",
                    "27139",
                    "27141",
                    "27143",
                    "27137",
                    "27145",
                    "27147",
                    "27149",
                    "27151",
                    "27153",
                    "27155",
                    "27157",
                    "27159",
                    "27161",
                    "27163",
                    "27165",
                    "27167",
                    "27169",
                    "27171",
                    "27173",
                    "28001",
                    "28003",
                    "28005",
                    "28007",
                    "28009",
                    "28011",
                    "28013",
                    "28015",
                    "28017",
                    "28019",
                    "28021",
                    "28023",
                    "28025",
                    "28027",
                    "28029",
                    "28031",
                    "28033",
                    "28035",
                    "28037",
                    "28039",
                    "28041",
                    "28043",
                    "28045",
                    "28047",
                    "28049",
                    "28051",
                    "28053",
                    "28055",
                    "28057",
                    "28059",
                    "28061",
                    "28063",
                    "28065",
                    "28067",
                    "28069",
                    "28071",
                    "28073",
                    "28075",
                    "28077",
                    "28079",
                    "28081",
                    "28083",
                    "28085",
                    "28087",
                    "28089",
                    "28091",
                    "28093",
                    "28095",
                    "28097",
                    "28099",
                    "28101",
                    "28103",
                    "28105",
                    "28107",
                    "28109",
                    "28111",
                    "28113",
                    "28115",
                    "28117",
                    "28119",
                    "28121",
                    "28123",
                    "28125",
                    "28127",
                    "28129",
                    "28131",
                    "28133",
                    "28135",
                    "28137",
                    "28139",
                    "28141",
                    "28143",
                    "28145",
                    "28147",
                    "28149",
                    "28151",
                    "28153",
                    "28155",
                    "28157",
                    "28159",
                    "28161",
                    "28163",
                    "29001",
                    "29003",
                    "29005",
                    "29007",
                    "29009",
                    "29011",
                    "29013",
                    "29015",
                    "29017",
                    "29019",
                    "29021",
                    "29023",
                    "29025",
                    "29027",
                    "29029",
                    "29031",
                    "29033",
                    "29035",
                    "29037",
                    "29039",
                    "29041",
                    "29043",
                    "29045",
                    "29047",
                    "29049",
                    "29051",
                    "29053",
                    "29055",
                    "29057",
                    "29059",
                    "29061",
                    "29063",
                    "29065",
                    "29067",
                    "29069",
                    "29071",
                    "29073",
                    "29075",
                    "29077",
                    "29079",
                    "29081",
                    "29083",
                    "29085",
                    "29087",
                    "29089",
                    "29091",
                    "29093",
                    "29095",
                    "29097",
                    "29099",
                    "29101",
                    "29103",
                    "29105",
                    "29107",
                    "29109",
                    "29111",
                    "29113",
                    "29115",
                    "29117",
                    "29121",
                    "29123",
                    "29125",
                    "29127",
                    "29119",
                    "29129",
                    "29131",
                    "29133",
                    "29135",
                    "29137",
                    "29139",
                    "29141",
                    "29143",
                    "29145",
                    "29147",
                    "29149",
                    "29151",
                    "29153",
                    "29155",
                    "29157",
                    "29159",
                    "29161",
                    "29163",
                    "29165",
                    "29167",
                    "29169",
                    "29171",
                    "29173",
                    "29175",
                    "29177",
                    "29179",
                    "29181",
                    "29195",
                    "29197",
                    "29199",
                    "29201",
                    "29203",
                    "29205",
                    "29183",
                    "29185",
                    "29187",
                    "29189",
                    "29510",
                    "29186",
                    "29207",
                    "29209",
                    "29211",
                    "29213",
                    "29215",
                    "29217",
                    "29219",
                    "29221",
                    "29223",
                    "29225",
                    "29227",
                    "29229",
                    "30001",
                    "30003",
                    "30005",
                    "30007",
                    "30009",
                    "30011",
                    "30013",
                    "30015",
                    "30017",
                    "30019",
                    "30021",
                    "30023",
                    "30025",
                    "30027",
                    "30029",
                    "30031",
                    "30033",
                    "30035",
                    "30037",
                    "30039",
                    "30041",
                    "30043",
                    "30045",
                    "30047",
                    "30049",
                    "30051",
                    "30053",
                    "30057",
                    "30055",
                    "30059",
                    "30061",
                    "30063",
                    "30065",
                    "30067",
                    "30069",
                    "30071",
                    "30073",
                    "30075",
                    "30077",
                    "30079",
                    "30081",
                    "30083",
                    "30085",
                    "30087",
                    "30089",
                    "30091",
                    "30093",
                    "30095",
                    "30097",
                    "30099",
                    "30101",
                    "30103",
                    "30105",
                    "30107",
                    "30109",
                    "30111",
                    "31001",
                    "31003",
                    "31005",
                    "31007",
                    "31009",
                    "31011",
                    "31013",
                    "31015",
                    "31017",
                    "31019",
                    "31021",
                    "31023",
                    "31025",
                    "31027",
                    "31029",
                    "31031",
                    "31033",
                    "31035",
                    "31037",
                    "31039",
                    "31041",
                    "31043",
                    "31045",
                    "31047",
                    "31049",
                    "31051",
                    "31053",
                    "31055",
                    "31057",
                    "31059",
                    "31061",
                    "31063",
                    "31065",
                    "31067",
                    "31069",
                    "31071",
                    "31073",
                    "31075",
                    "31077",
                    "31079",
                    "31081",
                    "31083",
                    "31085",
                    "31087",
                    "31089",
                    "31091",
                    "31093",
                    "31095",
                    "31097",
                    "31099",
                    "31101",
                    "31103",
                    "31105",
                    "31107",
                    "31109",
                    "31111",
                    "31113",
                    "31115",
                    "31119",
                    "31117",
                    "31121",
                    "31123",
                    "31125",
                    "31127",
                    "31129",
                    "31131",
                    "31133",
                    "31135",
                    "31137",
                    "31139",
                    "31141",
                    "31143",
                    "31145",
                    "31147",
                    "31149",
                    "31151",
                    "31153",
                    "31155",
                    "31157",
                    "31159",
                    "31161",
                    "31163",
                    "31165",
                    "31167",
                    "31169",
                    "31171",
                    "31173",
                    "31175",
                    "31177",
                    "31179",
                    "31181",
                    "31183",
                    "31185",
                    "32510",
                    "32001",
                    "32003",
                    "32005",
                    "32007",
                    "32009",
                    "32011",
                    "32013",
                    "32015",
                    "32017",
                    "32019",
                    "32021",
                    "32023",
                    "32027",
                    "32029",
                    "32031",
                    "32033",
                    "33001",
                    "33003",
                    "33005",
                    "33007",
                    "33009",
                    "33011",
                    "33013",
                    "33015",
                    "33017",
                    "33019",
                    "34001",
                    "34003",
                    "34005",
                    "34007",
                    "34009",
                    "34011",
                    "34013",
                    "34015",
                    "34017",
                    "34019",
                    "34021",
                    "34023",
                    "34025",
                    "34027",
                    "34029",
                    "34031",
                    "34033",
                    "34035",
                    "34037",
                    "34039",
                    "34041",
                    "35001",
                    "35003",
                    "35005",
                    "35006",
                    "35007",
                    "35009",
                    "35011",
                    "35013",
                    "35015",
                    "35017",
                    "35019",
                    "35021",
                    "35023",
                    "35025",
                    "35027",
                    "35028",
                    "35029",
                    "35031",
                    "35033",
                    "35035",
                    "35037",
                    "35039",
                    "35041",
                    "35045",
                    "35047",
                    "35043",
                    "35049",
                    "35051",
                    "35053",
                    "35055",
                    "35057",
                    "35059",
                    "35061",
                    "36001",
                    "36003",
                    "36007",
                    "36009",
                    "36011",
                    "36013",
                    "36015",
                    "36017",
                    "36019",
                    "36021",
                    "36023",
                    "36025",
                    "36027",
                    "36029",
                    "36031",
                    "36033",
                    "36035",
                    "36037",
                    "36039",
                    "36041",
                    "36043",
                    "36045",
                    "36049",
                    "36051",
                    "36053",
                    "36055",
                    "36057",
                    "36059",
                    "36063",
                    "36065",
                    "36067",
                    "36069",
                    "36071",
                    "36073",
                    "36075",
                    "36077",
                    "36079",
                    "36083",
                    "36087",
                    "36091",
                    "36093",
                    "36095",
                    "36097",
                    "36099",
                    "36089",
                    "36101",
                    "36103",
                    "36105",
                    "36107",
                    "36109",
                    "36111",
                    "36113",
                    "36115",
                    "36117",
                    "36119",
                    "36121",
                    "36123",
                    "37001",
                    "37003",
                    "37005",
                    "37007",
                    "37009",
                    "37011",
                    "37013",
                    "37015",
                    "37017",
                    "37019",
                    "37021",
                    "37023",
                    "37025",
                    "37027",
                    "37029",
                    "37031",
                    "37033",
                    "37035",
                    "37037",
                    "37039",
                    "37041",
                    "37043",
                    "37045",
                    "37047",
                    "37049",
                    "37051",
                    "37053",
                    "37055",
                    "37057",
                    "37059",
                    "37061",
                    "37063",
                    "37065",
                    "37067",
                    "37069",
                    "37071",
                    "37073",
                    "37075",
                    "37077",
                    "37079",
                    "37081",
                    "37083",
                    "37085",
                    "37087",
                    "37089",
                    "37091",
                    "37093",
                    "37095",
                    "37097",
                    "37099",
                    "37101",
                    "37103",
                    "37105",
                    "37107",
                    "37109",
                    "37113",
                    "37115",
                    "37117",
                    "37111",
                    "37119",
                    "37121",
                    "37123",
                    "37125",
                    "37127",
                    "37129",
                    "37131",
                    "37133",
                    "37135",
                    "37137",
                    "37139",
                    "37141",
                    "37143",
                    "37145",
                    "37147",
                    "37149",
                    "37151",
                    "37153",
                    "37155",
                    "37157",
                    "37159",
                    "37161",
                    "37163",
                    "37165",
                    "37167",
                    "37169",
                    "37171",
                    "37173",
                    "37175",
                    "37177",
                    "37179",
                    "37181",
                    "37183",
                    "37185",
                    "37187",
                    "37189",
                    "37191",
                    "37193",
                    "37195",
                    "37197",
                    "37199",
                    "38001",
                    "38003",
                    "38005",
                    "38007",
                    "38009",
                    "38011",
                    "38013",
                    "38015",
                    "38017",
                    "38019",
                    "38021",
                    "38023",
                    "38025",
                    "38027",
                    "38029",
                    "38031",
                    "38033",
                    "38035",
                    "38037",
                    "38039",
                    "38041",
                    "38043",
                    "38045",
                    "38047",
                    "38049",
                    "38051",
                    "38053",
                    "38055",
                    "38057",
                    "38059",
                    "38061",
                    "38063",
                    "38065",
                    "38067",
                    "38069",
                    "38071",
                    "38073",
                    "38075",
                    "38077",
                    "38079",
                    "38081",
                    "38083",
                    "38085",
                    "38087",
                    "38089",
                    "38091",
                    "38093",
                    "38095",
                    "38097",
                    "38099",
                    "38101",
                    "38103",
                    "38105",
                    "69100",
                    "69110",
                    "69120",
                    "39001",
                    "39003",
                    "39005",
                    "39007",
                    "39009",
                    "39011",
                    "39013",
                    "39015",
                    "39017",
                    "39019",
                    "39021",
                    "39023",
                    "39025",
                    "39027",
                    "39029",
                    "39031",
                    "39033",
                    "39035",
                    "39037",
                    "39039",
                    "39041",
                    "39043",
                    "39045",
                    "39047",
                    "39049",
                    "39051",
                    "39053",
                    "39055",
                    "39057",
                    "39059",
                    "39061",
                    "39063",
                    "39065",
                    "39067",
                    "39069",
                    "39071",
                    "39073",
                    "39075",
                    "39077",
                    "39079",
                    "39081",
                    "39083",
                    "39085",
                    "39087",
                    "39089",
                    "39091",
                    "39093",
                    "39095",
                    "39097",
                    "39099",
                    "39101",
                    "39103",
                    "39105",
                    "39107",
                    "39109",
                    "39111",
                    "39113",
                    "39115",
                    "39117",
                    "39119",
                    "39121",
                    "39123",
                    "39125",
                    "39127",
                    "39129",
                    "39131",
                    "39133",
                    "39135",
                    "39137",
                    "39139",
                    "39141",
                    "39143",
                    "39145",
                    "39147",
                    "39149",
                    "39151",
                    "39153",
                    "39155",
                    "39157",
                    "39159",
                    "39161",
                    "39163",
                    "39165",
                    "39167",
                    "39169",
                    "39171",
                    "39173",
                    "39175",
                    "40001",
                    "40003",
                    "40005",
                    "40007",
                    "40009",
                    "40011",
                    "40013",
                    "40015",
                    "40017",
                    "40019",
                    "40021",
                    "40023",
                    "40025",
                    "40027",
                    "40029",
                    "40031",
                    "40033",
                    "40035",
                    "40037",
                    "40039",
                    "40041",
                    "40043",
                    "40045",
                    "40047",
                    "40049",
                    "40051",
                    "40053",
                    "40055",
                    "40057",
                    "40059",
                    "40061",
                    "40063",
                    "40065",
                    "40067",
                    "40069",
                    "40071",
                    "40073",
                    "40075",
                    "40077",
                    "40079",
                    "40081",
                    "40083",
                    "40085",
                    "40093",
                    "40095",
                    "40097",
                    "40087",
                    "40089",
                    "40091",
                    "40099",
                    "40101",
                    "40103",
                    "40105",
                    "40107",
                    "40109",
                    "40111",
                    "40113",
                    "40115",
                    "40117",
                    "40119",
                    "40121",
                    "40123",
                    "40125",
                    "40127",
                    "40129",
                    "40131",
                    "40133",
                    "40135",
                    "40137",
                    "40139",
                    "40141",
                    "40143",
                    "40145",
                    "40147",
                    "40149",
                    "40151",
                    "40153",
                    "41001",
                    "41003",
                    "41005",
                    "41007",
                    "41009",
                    "41011",
                    "41013",
                    "41015",
                    "41017",
                    "41019",
                    "41021",
                    "41023",
                    "41025",
                    "41027",
                    "41029",
                    "41031",
                    "41033",
                    "41035",
                    "41037",
                    "41039",
                    "41041",
                    "41043",
                    "41045",
                    "41047",
                    "41049",
                    "41051",
                    "41053",
                    "41055",
                    "41057",
                    "41059",
                    "41061",
                    "41063",
                    "41065",
                    "41067",
                    "41069",
                    "41071",
                    "42001",
                    "42003",
                    "42005",
                    "42007",
                    "42009",
                    "42011",
                    "42013",
                    "42015",
                    "42017",
                    "42019",
                    "42021",
                    "42023",
                    "42025",
                    "42027",
                    "42029",
                    "42031",
                    "42033",
                    "42035",
                    "42037",
                    "42039",
                    "42041",
                    "42043",
                    "42045",
                    "42047",
                    "42049",
                    "42051",
                    "42053",
                    "42055",
                    "42057",
                    "42059",
                    "42061",
                    "42063",
                    "42065",
                    "42067",
                    "42069",
                    "42071",
                    "42073",
                    "42075",
                    "42077",
                    "42079",
                    "42081",
                    "42083",
                    "42085",
                    "42087",
                    "42089",
                    "42091",
                    "42093",
                    "42095",
                    "42097",
                    "42099",
                    "42101",
                    "42103",
                    "42105",
                    "42107",
                    "42109",
                    "42111",
                    "42113",
                    "42115",
                    "42117",
                    "42119",
                    "42121",
                    "42123",
                    "42125",
                    "42127",
                    "42129",
                    "42131",
                    "42133",
                    "72001",
                    "72003",
                    "72005",
                    "72007",
                    "72009",
                    "72011",
                    "72013",
                    "72015",
                    "72017",
                    "72019",
                    "72021",
                    "72023",
                    "72025",
                    "72027",
                    "72029",
                    "72031",
                    "72033",
                    "72035",
                    "72037",
                    "72039",
                    "72041",
                    "72043",
                    "72045",
                    "72047",
                    "72049",
                    "72051",
                    "72053",
                    "72054",
                    "72055",
                    "72057",
                    "72059",
                    "72061",
                    "72063",
                    "72065",
                    "72067",
                    "72069",
                    "72071",
                    "72073",
                    "72075",
                    "72077",
                    "72079",
                    "72081",
                    "72083",
                    "72085",
                    "72087",
                    "72089",
                    "72091",
                    "72093",
                    "72095",
                    "72097",
                    "72099",
                    "72101",
                    "72103",
                    "72105",
                    "72107",
                    "72109",
                    "72111",
                    "72113",
                    "72115",
                    "72117",
                    "72119",
                    "72121",
                    "72123",
                    "72125",
                    "72127",
                    "72129",
                    "72131",
                    "72133",
                    "72135",
                    "72137",
                    "72139",
                    "72141",
                    "72143",
                    "72145",
                    "72147",
                    "72149",
                    "72151",
                    "72153",
                    "44001",
                    "44003",
                    "44005",
                    "44007",
                    "44009",
                    "45001",
                    "45003",
                    "45005",
                    "45007",
                    "45009",
                    "45011",
                    "45013",
                    "45015",
                    "45017",
                    "45019",
                    "45021",
                    "45023",
                    "45025",
                    "45027",
                    "45029",
                    "45031",
                    "45033",
                    "45035",
                    "45037",
                    "45039",
                    "45041",
                    "45043",
                    "45045",
                    "45047",
                    "45049",
                    "45051",
                    "45053",
                    "45055",
                    "45057",
                    "45059",
                    "45061",
                    "45063",
                    "45067",
                    "45069",
                    "45065",
                    "45071",
                    "45073",
                    "45075",
                    "45077",
                    "45079",
                    "45081",
                    "45083",
                    "45085",
                    "45087",
                    "45089",
                    "45091",
                    "46003",
                    "46005",
                    "46007",
                    "46009",
                    "46011",
                    "46013",
                    "46015",
                    "46017",
                    "46019",
                    "46021",
                    "46023",
                    "46025",
                    "46027",
                    "46029",
                    "46031",
                    "46033",
                    "46035",
                    "46037",
                    "46039",
                    "46041",
                    "46043",
                    "46045",
                    "46047",
                    "46049",
                    "46051",
                    "46053",
                    "46055",
                    "46057",
                    "46059",
                    "46061",
                    "46063",
                    "46065",
                    "46067",
                    "46069",
                    "46071",
                    "46073",
                    "46075",
                    "46077",
                    "46079",
                    "46081",
                    "46083",
                    "46085",
                    "46091",
                    "46087",
                    "46089",
                    "46093",
                    "46095",
                    "46097",
                    "46099",
                    "46101",
                    "46102",
                    "46103",
                    "46105",
                    "46107",
                    "46109",
                    "46111",
                    "46115",
                    "46117",
                    "46119",
                    "46121",
                    "46123",
                    "46125",
                    "46127",
                    "46129",
                    "46135",
                    "46137",
                    "47001",
                    "47003",
                    "47005",
                    "47007",
                    "47009",
                    "47011",
                    "47013",
                    "47015",
                    "47017",
                    "47019",
                    "47021",
                    "47023",
                    "47025",
                    "47027",
                    "47029",
                    "47031",
                    "47033",
                    "47035",
                    "47037",
                    "47041",
                    "47039",
                    "47043",
                    "47045",
                    "47047",
                    "47049",
                    "47051",
                    "47053",
                    "47055",
                    "47057",
                    "47059",
                    "47061",
                    "47063",
                    "47065",
                    "47067",
                    "47069",
                    "47071",
                    "47073",
                    "47075",
                    "47077",
                    "47079",
                    "47081",
                    "47083",
                    "47085",
                    "47087",
                    "47089",
                    "47091",
                    "47093",
                    "47095",
                    "47097",
                    "47099",
                    "47101",
                    "47103",
                    "47105",
                    "47111",
                    "47113",
                    "47115",
                    "47117",
                    "47119",
                    "47107",
                    "47109",
                    "47121",
                    "47123",
                    "47125",
                    "47127",
                    "47129",
                    "47131",
                    "47133",
                    "47135",
                    "47137",
                    "47139",
                    "47141",
                    "47143",
                    "47145",
                    "47147",
                    "47149",
                    "47151",
                    "47153",
                    "47155",
                    "47157",
                    "47159",
                    "47161",
                    "47163",
                    "47165",
                    "47167",
                    "47169",
                    "47171",
                    "47173",
                    "47175",
                    "47177",
                    "47179",
                    "47181",
                    "47183",
                    "47185",
                    "47187",
                    "47189",
                    "48001",
                    "48003",
                    "48005",
                    "48007",
                    "48009",
                    "48011",
                    "48013",
                    "48015",
                    "48017",
                    "48019",
                    "48021",
                    "48023",
                    "48025",
                    "48027",
                    "48029",
                    "48031",
                    "48033",
                    "48035",
                    "48037",
                    "48039",
                    "48041",
                    "48043",
                    "48045",
                    "48047",
                    "48049",
                    "48051",
                    "48053",
                    "48055",
                    "48057",
                    "48059",
                    "48061",
                    "48063",
                    "48065",
                    "48067",
                    "48069",
                    "48071",
                    "48073",
                    "48075",
                    "48077",
                    "48079",
                    "48081",
                    "48083",
                    "48085",
                    "48087",
                    "48089",
                    "48091",
                    "48093",
                    "48095",
                    "48097",
                    "48099",
                    "48101",
                    "48103",
                    "48105",
                    "48107",
                    "48109",
                    "48111",
                    "48113",
                    "48115",
                    "48123",
                    "48117",
                    "48119",
                    "48121",
                    "48125",
                    "48127",
                    "48129",
                    "48131",
                    "48133",
                    "48135",
                    "48137",
                    "48141",
                    "48139",
                    "48143",
                    "48145",
                    "48147",
                    "48149",
                    "48151",
                    "48153",
                    "48155",
                    "48157",
                    "48159",
                    "48161",
                    "48163",
                    "48165",
                    "48167",
                    "48169",
                    "48171",
                    "48173",
                    "48175",
                    "48177",
                    "48179",
                    "48181",
                    "48183",
                    "48185",
                    "48187",
                    "48189",
                    "48191",
                    "48193",
                    "48195",
                    "48197",
                    "48199",
                    "48201",
                    "48203",
                    "48205",
                    "48207",
                    "48209",
                    "48211",
                    "48213",
                    "48215",
                    "48217",
                    "48219",
                    "48221",
                    "48223",
                    "48225",
                    "48227",
                    "48229",
                    "48231",
                    "48233",
                    "48235",
                    "48237",
                    "48239",
                    "48241",
                    "48243",
                    "48245",
                    "48247",
                    "48249",
                    "48251",
                    "48253",
                    "48255",
                    "48257",
                    "48259",
                    "48261",
                    "48263",
                    "48265",
                    "48267",
                    "48269",
                    "48271",
                    "48273",
                    "48275",
                    "48283",
                    "48277",
                    "48279",
                    "48281",
                    "48285",
                    "48287",
                    "48289",
                    "48291",
                    "48293",
                    "48295",
                    "48297",
                    "48299",
                    "48301",
                    "48303",
                    "48305",
                    "48313",
                    "48315",
                    "48317",
                    "48319",
                    "48321",
                    "48323",
                    "48307",
                    "48309",
                    "48311",
                    "48325",
                    "48327",
                    "48329",
                    "48331",
                    "48333",
                    "48335",
                    "48337",
                    "48339",
                    "48341",
                    "48343",
                    "48345",
                    "48347",
                    "48349",
                    "48351",
                    "48353",
                    "48355",
                    "48357",
                    "48359",
                    "48361",
                    "48363",
                    "48365",
                    "48367",
                    "48369",
                    "48371",
                    "48999",
                    "48373",
                    "48375",
                    "48377",
                    "48379",
                    "48381",
                    "48383",
                    "48385",
                    "48387",
                    "48389",
                    "48391",
                    "48393",
                    "48395",
                    "48397",
                    "48399",
                    "48401",
                    "48403",
                    "48405",
                    "48407",
                    "48409",
                    "48411",
                    "48413",
                    "48415",
                    "48417",
                    "48419",
                    "48421",
                    "48423",
                    "48425",
                    "48427",
                    "48429",
                    "48431",
                    "48433",
                    "48435",
                    "48437",
                    "48439",
                    "48441",
                    "48443",
                    "48445",
                    "48447",
                    "48449",
                    "48451",
                    "48453",
                    "48455",
                    "48457",
                    "48459",
                    "48461",
                    "48463",
                    "48465",
                    "48467",
                    "48469",
                    "48471",
                    "48473",
                    "48475",
                    "48477",
                    "48479",
                    "48481",
                    "48483",
                    "48485",
                    "48487",
                    "48489",
                    "48491",
                    "48493",
                    "48495",
                    "48497",
                    "48499",
                    "48501",
                    "48503",
                    "48505",
                    "48507",
                    "49001",
                    "49003",
                    "49005",
                    "49007",
                    "49009",
                    "49011",
                    "49013",
                    "49015",
                    "49017",
                    "49019",
                    "49021",
                    "49023",
                    "49025",
                    "49027",
                    "49029",
                    "49031",
                    "49033",
                    "49035",
                    "49037",
                    "49039",
                    "49041",
                    "49043",
                    "49045",
                    "49047",
                    "49049",
                    "49051",
                    "49053",
                    "49055",
                    "49057",
                    "50001",
                    "50003",
                    "50005",
                    "50007",
                    "50009",
                    "50011",
                    "50013",
                    "50015",
                    "50017",
                    "50019",
                    "50021",
                    "50023",
                    "50025",
                    "50027",
                    "78010",
                    "78020",
                    "78030",
                    "51001",
                    "51003",
                    "51510",
                    "51005",
                    "51007",
                    "51009",
                    "51011",
                    "51013",
                    "51015",
                    "51017",
                    "51019",
                    "51021",
                    "51023",
                    "51520",
                    "51025",
                    "51027",
                    "51029",
                    "51530",
                    "51031",
                    "51033",
                    "51035",
                    "51036",
                    "51037",
                    "51540",
                    "51550",
                    "51041",
                    "51043",
                    "51570",
                    "51580",
                    "51045",
                    "51047",
                    "51049",
                    "51590",
                    "51051",
                    "51053",
                    "51595",
                    "51057",
                    "51059",
                    "51600",
                    "51610",
                    "51061",
                    "51063",
                    "51065",
                    "51067",
                    "51620",
                    "51069",
                    "51630",
                    "51640",
                    "51071",
                    "51073",
                    "51075",
                    "51077",
                    "51079",
                    "51081",
                    "51083",
                    "51650",
                    "51085",
                    "51660",
                    "51087",
                    "51089",
                    "51091",
                    "51670",
                    "51093",
                    "51095",
                    "51099",
                    "51101",
                    "51097",
                    "51103",
                    "51105",
                    "51678",
                    "51107",
                    "51109",
                    "51111",
                    "51680",
                    "51113",
                    "51685",
                    "51683",
                    "51690",
                    "51115",
                    "51117",
                    "51119",
                    "51121",
                    "51125",
                    "51127",
                    "51700",
                    "51710",
                    "51131",
                    "51133",
                    "51720",
                    "51135",
                    "51137",
                    "51139",
                    "51141",
                    "51730",
                    "51143",
                    "51735",
                    "51740",
                    "51145",
                    "51147",
                    "51149",
                    "51153",
                    "51155",
                    "51750",
                    "51157",
                    "51159",
                    "51760",
                    "51161",
                    "51770",
                    "51163",
                    "51165",
                    "51167",
                    "51775",
                    "51169",
                    "51171",
                    "51173",
                    "51175",
                    "51177",
                    "51179",
                    "51790",
                    "51800",
                    "51181",
                    "51183",
                    "51185",
                    "51810",
                    "51187",
                    "51191",
                    "51820",
                    "51193",
                    "51830",
                    "51840",
                    "51195",
                    "51197",
                    "51199",
                    "53001",
                    "53003",
                    "53005",
                    "53007",
                    "53009",
                    "53011",
                    "53013",
                    "53015",
                    "53017",
                    "53019",
                    "53021",
                    "53023",
                    "53025",
                    "53027",
                    "53029",
                    "53031",
                    "53033",
                    "53035",
                    "53037",
                    "53039",
                    "53041",
                    "53043",
                    "53045",
                    "53047",
                    "53049",
                    "53051",
                    "53053",
                    "53055",
                    "53057",
                    "53059",
                    "53061",
                    "53063",
                    "53065",
                    "53067",
                    "53069",
                    "53071",
                    "53073",
                    "53075",
                    "53077",
                    "54001",
                    "54003",
                    "54005",
                    "54007",
                    "54009",
                    "54011",
                    "54013",
                    "54015",
                    "54017",
                    "54019",
                    "54021",
                    "54023",
                    "54025",
                    "54027",
                    "54029",
                    "54031",
                    "54033",
                    "54035",
                    "54037",
                    "54039",
                    "54041",
                    "54043",
                    "54045",
                    "54049",
                    "54051",
                    "54053",
                    "54047",
                    "54055",
                    "54057",
                    "54059",
                    "54061",
                    "54063",
                    "54065",
                    "54067",
                    "54069",
                    "54071",
                    "54073",
                    "54075",
                    "54077",
                    "54079",
                    "54081",
                    "54083",
                    "54085",
                    "54087",
                    "54089",
                    "54091",
                    "54093",
                    "54095",
                    "54097",
                    "54099",
                    "54101",
                    "54103",
                    "54105",
                    "54107",
                    "54109",
                    "55001",
                    "55003",
                    "55005",
                    "55007",
                    "55009",
                    "55011",
                    "55013",
                    "55015",
                    "55017",
                    "55019",
                    "55021",
                    "55023",
                    "55025",
                    "55027",
                    "55029",
                    "55031",
                    "55033",
                    "55035",
                    "55037",
                    "55039",
                    "55041",
                    "55043",
                    "55045",
                    "55047",
                    "55049",
                    "55051",
                    "55053",
                    "55055",
                    "55057",
                    "55059",
                    "55061",
                    "55063",
                    "55065",
                    "55067",
                    "55069",
                    "55071",
                    "55073",
                    "55075",
                    "55077",
                    "55078",
                    "55079",
                    "55081",
                    "55083",
                    "55085",
                    "55087",
                    "55089",
                    "55091",
                    "55093",
                    "55095",
                    "55097",
                    "55099",
                    "55101",
                    "55103",
                    "55105",
                    "55107",
                    "55111",
                    "55113",
                    "55115",
                    "55117",
                    "55109",
                    "55119",
                    "55121",
                    "55123",
                    "55125",
                    "55127",
                    "55129",
                    "55131",
                    "55133",
                    "55135",
                    "55137",
                    "55139",
                    "55141",
                    "56001",
                    "56003",
                    "56005",
                    "56007",
                    "56009",
                    "56011",
                    "56013",
                    "56015",
                    "56017",
                    "56019",
                    "56021",
                    "56023",
                    "56025",
                    "56027",
                    "56029",
                    "56031",
                    "56033",
                    "56035",
                    "56037",
                    "56039",
                    "56041",
                    "56043",
                    "56045"
                  ],
                  "name": "",
                  "type": "choropleth",
                  "z": {
                    "bdata": "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",
                    "dtype": "f8"
                  }
                }
              ],
              "layout": {
                "coloraxis": {
                  "colorbar": {
                    "title": {
                      "text": "rate"
                    }
                  },
                  "colorscale": [
                    [
                      0,
                      "#440154"
                    ],
                    [
                      0.1111111111111111,
                      "#482878"
                    ],
                    [
                      0.2222222222222222,
                      "#3e4989"
                    ],
                    [
                      0.3333333333333333,
                      "#31688e"
                    ],
                    [
                      0.4444444444444444,
                      "#26828e"
                    ],
                    [
                      0.5555555555555556,
                      "#1f9e89"
                    ],
                    [
                      0.6666666666666666,
                      "#35b779"
                    ],
                    [
                      0.7777777777777778,
                      "#6ece58"
                    ],
                    [
                      0.8888888888888888,
                      "#b5de2b"
                    ],
                    [
                      1,
                      "#fde725"
                    ]
                  ]
                },
                "geo": {
                  "center": {},
                  "domain": {
                    "x": [
                      0,
                      1
                    ],
                    "y": [
                      0,
                      1
                    ]
                  },
                  "scope": "usa"
                },
                "legend": {
                  "tracegroupgap": 0
                },
                "template": {
                  "data": {
                    "bar": [
                      {
                        "error_x": {
                          "color": "#2a3f5f"
                        },
                        "error_y": {
                          "color": "#2a3f5f"
                        },
                        "marker": {
                          "line": {
                            "color": "#E5ECF6",
                            "width": 0.5
                          },
                          "pattern": {
                            "fillmode": "overlay",
                            "size": 10,
                            "solidity": 0.2
                          }
                        },
                        "type": "bar"
                      }
                    ],
                    "barpolar": [
                      {
                        "marker": {
                          "line": {
                            "color": "#E5ECF6",
                            "width": 0.5
                          },
                          "pattern": {
                            "fillmode": "overlay",
                            "size": 10,
                            "solidity": 0.2
                          }
                        },
                        "type": "barpolar"
                      }
                    ],
                    "carpet": [
                      {
                        "aaxis": {
                          "endlinecolor": "#2a3f5f",
                          "gridcolor": "white",
                          "linecolor": "white",
                          "minorgridcolor": "white",
                          "startlinecolor": "#2a3f5f"
                        },
                        "baxis": {
                          "endlinecolor": "#2a3f5f",
                          "gridcolor": "white",
                          "linecolor": "white",
                          "minorgridcolor": "white",
                          "startlinecolor": "#2a3f5f"
                        },
                        "type": "carpet"
                      }
                    ],
                    "choropleth": [
                      {
                        "colorbar": {
                          "outlinewidth": 0,
                          "ticks": ""
                        },
                        "type": "choropleth"
                      }
                    ],
                    "contour": [
                      {
                        "colorbar": {
                          "outlinewidth": 0,
                          "ticks": ""
                        },
                        "colorscale": [
                          [
                            0,
                            "#0d0887"
                          ],
                          [
                            0.1111111111111111,
                            "#46039f"
                          ],
                          [
                            0.2222222222222222,
                            "#7201a8"
                          ],
                          [
                            0.3333333333333333,
                            "#9c179e"
                          ],
                          [
                            0.4444444444444444,
                            "#bd3786"
                          ],
                          [
                            0.5555555555555556,
                            "#d8576b"
                          ],
                          [
                            0.6666666666666666,
                            "#ed7953"
                          ],
                          [
                            0.7777777777777778,
                            "#fb9f3a"
                          ],
                          [
                            0.8888888888888888,
                            "#fdca26"
                          ],
                          [
                            1,
                            "#f0f921"
                          ]
                        ],
                        "type": "contour"
                      }
                    ],
                    "contourcarpet": [
                      {
                        "colorbar": {
                          "outlinewidth": 0,
                          "ticks": ""
                        },
                        "type": "contourcarpet"
                      }
                    ],
                    "heatmap": [
                      {
                        "colorbar": {
                          "outlinewidth": 0,
                          "ticks": ""
                        },
                        "colorscale": [
                          [
                            0,
                            "#0d0887"
                          ],
                          [
                            0.1111111111111111,
                            "#46039f"
                          ],
                          [
                            0.2222222222222222,
                            "#7201a8"
                          ],
                          [
                            0.3333333333333333,
                            "#9c179e"
                          ],
                          [
                            0.4444444444444444,
                            "#bd3786"
                          ],
                          [
                            0.5555555555555556,
                            "#d8576b"
                          ],
                          [
                            0.6666666666666666,
                            "#ed7953"
                          ],
                          [
                            0.7777777777777778,
                            "#fb9f3a"
                          ],
                          [
                            0.8888888888888888,
                            "#fdca26"
                          ],
                          [
                            1,
                            "#f0f921"
                          ]
                        ],
                        "type": "heatmap"
                      }
                    ],
                    "histogram": [
                      {
                        "marker": {
                          "pattern": {
                            "fillmode": "overlay",
                            "size": 10,
                            "solidity": 0.2
                          }
                        },
                        "type": "histogram"
                      }
                    ],
                    "histogram2d": [
                      {
                        "colorbar": {
                          "outlinewidth": 0,
                          "ticks": ""
                        },
                        "colorscale": [
                          [
                            0,
                            "#0d0887"
                          ],
                          [
                            0.1111111111111111,
                            "#46039f"
                          ],
                          [
                            0.2222222222222222,
                            "#7201a8"
                          ],
                          [
                            0.3333333333333333,
                            "#9c179e"
                          ],
                          [
                            0.4444444444444444,
                            "#bd3786"
                          ],
                          [
                            0.5555555555555556,
                            "#d8576b"
                          ],
                          [
                            0.6666666666666666,
                            "#ed7953"
                          ],
                          [
                            0.7777777777777778,
                            "#fb9f3a"
                          ],
                          [
                            0.8888888888888888,
                            "#fdca26"
                          ],
                          [
                            1,
                            "#f0f921"
                          ]
                        ],
                        "type": "histogram2d"
                      }
                    ],
                    "histogram2dcontour": [
                      {
                        "colorbar": {
                          "outlinewidth": 0,
                          "ticks": ""
                        },
                        "colorscale": [
                          [
                            0,
                            "#0d0887"
                          ],
                          [
                            0.1111111111111111,
                            "#46039f"
                          ],
                          [
                            0.2222222222222222,
                            "#7201a8"
                          ],
                          [
                            0.3333333333333333,
                            "#9c179e"
                          ],
                          [
                            0.4444444444444444,
                            "#bd3786"
                          ],
                          [
                            0.5555555555555556,
                            "#d8576b"
                          ],
                          [
                            0.6666666666666666,
                            "#ed7953"
                          ],
                          [
                            0.7777777777777778,
                            "#fb9f3a"
                          ],
                          [
                            0.8888888888888888,
                            "#fdca26"
                          ],
                          [
                            1,
                            "#f0f921"
                          ]
                        ],
                        "type": "histogram2dcontour"
                      }
                    ],
                    "mesh3d": [
                      {
                        "colorbar": {
                          "outlinewidth": 0,
                          "ticks": ""
                        },
                        "type": "mesh3d"
                      }
                    ],
                    "parcoords": [
                      {
                        "line": {
                          "colorbar": {
                            "outlinewidth": 0,
                            "ticks": ""
                          }
                        },
                        "type": "parcoords"
                      }
                    ],
                    "pie": [
                      {
                        "automargin": true,
                        "type": "pie"
                      }
                    ],
                    "scatter": [
                      {
                        "fillpattern": {
                          "fillmode": "overlay",
                          "size": 10,
                          "solidity": 0.2
                        },
                        "type": "scatter"
                      }
                    ],
                    "scatter3d": [
                      {
                        "line": {
                          "colorbar": {
                            "outlinewidth": 0,
                            "ticks": ""
                          }
                        },
                        "marker": {
                          "colorbar": {
                            "outlinewidth": 0,
                            "ticks": ""
                          }
                        },
                        "type": "scatter3d"
                      }
                    ],
                    "scattercarpet": [
                      {
                        "marker": {
                          "colorbar": {
                            "outlinewidth": 0,
                            "ticks": ""
                          }
                        },
                        "type": "scattercarpet"
                      }
                    ],
                    "scattergeo": [
                      {
                        "marker": {
                          "colorbar": {
                            "outlinewidth": 0,
                            "ticks": ""
                          }
                        },
                        "type": "scattergeo"
                      }
                    ],
                    "scattergl": [
                      {
                        "marker": {
                          "colorbar": {
                            "outlinewidth": 0,
                            "ticks": ""
                          }
                        },
                        "type": "scattergl"
                      }
                    ],
                    "scattermap": [
                      {
                        "marker": {
                          "colorbar": {
                            "outlinewidth": 0,
                            "ticks": ""
                          }
                        },
                        "type": "scattermap"
                      }
                    ],
                    "scattermapbox": [
                      {
                        "marker": {
                          "colorbar": {
                            "outlinewidth": 0,
                            "ticks": ""
                          }
                        },
                        "type": "scattermapbox"
                      }
                    ],
                    "scatterpolar": [
                      {
                        "marker": {
                          "colorbar": {
                            "outlinewidth": 0,
                            "ticks": ""
                          }
                        },
                        "type": "scatterpolar"
                      }
                    ],
                    "scatterpolargl": [
                      {
                        "marker": {
                          "colorbar": {
                            "outlinewidth": 0,
                            "ticks": ""
                          }
                        },
                        "type": "scatterpolargl"
                      }
                    ],
                    "scatterternary": [
                      {
                        "marker": {
                          "colorbar": {
                            "outlinewidth": 0,
                            "ticks": ""
                          }
                        },
                        "type": "scatterternary"
                      }
                    ],
                    "surface": [
                      {
                        "colorbar": {
                          "outlinewidth": 0,
                          "ticks": ""
                        },
                        "colorscale": [
                          [
                            0,
                            "#0d0887"
                          ],
                          [
                            0.1111111111111111,
                            "#46039f"
                          ],
                          [
                            0.2222222222222222,
                            "#7201a8"
                          ],
                          [
                            0.3333333333333333,
                            "#9c179e"
                          ],
                          [
                            0.4444444444444444,
                            "#bd3786"
                          ],
                          [
                            0.5555555555555556,
                            "#d8576b"
                          ],
                          [
                            0.6666666666666666,
                            "#ed7953"
                          ],
                          [
                            0.7777777777777778,
                            "#fb9f3a"
                          ],
                          [
                            0.8888888888888888,
                            "#fdca26"
                          ],
                          [
                            1,
                            "#f0f921"
                          ]
                        ],
                        "type": "surface"
                      }
                    ],
                    "table": [
                      {
                        "cells": {
                          "fill": {
                            "color": "#EBF0F8"
                          },
                          "line": {
                            "color": "white"
                          }
                        },
                        "header": {
                          "fill": {
                            "color": "#C8D4E3"
                          },
                          "line": {
                            "color": "white"
                          }
                        },
                        "type": "table"
                      }
                    ]
                  },
                  "layout": {
                    "annotationdefaults": {
                      "arrowcolor": "#2a3f5f",
                      "arrowhead": 0,
                      "arrowwidth": 1
                    },
                    "autotypenumbers": "strict",
                    "coloraxis": {
                      "colorbar": {
                        "outlinewidth": 0,
                        "ticks": ""
                      }
                    },
                    "colorscale": {
                      "diverging": [
                        [
                          0,
                          "#8e0152"
                        ],
                        [
                          0.1,
                          "#c51b7d"
                        ],
                        [
                          0.2,
                          "#de77ae"
                        ],
                        [
                          0.3,
                          "#f1b6da"
                        ],
                        [
                          0.4,
                          "#fde0ef"
                        ],
                        [
                          0.5,
                          "#f7f7f7"
                        ],
                        [
                          0.6,
                          "#e6f5d0"
                        ],
                        [
                          0.7,
                          "#b8e186"
                        ],
                        [
                          0.8,
                          "#7fbc41"
                        ],
                        [
                          0.9,
                          "#4d9221"
                        ],
                        [
                          1,
                          "#276419"
                        ]
                      ],
                      "sequential": [
                        [
                          0,
                          "#0d0887"
                        ],
                        [
                          0.1111111111111111,
                          "#46039f"
                        ],
                        [
                          0.2222222222222222,
                          "#7201a8"
                        ],
                        [
                          0.3333333333333333,
                          "#9c179e"
                        ],
                        [
                          0.4444444444444444,
                          "#bd3786"
                        ],
                        [
                          0.5555555555555556,
                          "#d8576b"
                        ],
                        [
                          0.6666666666666666,
                          "#ed7953"
                        ],
                        [
                          0.7777777777777778,
                          "#fb9f3a"
                        ],
                        [
                          0.8888888888888888,
                          "#fdca26"
                        ],
                        [
                          1,
                          "#f0f921"
                        ]
                      ],
                      "sequentialminus": [
                        [
                          0,
                          "#0d0887"
                        ],
                        [
                          0.1111111111111111,
                          "#46039f"
                        ],
                        [
                          0.2222222222222222,
                          "#7201a8"
                        ],
                        [
                          0.3333333333333333,
                          "#9c179e"
                        ],
                        [
                          0.4444444444444444,
                          "#bd3786"
                        ],
                        [
                          0.5555555555555556,
                          "#d8576b"
                        ],
                        [
                          0.6666666666666666,
                          "#ed7953"
                        ],
                        [
                          0.7777777777777778,
                          "#fb9f3a"
                        ],
                        [
                          0.8888888888888888,
                          "#fdca26"
                        ],
                        [
                          1,
                          "#f0f921"
                        ]
                      ]
                    },
                    "colorway": [
                      "#636efa",
                      "#EF553B",
                      "#00cc96",
                      "#ab63fa",
                      "#FFA15A",
                      "#19d3f3",
                      "#FF6692",
                      "#B6E880",
                      "#FF97FF",
                      "#FECB52"
                    ],
                    "font": {
                      "color": "#2a3f5f"
                    },
                    "geo": {
                      "bgcolor": "white",
                      "lakecolor": "white",
                      "landcolor": "#E5ECF6",
                      "showlakes": true,
                      "showland": true,
                      "subunitcolor": "white"
                    },
                    "hoverlabel": {
                      "align": "left"
                    },
                    "hovermode": "closest",
                    "mapbox": {
                      "style": "light"
                    },
                    "paper_bgcolor": "white",
                    "plot_bgcolor": "#E5ECF6",
                    "polar": {
                      "angularaxis": {
                        "gridcolor": "white",
                        "linecolor": "white",
                        "ticks": ""
                      },
                      "bgcolor": "#E5ECF6",
                      "radialaxis": {
                        "gridcolor": "white",
                        "linecolor": "white",
                        "ticks": ""
                      }
                    },
                    "scene": {
                      "xaxis": {
                        "backgroundcolor": "#E5ECF6",
                        "gridcolor": "white",
                        "gridwidth": 2,
                        "linecolor": "white",
                        "showbackground": true,
                        "ticks": "",
                        "zerolinecolor": "white"
                      },
                      "yaxis": {
                        "backgroundcolor": "#E5ECF6",
                        "gridcolor": "white",
                        "gridwidth": 2,
                        "linecolor": "white",
                        "showbackground": true,
                        "ticks": "",
                        "zerolinecolor": "white"
                      },
                      "zaxis": {
                        "backgroundcolor": "#E5ECF6",
                        "gridcolor": "white",
                        "gridwidth": 2,
                        "linecolor": "white",
                        "showbackground": true,
                        "ticks": "",
                        "zerolinecolor": "white"
                      }
                    },
                    "shapedefaults": {
                      "line": {
                        "color": "#2a3f5f"
                      }
                    },
                    "ternary": {
                      "aaxis": {
                        "gridcolor": "white",
                        "linecolor": "white",
                        "ticks": ""
                      },
                      "baxis": {
                        "gridcolor": "white",
                        "linecolor": "white",
                        "ticks": ""
                      },
                      "bgcolor": "#E5ECF6",
                      "caxis": {
                        "gridcolor": "white",
                        "linecolor": "white",
                        "ticks": ""
                      }
                    },
                    "title": {
                      "x": 0.05
                    },
                    "xaxis": {
                      "automargin": true,
                      "gridcolor": "white",
                      "linecolor": "white",
                      "ticks": "",
                      "title": {
                        "standoff": 15
                      },
                      "zerolinecolor": "white",
                      "zerolinewidth": 2
                    },
                    "yaxis": {
                      "automargin": true,
                      "gridcolor": "white",
                      "linecolor": "white",
                      "ticks": "",
                      "title": {
                        "standoff": 15
                      },
                      "zerolinecolor": "white",
                      "zerolinewidth": 2
                    }
                  }
                },
                "title": {
                  "text": "County-Level Death Rate"
                }
              }
            }
          },
          "metadata": {},
          "output_type": "display_data"
        }
      ],
      "source": [
        "import plotly.express as px\n",
        "\n",
        "deathrate_pd = county_death_rate.toPandas()\n",
        "\n",
        "fig = px.choropleth(\n",
        "    deathrate_pd,\n",
        "    geojson=\"https://raw.githubusercontent.com/plotly/datasets/master/geojson-counties-fips.json\",  # GeoJSON for counties\n",
        "    locations='fips',  # Use county FIPS codes\n",
        "    color='rate',  # Column to determine color intensity\n",
        "    color_continuous_scale='Viridis',\n",
        "    scope='usa',\n",
        "    title='County-Level Death Rate'\n",
        ")\n",
        "\n",
        "fig.show()\n"
      ]
    }
  ],
  "metadata": {
    "colab": {
      "provenance": []
    },
    "kernelspec": {
      "display_name": ".venv",
      "language": "python",
      "name": "python3"
    },
    "language_info": {
      "codemirror_mode": {
        "name": "ipython",
        "version": 3
      },
      "file_extension": ".py",
      "mimetype": "text/x-python",
      "name": "python",
      "nbconvert_exporter": "python",
      "pygments_lexer": "ipython3",
      "version": "3.11.9"
    }
  },
  "nbformat": 4,
  "nbformat_minor": 0
}
