{
 "cells": [
  {
   "cell_type": "code",
   "execution_count": 1,
   "metadata": {},
   "outputs": [
    {
     "name": "stdout",
     "output_type": "stream",
     "text": [
      "Collecting pyspark\n",
      "  Downloading pyspark-3.5.5.tar.gz (317.2 MB)\n",
      "     ---------------------------------------- 0.0/317.2 MB ? eta -:--:--\n",
      "     --------------------------------------- 1.6/317.2 MB 11.9 MB/s eta 0:00:27\n",
      "      -------------------------------------- 5.0/317.2 MB 15.9 MB/s eta 0:00:20\n",
      "     - ------------------------------------- 8.7/317.2 MB 16.3 MB/s eta 0:00:19\n",
      "     - ------------------------------------ 12.3/317.2 MB 16.8 MB/s eta 0:00:19\n",
      "     -- ----------------------------------- 17.0/317.2 MB 18.2 MB/s eta 0:00:17\n",
      "     -- ----------------------------------- 21.2/317.2 MB 18.4 MB/s eta 0:00:17\n",
      "     --- ---------------------------------- 25.7/317.2 MB 18.7 MB/s eta 0:00:16\n",
      "     --- ---------------------------------- 31.5/317.2 MB 20.2 MB/s eta 0:00:15\n",
      "     ---- --------------------------------- 37.0/317.2 MB 21.0 MB/s eta 0:00:14\n",
      "     ----- -------------------------------- 42.7/317.2 MB 21.6 MB/s eta 0:00:13\n",
      "     ----- -------------------------------- 48.0/317.2 MB 22.0 MB/s eta 0:00:13\n",
      "     ------ ------------------------------- 53.7/317.2 MB 22.7 MB/s eta 0:00:12\n",
      "     ------- ------------------------------ 59.0/317.2 MB 23.1 MB/s eta 0:00:12\n",
      "     ------- ------------------------------ 65.3/317.2 MB 23.5 MB/s eta 0:00:11\n",
      "     -------- ----------------------------- 72.1/317.2 MB 24.2 MB/s eta 0:00:11\n",
      "     --------- ---------------------------- 78.4/317.2 MB 24.6 MB/s eta 0:00:10\n",
      "     ---------- --------------------------- 85.2/317.2 MB 25.2 MB/s eta 0:00:10\n",
      "     ----------- -------------------------- 92.0/317.2 MB 25.6 MB/s eta 0:00:09\n",
      "     ----------- -------------------------- 98.3/317.2 MB 25.9 MB/s eta 0:00:09\n",
      "     ------------ ------------------------ 104.6/317.2 MB 26.2 MB/s eta 0:00:09\n",
      "     ------------ ------------------------ 111.1/317.2 MB 26.5 MB/s eta 0:00:08\n",
      "     ------------- ----------------------- 118.8/317.2 MB 26.9 MB/s eta 0:00:08\n",
      "     -------------- ---------------------- 125.8/317.2 MB 27.2 MB/s eta 0:00:08\n",
      "     --------------- --------------------- 132.1/317.2 MB 27.3 MB/s eta 0:00:07\n",
      "     ---------------- -------------------- 138.7/317.2 MB 27.5 MB/s eta 0:00:07\n",
      "     ----------------- ------------------- 145.8/317.2 MB 27.7 MB/s eta 0:00:07\n",
      "     ----------------- ------------------- 152.3/317.2 MB 27.9 MB/s eta 0:00:06\n",
      "     ------------------ ------------------ 159.6/317.2 MB 28.2 MB/s eta 0:00:06\n",
      "     ------------------- ----------------- 166.5/317.2 MB 28.3 MB/s eta 0:00:06\n",
      "     -------------------- ---------------- 172.8/317.2 MB 28.4 MB/s eta 0:00:06\n",
      "     -------------------- ---------------- 179.3/317.2 MB 28.5 MB/s eta 0:00:05\n",
      "     --------------------- --------------- 186.1/317.2 MB 28.6 MB/s eta 0:00:05\n",
      "     ---------------------- -------------- 192.7/317.2 MB 28.8 MB/s eta 0:00:05\n",
      "     ----------------------- ------------- 199.5/317.2 MB 28.9 MB/s eta 0:00:05\n",
      "     ----------------------- ------------- 205.5/317.2 MB 28.8 MB/s eta 0:00:04\n",
      "     ------------------------ ------------ 212.1/317.2 MB 28.9 MB/s eta 0:00:04\n",
      "     ------------------------- ----------- 218.4/317.2 MB 29.0 MB/s eta 0:00:04\n",
      "     -------------------------- ---------- 224.1/317.2 MB 28.9 MB/s eta 0:00:04\n",
      "     -------------------------- ---------- 230.2/317.2 MB 29.0 MB/s eta 0:00:04\n",
      "     --------------------------- --------- 237.5/317.2 MB 29.1 MB/s eta 0:00:03\n",
      "     ---------------------------- -------- 243.5/317.2 MB 29.1 MB/s eta 0:00:03\n",
      "     ----------------------------- ------- 250.3/317.2 MB 29.2 MB/s eta 0:00:03\n",
      "     ----------------------------- ------- 256.9/317.2 MB 29.3 MB/s eta 0:00:03\n",
      "     ------------------------------ ------ 264.0/317.2 MB 29.7 MB/s eta 0:00:02\n",
      "     ------------------------------- ----- 271.1/317.2 MB 30.3 MB/s eta 0:00:02\n",
      "     -------------------------------- ---- 278.1/317.2 MB 30.9 MB/s eta 0:00:02\n",
      "     --------------------------------- --- 285.2/317.2 MB 31.3 MB/s eta 0:00:02\n",
      "     ---------------------------------- -- 291.8/317.2 MB 31.5 MB/s eta 0:00:01\n",
      "     ---------------------------------- -- 298.8/317.2 MB 31.7 MB/s eta 0:00:01\n",
      "     ----------------------------------- - 305.7/317.2 MB 31.9 MB/s eta 0:00:01\n",
      "     ------------------------------------  313.0/317.2 MB 32.2 MB/s eta 0:00:01\n",
      "     ------------------------------------  317.2/317.2 MB 32.4 MB/s eta 0:00:01\n",
      "     ------------------------------------  317.2/317.2 MB 32.4 MB/s eta 0:00:01\n",
      "     ------------------------------------  317.2/317.2 MB 32.4 MB/s eta 0:00:01\n",
      "     ------------------------------------- 317.2/317.2 MB 30.3 MB/s eta 0:00:00\n",
      "  Preparing metadata (setup.py): started\n",
      "  Preparing metadata (setup.py): finished with status 'done'\n",
      "Collecting py4j==0.10.9.7 (from pyspark)\n",
      "  Downloading py4j-0.10.9.7-py2.py3-none-any.whl.metadata (1.5 kB)\n",
      "Downloading py4j-0.10.9.7-py2.py3-none-any.whl (200 kB)\n",
      "Building wheels for collected packages: pyspark\n",
      "  Building wheel for pyspark (setup.py): started\n",
      "  Building wheel for pyspark (setup.py): finished with status 'done'\n",
      "  Created wheel for pyspark: filename=pyspark-3.5.5-py2.py3-none-any.whl size=317747901 sha256=fabdf350dd4367b49d779b4436b15baf20a2d227f7431490cc1943d19acff07c\n",
      "  Stored in directory: c:\\users\\sarah\\appdata\\local\\packages\\pythonsoftwarefoundation.python.3.11_qbz5n2kfra8p0\\localcache\\local\\pip\\cache\\wheels\\0c\\7f\\b4\\0e68c6d8d89d2e582e5498ad88616c16d7c19028680e9d3840\n",
      "Successfully built pyspark\n",
      "Installing collected packages: py4j, pyspark\n",
      "\n",
      "   ---------------------------------------- 0/2 [py4j]\n",
      "   ---------------------------------------- 0/2 [py4j]\n",
      "   -------------------- ------------------- 1/2 [pyspark]\n",
      "   -------------------- ------------------- 1/2 [pyspark]\n",
      "   -------------------- ------------------- 1/2 [pyspark]\n",
      "   -------------------- ------------------- 1/2 [pyspark]\n",
      "   -------------------- ------------------- 1/2 [pyspark]\n",
      "   -------------------- ------------------- 1/2 [pyspark]\n",
      "   -------------------- ------------------- 1/2 [pyspark]\n",
      "   -------------------- ------------------- 1/2 [pyspark]\n",
      "   -------------------- ------------------- 1/2 [pyspark]\n",
      "   -------------------- ------------------- 1/2 [pyspark]\n",
      "   -------------------- ------------------- 1/2 [pyspark]\n",
      "   -------------------- ------------------- 1/2 [pyspark]\n",
      "   -------------------- ------------------- 1/2 [pyspark]\n",
      "   -------------------- ------------------- 1/2 [pyspark]\n",
      "   -------------------- ------------------- 1/2 [pyspark]\n",
      "   -------------------- ------------------- 1/2 [pyspark]\n",
      "   -------------------- ------------------- 1/2 [pyspark]\n",
      "   -------------------- ------------------- 1/2 [pyspark]\n",
      "   -------------------- ------------------- 1/2 [pyspark]\n",
      "   -------------------- ------------------- 1/2 [pyspark]\n",
      "   -------------------- ------------------- 1/2 [pyspark]\n",
      "   -------------------- ------------------- 1/2 [pyspark]\n",
      "   -------------------- ------------------- 1/2 [pyspark]\n",
      "   -------------------- ------------------- 1/2 [pyspark]\n",
      "   -------------------- ------------------- 1/2 [pyspark]\n",
      "   -------------------- ------------------- 1/2 [pyspark]\n",
      "   -------------------- ------------------- 1/2 [pyspark]\n",
      "   ---------------------------------------- 2/2 [pyspark]\n",
      "\n",
      "Successfully installed py4j-0.10.9.7 pyspark-3.5.5\n",
      "Note: you may need to restart the kernel to use updated packages.\n"
     ]
    },
    {
     "name": "stderr",
     "output_type": "stream",
     "text": [
      "  DEPRECATION: Building 'pyspark' using the legacy setup.py bdist_wheel mechanism, which will be removed in a future version. pip 25.3 will enforce this behaviour change. A possible replacement is to use the standardized build interface by setting the `--use-pep517` option, (possibly combined with `--no-build-isolation`), or adding a `pyproject.toml` file to the source tree of 'pyspark'. Discussion can be found at https://github.com/pypa/pip/issues/6334\n"
     ]
    }
   ],
   "source": [
    "# Setup Spark SQL\n",
    "# Note if running locally you need the JVM https://www.oracle.com/java/technologies/downloads/ \n",
    "# Consider running in https://colab.research.google.com/\n",
    "%pip install pyspark"
   ]
  },
  {
   "cell_type": "code",
   "execution_count": 2,
   "metadata": {},
   "outputs": [],
   "source": [
    "import pyspark\n",
    "from pyspark.sql import SparkSession\n",
    "\n",
    "spark = SparkSession.builder \\\n",
    "    .appName(\"HelloWorld\") \\\n",
    "    .getOrCreate()\n",
    "sc = spark.sparkContext\n",
    "sc.setLogLevel('WARN')"
   ]
  },
  {
   "cell_type": "code",
   "execution_count": 3,
   "metadata": {},
   "outputs": [
    {
     "name": "stdout",
     "output_type": "stream",
     "text": [
      "[1, 4, 9, 16]\n"
     ]
    }
   ],
   "source": [
    "nums = sc.parallelize([1,2,3,4])\n",
    "print(nums.map(lambda x: x*x).collect())"
   ]
  },
  {
   "cell_type": "code",
   "execution_count": 4,
   "metadata": {},
   "outputs": [
    {
     "name": "stderr",
     "output_type": "stream",
     "text": [
      "  % Total    % Received % Xferd  Average Speed   Time    Time     Time  Current\n",
      "                                 Dload  Upload   Total   Spent    Left  Speed\n",
      "\n",
      "  0     0    0     0    0     0      0      0 --:--:-- --:--:-- --:--:--     0\n",
      "  0     0    0     0    0     0      0      0 --:--:-- --:--:-- --:--:--     0\n",
      " 21 1551k   21  333k    0     0   302k      0  0:00:05  0:00:01  0:00:04  302k\n",
      "100 1551k  100 1551k    0     0   953k      0  0:00:01  0:00:01 --:--:--  953k\n"
     ]
    }
   ],
   "source": [
    "# Download the Book of Mormon as a text file from Gutenburg\n",
    "!curl -L https://ia601205.us.archive.org/18/items/thebookofmormon00017gut/mormon13.txt > bookOfMormon.txt"
   ]
  },
  {
   "cell_type": "code",
   "execution_count": 5,
   "metadata": {},
   "outputs": [
    {
     "data": {
      "text/plain": [
       "['zealously striving to repair all the injuries which they had done',\n",
       " 'zealous for keeping the commandments of God.',\n",
       " 'youth, and ye stand in need to be nourished by your brothers. ',\n",
       " 'yourselves?',\n",
       " 'yourselves, that ye may have hope as well as your brethren from',\n",
       " 'yourselves, that ye have been sufficiently humble?  That your',\n",
       " 'yourselves, and your thoughts, and your words, and your deeds,',\n",
       " 'yourselves wrath against the day of judgment.',\n",
       " 'yourselves unto him that he may have power over you, to blind',\n",
       " 'yourselves treasures in heaven, where nothing doth corrupt, and']"
      ]
     },
     "execution_count": 5,
     "metadata": {},
     "output_type": "execute_result"
    }
   ],
   "source": [
    "# Read all the lines of the text file (textFile auto does parallelization)\n",
    "lines = sc.textFile(\"bookOfMormon.txt\")\n",
    "\n",
    "lines.top(10)"
   ]
  },
  {
   "cell_type": "code",
   "execution_count": 6,
   "metadata": {},
   "outputs": [
    {
     "data": {
      "text/plain": [
       "40116"
      ]
     },
     "execution_count": 6,
     "metadata": {},
     "output_type": "execute_result"
    }
   ],
   "source": [
    "# Count how many lines there are\n",
    "lines.count()"
   ]
  },
  {
   "cell_type": "code",
   "execution_count": 7,
   "metadata": {},
   "outputs": [
    {
     "data": {
      "text/plain": [
       "7651"
      ]
     },
     "execution_count": 7,
     "metadata": {},
     "output_type": "execute_result"
    }
   ],
   "source": [
    "# Count how many duplicate lines?\n",
    "allCount = lines.count()\n",
    "distinctCount = lines.distinct().count()\n",
    "\n",
    "allCount - distinctCount"
   ]
  },
  {
   "cell_type": "code",
   "execution_count": 8,
   "metadata": {},
   "outputs": [
    {
     "data": {
      "text/plain": [
       "[('', 1),\n",
       " ('****This is the Project Gutenberg edition of Book of Mormon****', 1),\n",
       " ('This 13th edition should be labeled mormon13.txt or mormon13.zip', 1),\n",
       " ('***This edition is being officially released on March 8, 1992***', 1),\n",
       " ('', 1),\n",
       " ('[Date last updated: May 22, 2005]', 1),\n",
       " (' ', 1),\n",
       " ('Corrected EDITIONS of our etexts get a new NUMBER, xxxxx11.txt.', 1),\n",
       " ('VERSIONS based on separate sources get new LETTER, xxxxx10a.txt.', 1),\n",
       " ('', 1)]"
      ]
     },
     "execution_count": 8,
     "metadata": {},
     "output_type": "execute_result"
    }
   ],
   "source": [
    "# What are some of those duplicate lines?\n",
    "\n",
    "# start each line count at one, key = line (key, count)\n",
    "lineCounts = lines.map(lambda line: (line, 1)) \n",
    "\n",
    "lineCounts.take(10)"
   ]
  },
  {
   "cell_type": "code",
   "execution_count": 9,
   "metadata": {},
   "outputs": [
    {
     "data": {
      "text/plain": [
       "[('', 6937),\n",
       " ('****This is the Project Gutenberg edition of Book of Mormon****', 1),\n",
       " ('This 13th edition should be labeled mormon13.txt or mormon13.zip', 1),\n",
       " ('[Date last updated: May 22, 2005]', 1),\n",
       " (' ', 2),\n",
       " ('Corrected EDITIONS of our etexts get a new NUMBER, xxxxx11.txt.', 1),\n",
       " ('to get any etext selected, entered, proofread, edited, copyright', 1),\n",
       " ('projected audience is one hundred million readers.  If our value', 1),\n",
       " ('The Goal of Project Gutenberg is to Give Away One Trillion Etext', 1),\n",
       " ('Files by the December 31, 2001.  [10,000 x 100,000,000=Trillion]', 1)]"
      ]
     },
     "execution_count": 9,
     "metadata": {},
     "output_type": "execute_result"
    }
   ],
   "source": [
    "# reduce by key in a parallel way, matching up duplicate lines and summing their counts\n",
    "lineCounts = lineCounts.reduceByKey(lambda lineCount1, lineCount2: lineCount1 + lineCount2) \n",
    "\n",
    "lineCounts.take(10)"
   ]
  },
  {
   "cell_type": "code",
   "execution_count": 10,
   "metadata": {},
   "outputs": [
    {
     "data": {
      "text/plain": [
       "[('', 6937),\n",
       " ('them.', 33),\n",
       " ('people.', 18),\n",
       " ('God.', 15),\n",
       " ('land.', 15),\n",
       " ('wilderness.', 14),\n",
       " ('saying:', 11),\n",
       " ('Chapter 2', 10),\n",
       " ('Chapter 3', 10),\n",
       " ('Chapter 4', 10),\n",
       " ('him.', 10),\n",
       " ('Israel.', 10),\n",
       " ('Chapter 1', 10),\n",
       " ('Chapter 5', 10),\n",
       " ('Chapter 6', 10),\n",
       " ('Chapter 7', 10),\n",
       " ('Chapter 8', 9),\n",
       " ('judges over the people of Nephi.', 9),\n",
       " ('Chapter 9', 9),\n",
       " ('Nephi.', 8)]"
      ]
     },
     "execution_count": 10,
     "metadata": {},
     "output_type": "execute_result"
    }
   ],
   "source": [
    "sortedLineCounts = lineCounts.sortBy(lambda t: t[1], False)\n",
    "sortedLineCounts.take(20)"
   ]
  },
  {
   "cell_type": "code",
   "execution_count": 39,
   "metadata": {},
   "outputs": [
    {
     "data": {
      "text/plain": [
       "[('the', 19304),\n",
       " ('and', 16406),\n",
       " ('of', 11863),\n",
       " ('that', 6901),\n",
       " ('to', 6510),\n",
       " ('they', 4495),\n",
       " ('in', 3715),\n",
       " ('unto', 3643),\n",
       " ('i', 3321),\n",
       " ('he', 3178),\n",
       " ('it', 3108),\n",
       " ('nephi', 2812),\n",
       " ('their', 2808),\n",
       " ('them', 2653),\n",
       " ('for', 2548),\n",
       " ('be', 2527),\n",
       " ('shall', 2490),\n",
       " ('alma', 2295),\n",
       " ('his', 2255),\n",
       " ('which', 2219),\n",
       " ('a', 2171),\n",
       " ('not', 2088),\n",
       " ('were', 2019),\n",
       " ('ye', 2012),\n",
       " ('did', 1990),\n",
       " ('have', 1795),\n",
       " ('all', 1793),\n",
       " ('had', 1767),\n",
       " ('people', 1764),\n",
       " ('my', 1702)]"
      ]
     },
     "execution_count": 39,
     "metadata": {},
     "output_type": "execute_result"
    }
   ],
   "source": [
    "# What would you you need to count all the words?\n",
    "bom_words = lines.flatMap(lambda line: [i for i in re.split('[^a-zA-Z]', line.lower()) if i])\n",
    "bom_words.take(50)\n",
    "bom_words.count()\n",
    "bom_word_counts = bom_words.map(lambda word: (word, 1))\n",
    "bom_word_counts = bom_word_counts.reduceByKey(lambda count1, count2: count1 + count2)\n",
    "sorted_bom_counts = bom_word_counts.sortBy(lambda t: t[1], False)\n",
    "sorted_bom_counts.take(30)"
   ]
  },
  {
   "cell_type": "code",
   "execution_count": 16,
   "metadata": {},
   "outputs": [
    {
     "name": "stdout",
     "output_type": "stream",
     "text": [
      "['what', 'is', 'this', 'a', 'helicopter', 'a', 'plane', 'super', 'hero']\n"
     ]
    }
   ],
   "source": [
    "# Python tip - \n",
    "import re\n",
    "line = \"What is this? 1. A Helicopter. 2. A plane. 3. Super hero\"\n",
    "re.split('[^a-zA-Z]', line)\n",
    "\n",
    "# my own use in combination with lower()\n",
    "words = [i.lower() for i in re.split('[^a-zA-Z]', line) if i != '']\n",
    "print(words)"
   ]
  },
  {
   "cell_type": "code",
   "execution_count": 12,
   "metadata": {},
   "outputs": [
    {
     "data": {
      "text/plain": [
       "'this had some uppercase letters'"
      ]
     },
     "execution_count": 12,
     "metadata": {},
     "output_type": "execute_result"
    }
   ],
   "source": [
    "# Python tip\n",
    "\"This Had somE uPPerCase LeTtErs\".lower()"
   ]
  },
  {
   "cell_type": "code",
   "execution_count": 13,
   "metadata": {},
   "outputs": [
    {
     "data": {
      "text/plain": [
       "['Hello', 'World!', 'Take', 'your', 'vitamins!', 'Get', 'enough', 'sleep!']"
      ]
     },
     "execution_count": 13,
     "metadata": {},
     "output_type": "execute_result"
    }
   ],
   "source": [
    "# SparkSQL tip!\n",
    "# Flat map  -- take rows of arrays and make each element in array a new row a\n",
    "\n",
    "sentences = sc.parallelize([\"Hello World!\", \"Take your vitamins!\", \"Get enough sleep!\"])\n",
    "words = sentences.flatMap(lambda sentence: sentence.split())\n",
    "words.take(20)"
   ]
  }
 ],
 "metadata": {
  "kernelspec": {
   "display_name": ".venv",
   "language": "python",
   "name": "python3"
  },
  "language_info": {
   "codemirror_mode": {
    "name": "ipython",
    "version": 3
   },
   "file_extension": ".py",
   "mimetype": "text/x-python",
   "name": "python",
   "nbconvert_exporter": "python",
   "pygments_lexer": "ipython3",
   "version": "3.11.9"
  },
  "orig_nbformat": 4
 },
 "nbformat": 4,
 "nbformat_minor": 2
}
