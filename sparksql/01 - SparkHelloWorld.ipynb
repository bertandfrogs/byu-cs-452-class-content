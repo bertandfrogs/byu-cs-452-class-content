{
 "cells": [
  {
   "cell_type": "code",
   "execution_count": null,
   "metadata": {},
   "outputs": [],
   "source": [
    "# Setup Spark SQL\n",
    "# Note if running locally you need the JVM https://www.oracle.com/java/technologies/downloads/ \n",
    "# Consider running in https://colab.research.google.com/\n",
    "%pip install pyspark"
   ]
  },
  {
   "cell_type": "code",
   "execution_count": 1,
   "metadata": {},
   "outputs": [],
   "source": [
    "\n",
    "import pyspark\n",
    "from pyspark.sql import SparkSession\n",
    "\n",
    "spark = SparkSession.builder.appName(\"BibleCounter\").getOrCreate()\n",
    "sc = spark.sparkContext\n",
    "sc.setLogLevel('WARN')"
   ]
  },
  {
   "cell_type": "code",
   "execution_count": 10,
   "metadata": {},
   "outputs": [
    {
     "name": "stderr",
     "output_type": "stream",
     "text": [
      "  % Total    % Received % Xferd  Average Speed   Time    Time     Time  Current\n",
      "                                 Dload  Upload   Total   Spent    Left  Speed\n",
      "\n",
      "  0     0    0     0    0     0      0      0 --:--:-- --:--:-- --:--:--     0\n",
      "  0     0    0     0    0     0      0      0 --:--:-- --:--:-- --:--:--     0\n",
      " 14 4351k   14  618k    0     0   546k      0  0:00:07  0:00:01  0:00:06  547k\n",
      " 66 4351k   66 2897k    0     0  1375k      0  0:00:03  0:00:02  0:00:01 1376k\n",
      "100 4351k  100 4351k    0     0  1747k      0  0:00:02  0:00:02 --:--:-- 1748k\n"
     ]
    }
   ],
   "source": [
    "# Download the bible as txt\n",
    "!curl -L \"https://www.gutenberg.org/cache/epub/10/pg10.txt\" > bible.txt"
   ]
  },
  {
   "cell_type": "code",
   "execution_count": 8,
   "metadata": {},
   "outputs": [
    {
     "name": "stdout",
     "output_type": "stream",
     "text": [
      "792193 words\n"
     ]
    },
    {
     "data": {
      "text/plain": [
       "[('the', 64116),\n",
       " ('and', 51696),\n",
       " ('of', 34722),\n",
       " ('to', 13598),\n",
       " ('that', 12912),\n",
       " ('in', 12667),\n",
       " ('he', 10419),\n",
       " ('shall', 9838),\n",
       " ('unto', 8997),\n",
       " ('for', 8971)]"
      ]
     },
     "execution_count": 8,
     "metadata": {},
     "output_type": "execute_result"
    }
   ],
   "source": [
    "import re\n",
    "# Use SparkSQL to list all the words in the bible with their counts sorted descending by count.\n",
    "# Turn in your code and sample of your results (at least top 20). \n",
    "# Be sure to ignore case and punctuation and eliminate the blank lines.\n",
    "\n",
    "bible_lines = sc.textFile(\"bible.txt\")\n",
    "bible_words = bible_lines.flatMap(lambda line: [i for i in re.split('[^a-zA-Z]', line.lower()) if i])\n",
    "print(bible_words.count(), \"words\")\n",
    "bible_word_counts = bible_words.map(lambda word: (word, 1))\n",
    "bible_word_counts = bible_word_counts.reduceByKey(lambda count1, count2: count1 + count2)\n",
    "sorted_bible_counts = bible_word_counts.sortBy(lambda t: t[1], False)\n",
    "sorted_bible_counts.take(10)"
   ]
  },
  {
   "cell_type": "code",
   "execution_count": 9,
   "metadata": {},
   "outputs": [
    {
     "name": "stdout",
     "output_type": "stream",
     "text": [
      "275956 words\n"
     ]
    },
    {
     "data": {
      "text/plain": [
       "[('the', 19240),\n",
       " ('and', 16367),\n",
       " ('of', 11817),\n",
       " ('that', 6888),\n",
       " ('to', 6455),\n",
       " ('they', 4491),\n",
       " ('in', 3697),\n",
       " ('unto', 3643),\n",
       " ('i', 3317),\n",
       " ('he', 3178)]"
      ]
     },
     "execution_count": 9,
     "metadata": {},
     "output_type": "execute_result"
    }
   ],
   "source": [
    "bom_lines = sc.textFile(\"bookOfMormon.txt\")\n",
    "bom_words = bom_lines.flatMap(lambda line: [i for i in re.split('[^a-zA-Z]', line.lower()) if i])\n",
    "print(bom_words.count(), \"words\")\n",
    "bom_word_counts = bom_words.map(lambda word: (word, 1))\n",
    "bom_word_counts = bom_word_counts.reduceByKey(lambda count1, count2: count1 + count2)\n",
    "sorted_bom_counts = bom_word_counts.sortBy(lambda t: t[1], False)\n",
    "sorted_bom_counts.take(10)"
   ]
  },
  {
   "cell_type": "code",
   "execution_count": null,
   "metadata": {},
   "outputs": [],
   "source": []
  }
 ],
 "metadata": {
  "kernelspec": {
   "display_name": ".venv",
   "language": "python",
   "name": "python3"
  },
  "language_info": {
   "codemirror_mode": {
    "name": "ipython",
    "version": 3
   },
   "file_extension": ".py",
   "mimetype": "text/x-python",
   "name": "python",
   "nbconvert_exporter": "python",
   "pygments_lexer": "ipython3",
   "version": "3.11.9"
  },
  "orig_nbformat": 4
 },
 "nbformat": 4,
 "nbformat_minor": 2
}
